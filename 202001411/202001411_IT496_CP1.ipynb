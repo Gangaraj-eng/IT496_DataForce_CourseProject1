{
 "cells": [
  {
   "cell_type": "markdown",
   "id": "0e3347f8",
   "metadata": {},
   "source": [
    "# <font size=6 color='green'><center>**IT 496 - Introduction to Data Mining**</center></font>\n",
    "### **<center>Course Project - 01<br/><br/>Data Preprocessing, EDA and Regression Analysis<center>**\n",
    "\n",
    " &emsp; **Group Name : <font color='#0099ff'>DataForce</font>** <br/>\n",
    " &emsp; **Group ID : <font color='#0099ff'>T06</font>**\n",
    " <br/>&emsp; **Dateset : <font color='#0099ff'>EV Charging Station</font>**"
   ]
  },
  {
   "cell_type": "markdown",
   "id": "30e69b0a",
   "metadata": {},
   "source": [
    "### <center>Introduction </center>"
   ]
  },
  {
   "cell_type": "markdown",
   "id": "0334b325",
   "metadata": {},
   "source": [
    "**Dataset Name**: Electric Vehicle(EV) Charging station<br/><br/>\n",
    "The EV Charging Station dataset provides the availability, use, and demand for EV charging facilities, which helps researchers, analysts, and businesses better understand the regional EV industry and sustainable transportation methods.Information on charging station locations, available charging connector types, charging session lengths, energy usage, and other pertinent metrics are all included in the data. \n",
    "<br/><br/>\n",
    "**Use**: To provide comprehensive insights into the usage patterns of Electric Vehicle(EV) charging stations in the city of Palo Alto, California<br/>\n",
    "\n",
    "**Dataset Link**: https://www.kaggle.com/datasets/venkatsairo4899/ev-charging-station-usage-of-california-city"
   ]
  },
  {
   "cell_type": "markdown",
   "id": "c252e2cd",
   "metadata": {},
   "source": [
    "### <center>Exploratory Data Analysis(EDA)</center>"
   ]
  },
  {
   "cell_type": "markdown",
   "id": "00dcce68",
   "metadata": {},
   "source": [
    "**T1.** Explore the dataset assigned to your team and provide:\n"
   ]
  },
  {
   "cell_type": "markdown",
   "id": "5d54345f",
   "metadata": {},
   "source": [
    "$a$. A summary of the dataset (should include information columns present, attribute\n",
    "types, null values, and a summary of each attribute)."
   ]
  },
  {
   "cell_type": "markdown",
   "id": "04f8ba09",
   "metadata": {},
   "source": [
    "$b$. Data Visualization, summarizing insights about the dataset through EDA."
   ]
  },
  {
   "cell_type": "code",
   "execution_count": 33,
   "id": "36230512",
   "metadata": {},
   "outputs": [],
   "source": [
    "# importing required libraries\n",
    "import numpy as np\n",
    "import pandas as pd\n",
    "import matplotlib.pyplot as plt\n",
    "import seaborn as sns\n",
    "from sklearn import preprocessing\n",
    "from sklearn.preprocessing import RobustScaler\n",
    "from sklearn.model_selection import train_test_split"
   ]
  },
  {
   "cell_type": "code",
   "execution_count": 2,
   "id": "e33dfe73",
   "metadata": {},
   "outputs": [],
   "source": [
    "# temporary, just to load dataset\n",
    "data = pd.read_csv(r\"C:\\Users\\Rishit Shah\\Documents\\Semester 7\\Introduction to Data Mining\\Course Project 1\\archive (1)\\EVChargingStationUsage.csv\",low_memory=False)"
   ]
  },
  {
   "cell_type": "code",
   "execution_count": 3,
   "id": "cbe57fdb",
   "metadata": {},
   "outputs": [
    {
     "data": {
      "text/html": [
       "<div>\n",
       "<style scoped>\n",
       "    .dataframe tbody tr th:only-of-type {\n",
       "        vertical-align: middle;\n",
       "    }\n",
       "\n",
       "    .dataframe tbody tr th {\n",
       "        vertical-align: top;\n",
       "    }\n",
       "\n",
       "    .dataframe thead th {\n",
       "        text-align: right;\n",
       "    }\n",
       "</style>\n",
       "<table border=\"1\" class=\"dataframe\">\n",
       "  <thead>\n",
       "    <tr style=\"text-align: right;\">\n",
       "      <th></th>\n",
       "      <th>Station Name</th>\n",
       "      <th>MAC Address</th>\n",
       "      <th>Org Name</th>\n",
       "      <th>Start Date</th>\n",
       "      <th>Start Time Zone</th>\n",
       "      <th>End Date</th>\n",
       "      <th>End Time Zone</th>\n",
       "      <th>Transaction Date (Pacific Time)</th>\n",
       "      <th>Total Duration (hh:mm:ss)</th>\n",
       "      <th>Charging Time (hh:mm:ss)</th>\n",
       "      <th>...</th>\n",
       "      <th>Longitude</th>\n",
       "      <th>Currency</th>\n",
       "      <th>Fee</th>\n",
       "      <th>Ended By</th>\n",
       "      <th>Plug In Event Id</th>\n",
       "      <th>Driver Postal Code</th>\n",
       "      <th>User ID</th>\n",
       "      <th>County</th>\n",
       "      <th>System S/N</th>\n",
       "      <th>Model Number</th>\n",
       "    </tr>\n",
       "  </thead>\n",
       "  <tbody>\n",
       "    <tr>\n",
       "      <th>0</th>\n",
       "      <td>PALO ALTO CA / HAMILTON #1</td>\n",
       "      <td>000D:6F00:015A:9D76</td>\n",
       "      <td>City of Palo Alto</td>\n",
       "      <td>7/29/2011 20:17</td>\n",
       "      <td>PDT</td>\n",
       "      <td>7/29/2011 23:20</td>\n",
       "      <td>PDT</td>\n",
       "      <td>7/29/2011 23:20</td>\n",
       "      <td>3:03:32</td>\n",
       "      <td>1:54:03</td>\n",
       "      <td>...</td>\n",
       "      <td>-122.160309</td>\n",
       "      <td>USD</td>\n",
       "      <td>0.0</td>\n",
       "      <td>Plug Out at Vehicle</td>\n",
       "      <td>3</td>\n",
       "      <td>95124.0</td>\n",
       "      <td>3284</td>\n",
       "      <td>NaN</td>\n",
       "      <td>NaN</td>\n",
       "      <td>NaN</td>\n",
       "    </tr>\n",
       "    <tr>\n",
       "      <th>1</th>\n",
       "      <td>PALO ALTO CA / HAMILTON #1</td>\n",
       "      <td>000D:6F00:015A:9D76</td>\n",
       "      <td>City of Palo Alto</td>\n",
       "      <td>7/30/2011 0:00</td>\n",
       "      <td>PDT</td>\n",
       "      <td>7/30/2011 0:02</td>\n",
       "      <td>PDT</td>\n",
       "      <td>7/30/2011 0:02</td>\n",
       "      <td>0:02:06</td>\n",
       "      <td>0:01:54</td>\n",
       "      <td>...</td>\n",
       "      <td>-122.160309</td>\n",
       "      <td>USD</td>\n",
       "      <td>0.0</td>\n",
       "      <td>Customer</td>\n",
       "      <td>4</td>\n",
       "      <td>94301.0</td>\n",
       "      <td>4169</td>\n",
       "      <td>NaN</td>\n",
       "      <td>NaN</td>\n",
       "      <td>NaN</td>\n",
       "    </tr>\n",
       "    <tr>\n",
       "      <th>2</th>\n",
       "      <td>PALO ALTO CA / HAMILTON #1</td>\n",
       "      <td>000D:6F00:015A:9D76</td>\n",
       "      <td>City of Palo Alto</td>\n",
       "      <td>7/30/2011 8:16</td>\n",
       "      <td>PDT</td>\n",
       "      <td>7/30/2011 12:34</td>\n",
       "      <td>PDT</td>\n",
       "      <td>7/30/2011 12:34</td>\n",
       "      <td>4:17:32</td>\n",
       "      <td>4:17:28</td>\n",
       "      <td>...</td>\n",
       "      <td>-122.160309</td>\n",
       "      <td>USD</td>\n",
       "      <td>0.0</td>\n",
       "      <td>Plug Out at Vehicle</td>\n",
       "      <td>5</td>\n",
       "      <td>94301.0</td>\n",
       "      <td>4169</td>\n",
       "      <td>NaN</td>\n",
       "      <td>NaN</td>\n",
       "      <td>NaN</td>\n",
       "    </tr>\n",
       "    <tr>\n",
       "      <th>3</th>\n",
       "      <td>PALO ALTO CA / HAMILTON #1</td>\n",
       "      <td>000D:6F00:015A:9D76</td>\n",
       "      <td>City of Palo Alto</td>\n",
       "      <td>7/30/2011 14:51</td>\n",
       "      <td>PDT</td>\n",
       "      <td>7/30/2011 16:55</td>\n",
       "      <td>PDT</td>\n",
       "      <td>7/30/2011 16:55</td>\n",
       "      <td>2:03:24</td>\n",
       "      <td>2:02:58</td>\n",
       "      <td>...</td>\n",
       "      <td>-122.160309</td>\n",
       "      <td>USD</td>\n",
       "      <td>0.0</td>\n",
       "      <td>Customer</td>\n",
       "      <td>6</td>\n",
       "      <td>94302.0</td>\n",
       "      <td>2545</td>\n",
       "      <td>NaN</td>\n",
       "      <td>NaN</td>\n",
       "      <td>NaN</td>\n",
       "    </tr>\n",
       "    <tr>\n",
       "      <th>4</th>\n",
       "      <td>PALO ALTO CA / HAMILTON #1</td>\n",
       "      <td>000D:6F00:015A:9D76</td>\n",
       "      <td>City of Palo Alto</td>\n",
       "      <td>7/30/2011 18:51</td>\n",
       "      <td>PDT</td>\n",
       "      <td>7/30/2011 20:03</td>\n",
       "      <td>PDT</td>\n",
       "      <td>7/30/2011 20:03</td>\n",
       "      <td>1:11:24</td>\n",
       "      <td>0:43:54</td>\n",
       "      <td>...</td>\n",
       "      <td>-122.160309</td>\n",
       "      <td>USD</td>\n",
       "      <td>0.0</td>\n",
       "      <td>Plug Out at Vehicle</td>\n",
       "      <td>7</td>\n",
       "      <td>94043.0</td>\n",
       "      <td>3765</td>\n",
       "      <td>NaN</td>\n",
       "      <td>NaN</td>\n",
       "      <td>NaN</td>\n",
       "    </tr>\n",
       "  </tbody>\n",
       "</table>\n",
       "<p>5 rows × 33 columns</p>\n",
       "</div>"
      ],
      "text/plain": [
       "                 Station Name          MAC Address           Org Name  \\\n",
       "0  PALO ALTO CA / HAMILTON #1  000D:6F00:015A:9D76  City of Palo Alto   \n",
       "1  PALO ALTO CA / HAMILTON #1  000D:6F00:015A:9D76  City of Palo Alto   \n",
       "2  PALO ALTO CA / HAMILTON #1  000D:6F00:015A:9D76  City of Palo Alto   \n",
       "3  PALO ALTO CA / HAMILTON #1  000D:6F00:015A:9D76  City of Palo Alto   \n",
       "4  PALO ALTO CA / HAMILTON #1  000D:6F00:015A:9D76  City of Palo Alto   \n",
       "\n",
       "        Start Date Start Time Zone         End Date End Time Zone  \\\n",
       "0  7/29/2011 20:17             PDT  7/29/2011 23:20           PDT   \n",
       "1   7/30/2011 0:00             PDT   7/30/2011 0:02           PDT   \n",
       "2   7/30/2011 8:16             PDT  7/30/2011 12:34           PDT   \n",
       "3  7/30/2011 14:51             PDT  7/30/2011 16:55           PDT   \n",
       "4  7/30/2011 18:51             PDT  7/30/2011 20:03           PDT   \n",
       "\n",
       "  Transaction Date (Pacific Time) Total Duration (hh:mm:ss)  \\\n",
       "0                 7/29/2011 23:20                   3:03:32   \n",
       "1                  7/30/2011 0:02                   0:02:06   \n",
       "2                 7/30/2011 12:34                   4:17:32   \n",
       "3                 7/30/2011 16:55                   2:03:24   \n",
       "4                 7/30/2011 20:03                   1:11:24   \n",
       "\n",
       "  Charging Time (hh:mm:ss)  ...   Longitude  Currency  Fee  \\\n",
       "0                  1:54:03  ... -122.160309       USD  0.0   \n",
       "1                  0:01:54  ... -122.160309       USD  0.0   \n",
       "2                  4:17:28  ... -122.160309       USD  0.0   \n",
       "3                  2:02:58  ... -122.160309       USD  0.0   \n",
       "4                  0:43:54  ... -122.160309       USD  0.0   \n",
       "\n",
       "              Ended By  Plug In Event Id Driver Postal Code  User ID County  \\\n",
       "0  Plug Out at Vehicle                 3            95124.0     3284    NaN   \n",
       "1             Customer                 4            94301.0     4169    NaN   \n",
       "2  Plug Out at Vehicle                 5            94301.0     4169    NaN   \n",
       "3             Customer                 6            94302.0     2545    NaN   \n",
       "4  Plug Out at Vehicle                 7            94043.0     3765    NaN   \n",
       "\n",
       "  System S/N Model Number  \n",
       "0        NaN          NaN  \n",
       "1        NaN          NaN  \n",
       "2        NaN          NaN  \n",
       "3        NaN          NaN  \n",
       "4        NaN          NaN  \n",
       "\n",
       "[5 rows x 33 columns]"
      ]
     },
     "execution_count": 3,
     "metadata": {},
     "output_type": "execute_result"
    }
   ],
   "source": [
    "data.head()"
   ]
  },
  {
   "cell_type": "code",
   "execution_count": 4,
   "id": "74511a32",
   "metadata": {},
   "outputs": [
    {
     "data": {
      "text/plain": [
       "(259415, 33)"
      ]
     },
     "execution_count": 4,
     "metadata": {},
     "output_type": "execute_result"
    }
   ],
   "source": [
    "data.shape"
   ]
  },
  {
   "cell_type": "code",
   "execution_count": 5,
   "id": "62af00a7",
   "metadata": {},
   "outputs": [
    {
     "data": {
      "text/plain": [
       "Index(['Station Name', 'MAC Address', 'Org Name', 'Start Date',\n",
       "       'Start Time Zone', 'End Date', 'End Time Zone',\n",
       "       'Transaction Date (Pacific Time)', 'Total Duration (hh:mm:ss)',\n",
       "       'Charging Time (hh:mm:ss)', 'Energy (kWh)', 'GHG Savings (kg)',\n",
       "       'Gasoline Savings (gallons)', 'Port Type', 'Port Number', 'Plug Type',\n",
       "       'EVSE ID', 'Address 1', 'City', 'State/Province', 'Postal Code',\n",
       "       'Country', 'Latitude', 'Longitude', 'Currency', 'Fee', 'Ended By',\n",
       "       'Plug In Event Id', 'Driver Postal Code', 'User ID', 'County',\n",
       "       'System S/N', 'Model Number'],\n",
       "      dtype='object')"
      ]
     },
     "execution_count": 5,
     "metadata": {},
     "output_type": "execute_result"
    }
   ],
   "source": [
    "data.columns"
   ]
  },
  {
   "cell_type": "code",
   "execution_count": 6,
   "id": "451cba2d",
   "metadata": {},
   "outputs": [
    {
     "data": {
      "text/html": [
       "<div>\n",
       "<style scoped>\n",
       "    .dataframe tbody tr th:only-of-type {\n",
       "        vertical-align: middle;\n",
       "    }\n",
       "\n",
       "    .dataframe tbody tr th {\n",
       "        vertical-align: top;\n",
       "    }\n",
       "\n",
       "    .dataframe thead th {\n",
       "        text-align: right;\n",
       "    }\n",
       "</style>\n",
       "<table border=\"1\" class=\"dataframe\">\n",
       "  <thead>\n",
       "    <tr style=\"text-align: right;\">\n",
       "      <th></th>\n",
       "      <th>Energy (kWh)</th>\n",
       "      <th>GHG Savings (kg)</th>\n",
       "      <th>Gasoline Savings (gallons)</th>\n",
       "      <th>Port Number</th>\n",
       "      <th>EVSE ID</th>\n",
       "      <th>Postal Code</th>\n",
       "      <th>Latitude</th>\n",
       "      <th>Longitude</th>\n",
       "      <th>Fee</th>\n",
       "      <th>Plug In Event Id</th>\n",
       "      <th>Driver Postal Code</th>\n",
       "      <th>System S/N</th>\n",
       "    </tr>\n",
       "  </thead>\n",
       "  <tbody>\n",
       "    <tr>\n",
       "      <th>count</th>\n",
       "      <td>259415.000000</td>\n",
       "      <td>259415.000000</td>\n",
       "      <td>259415.000000</td>\n",
       "      <td>259415.000000</td>\n",
       "      <td>1.804670e+05</td>\n",
       "      <td>259415.000000</td>\n",
       "      <td>259415.000000</td>\n",
       "      <td>259415.000000</td>\n",
       "      <td>259415.000000</td>\n",
       "      <td>2.594150e+05</td>\n",
       "      <td>251013.000000</td>\n",
       "      <td>1.804670e+05</td>\n",
       "    </tr>\n",
       "    <tr>\n",
       "      <th>mean</th>\n",
       "      <td>8.544277</td>\n",
       "      <td>3.588596</td>\n",
       "      <td>1.072306</td>\n",
       "      <td>1.591627</td>\n",
       "      <td>1.462973e+05</td>\n",
       "      <td>94302.315768</td>\n",
       "      <td>37.439565</td>\n",
       "      <td>-122.151264</td>\n",
       "      <td>1.097481</td>\n",
       "      <td>1.188685e+08</td>\n",
       "      <td>94170.308255</td>\n",
       "      <td>1.443790e+11</td>\n",
       "    </tr>\n",
       "    <tr>\n",
       "      <th>std</th>\n",
       "      <td>7.185462</td>\n",
       "      <td>3.017894</td>\n",
       "      <td>0.901776</td>\n",
       "      <td>0.491534</td>\n",
       "      <td>2.429677e+05</td>\n",
       "      <td>1.941657</td>\n",
       "      <td>0.009621</td>\n",
       "      <td>0.015382</td>\n",
       "      <td>1.934408</td>\n",
       "      <td>4.057750e+08</td>\n",
       "      <td>4249.837126</td>\n",
       "      <td>2.483280e+10</td>\n",
       "    </tr>\n",
       "    <tr>\n",
       "      <th>min</th>\n",
       "      <td>0.010000</td>\n",
       "      <td>0.004000</td>\n",
       "      <td>0.001000</td>\n",
       "      <td>1.000000</td>\n",
       "      <td>3.792000e+03</td>\n",
       "      <td>94301.000000</td>\n",
       "      <td>37.422104</td>\n",
       "      <td>-122.163239</td>\n",
       "      <td>0.000000</td>\n",
       "      <td>1.000000e+00</td>\n",
       "      <td>1013.000000</td>\n",
       "      <td>1.023100e+11</td>\n",
       "    </tr>\n",
       "    <tr>\n",
       "      <th>25%</th>\n",
       "      <td>3.784000</td>\n",
       "      <td>1.589000</td>\n",
       "      <td>0.475000</td>\n",
       "      <td>1.000000</td>\n",
       "      <td>4.358300e+04</td>\n",
       "      <td>94301.000000</td>\n",
       "      <td>37.428318</td>\n",
       "      <td>-122.162170</td>\n",
       "      <td>0.000000</td>\n",
       "      <td>1.573000e+03</td>\n",
       "      <td>94087.000000</td>\n",
       "      <td>1.231100e+11</td>\n",
       "    </tr>\n",
       "    <tr>\n",
       "      <th>50%</th>\n",
       "      <td>6.868634</td>\n",
       "      <td>2.885000</td>\n",
       "      <td>0.862000</td>\n",
       "      <td>2.000000</td>\n",
       "      <td>1.074270e+05</td>\n",
       "      <td>94301.000000</td>\n",
       "      <td>37.444489</td>\n",
       "      <td>-122.158272</td>\n",
       "      <td>0.000000</td>\n",
       "      <td>3.573000e+03</td>\n",
       "      <td>94304.000000</td>\n",
       "      <td>1.427410e+11</td>\n",
       "    </tr>\n",
       "    <tr>\n",
       "      <th>75%</th>\n",
       "      <td>11.458340</td>\n",
       "      <td>4.813000</td>\n",
       "      <td>1.438000</td>\n",
       "      <td>2.000000</td>\n",
       "      <td>1.745590e+05</td>\n",
       "      <td>94303.000000</td>\n",
       "      <td>37.446613</td>\n",
       "      <td>-122.145699</td>\n",
       "      <td>1.640000</td>\n",
       "      <td>6.340000e+03</td>\n",
       "      <td>94804.000000</td>\n",
       "      <td>1.705410e+11</td>\n",
       "    </tr>\n",
       "    <tr>\n",
       "      <th>max</th>\n",
       "      <td>97.360000</td>\n",
       "      <td>40.891000</td>\n",
       "      <td>12.219000</td>\n",
       "      <td>2.000000</td>\n",
       "      <td>5.535441e+06</td>\n",
       "      <td>94306.000000</td>\n",
       "      <td>37.449375</td>\n",
       "      <td>-122.112480</td>\n",
       "      <td>84.560000</td>\n",
       "      <td>1.609436e+09</td>\n",
       "      <td>99354.000000</td>\n",
       "      <td>2.002410e+11</td>\n",
       "    </tr>\n",
       "  </tbody>\n",
       "</table>\n",
       "</div>"
      ],
      "text/plain": [
       "        Energy (kWh)  GHG Savings (kg)  Gasoline Savings (gallons)  \\\n",
       "count  259415.000000     259415.000000               259415.000000   \n",
       "mean        8.544277          3.588596                    1.072306   \n",
       "std         7.185462          3.017894                    0.901776   \n",
       "min         0.010000          0.004000                    0.001000   \n",
       "25%         3.784000          1.589000                    0.475000   \n",
       "50%         6.868634          2.885000                    0.862000   \n",
       "75%        11.458340          4.813000                    1.438000   \n",
       "max        97.360000         40.891000                   12.219000   \n",
       "\n",
       "         Port Number       EVSE ID    Postal Code       Latitude  \\\n",
       "count  259415.000000  1.804670e+05  259415.000000  259415.000000   \n",
       "mean        1.591627  1.462973e+05   94302.315768      37.439565   \n",
       "std         0.491534  2.429677e+05       1.941657       0.009621   \n",
       "min         1.000000  3.792000e+03   94301.000000      37.422104   \n",
       "25%         1.000000  4.358300e+04   94301.000000      37.428318   \n",
       "50%         2.000000  1.074270e+05   94301.000000      37.444489   \n",
       "75%         2.000000  1.745590e+05   94303.000000      37.446613   \n",
       "max         2.000000  5.535441e+06   94306.000000      37.449375   \n",
       "\n",
       "           Longitude            Fee  Plug In Event Id  Driver Postal Code  \\\n",
       "count  259415.000000  259415.000000      2.594150e+05       251013.000000   \n",
       "mean     -122.151264       1.097481      1.188685e+08        94170.308255   \n",
       "std         0.015382       1.934408      4.057750e+08         4249.837126   \n",
       "min      -122.163239       0.000000      1.000000e+00         1013.000000   \n",
       "25%      -122.162170       0.000000      1.573000e+03        94087.000000   \n",
       "50%      -122.158272       0.000000      3.573000e+03        94304.000000   \n",
       "75%      -122.145699       1.640000      6.340000e+03        94804.000000   \n",
       "max      -122.112480      84.560000      1.609436e+09        99354.000000   \n",
       "\n",
       "         System S/N  \n",
       "count  1.804670e+05  \n",
       "mean   1.443790e+11  \n",
       "std    2.483280e+10  \n",
       "min    1.023100e+11  \n",
       "25%    1.231100e+11  \n",
       "50%    1.427410e+11  \n",
       "75%    1.705410e+11  \n",
       "max    2.002410e+11  "
      ]
     },
     "execution_count": 6,
     "metadata": {},
     "output_type": "execute_result"
    }
   ],
   "source": [
    "data.describe()"
   ]
  },
  {
   "cell_type": "code",
   "execution_count": 7,
   "id": "ed628371",
   "metadata": {},
   "outputs": [
    {
     "name": "stdout",
     "output_type": "stream",
     "text": [
      "<class 'pandas.core.frame.DataFrame'>\n",
      "RangeIndex: 259415 entries, 0 to 259414\n",
      "Data columns (total 33 columns):\n",
      " #   Column                           Non-Null Count   Dtype  \n",
      "---  ------                           --------------   -----  \n",
      " 0   Station Name                     259415 non-null  object \n",
      " 1   MAC Address                      259415 non-null  object \n",
      " 2   Org Name                         259415 non-null  object \n",
      " 3   Start Date                       259415 non-null  object \n",
      " 4   Start Time Zone                  259415 non-null  object \n",
      " 5   End Date                         259415 non-null  object \n",
      " 6   End Time Zone                    259415 non-null  object \n",
      " 7   Transaction Date (Pacific Time)  259206 non-null  object \n",
      " 8   Total Duration (hh:mm:ss)        259415 non-null  object \n",
      " 9   Charging Time (hh:mm:ss)         259415 non-null  object \n",
      " 10  Energy (kWh)                     259415 non-null  float64\n",
      " 11  GHG Savings (kg)                 259415 non-null  float64\n",
      " 12  Gasoline Savings (gallons)       259415 non-null  float64\n",
      " 13  Port Type                        259406 non-null  object \n",
      " 14  Port Number                      259415 non-null  int64  \n",
      " 15  Plug Type                        259415 non-null  object \n",
      " 16  EVSE ID                          180467 non-null  float64\n",
      " 17  Address 1                        259415 non-null  object \n",
      " 18  City                             259415 non-null  object \n",
      " 19  State/Province                   259415 non-null  object \n",
      " 20  Postal Code                      259415 non-null  int64  \n",
      " 21  Country                          259415 non-null  object \n",
      " 22  Latitude                         259415 non-null  float64\n",
      " 23  Longitude                        259415 non-null  float64\n",
      " 24  Currency                         257627 non-null  object \n",
      " 25  Fee                              259415 non-null  float64\n",
      " 26  Ended By                         259167 non-null  object \n",
      " 27  Plug In Event Id                 259415 non-null  int64  \n",
      " 28  Driver Postal Code               251013 non-null  float64\n",
      " 29  User ID                          251738 non-null  object \n",
      " 30  County                           174750 non-null  object \n",
      " 31  System S/N                       180467 non-null  float64\n",
      " 32  Model Number                     180467 non-null  object \n",
      "dtypes: float64(9), int64(3), object(21)\n",
      "memory usage: 65.3+ MB\n"
     ]
    }
   ],
   "source": [
    "data.info()"
   ]
  },
  {
   "cell_type": "code",
   "execution_count": 9,
   "id": "adf616d3",
   "metadata": {},
   "outputs": [
    {
     "data": {
      "text/plain": [
       "Station Name                           47\n",
       "MAC Address                            83\n",
       "Org Name                                2\n",
       "Start Date                         244798\n",
       "Start Time Zone                         3\n",
       "End Date                           244159\n",
       "End Time Zone                           3\n",
       "Transaction Date (Pacific Time)    240905\n",
       "Total Duration (hh:mm:ss)           31025\n",
       "Charging Time (hh:mm:ss)            22473\n",
       "Energy (kWh)                       118061\n",
       "GHG Savings (kg)                    15535\n",
       "Gasoline Savings (gallons)           6333\n",
       "Port Type                               2\n",
       "Port Number                             2\n",
       "Plug Type                               2\n",
       "EVSE ID                                51\n",
       "Address 1                              20\n",
       "City                                    1\n",
       "State/Province                          1\n",
       "Postal Code                             3\n",
       "Country                                 1\n",
       "Latitude                               62\n",
       "Longitude                              64\n",
       "Currency                                4\n",
       "Fee                                  1817\n",
       "Ended By                               16\n",
       "Plug In Event Id                    36838\n",
       "Driver Postal Code                    985\n",
       "User ID                             21441\n",
       "County                                  2\n",
       "System S/N                             81\n",
       "Model Number                           10\n",
       "dtype: int64"
      ]
     },
     "execution_count": 9,
     "metadata": {},
     "output_type": "execute_result"
    }
   ],
   "source": [
    "data.nunique()"
   ]
  },
  {
   "cell_type": "markdown",
   "id": "739e8a2b",
   "metadata": {},
   "source": [
    "As we can see, there are certain columns like City, State and Country which have only a single value for all entries. Hence, these columns are not much useful for any analysis."
   ]
  },
  {
   "cell_type": "markdown",
   "id": "64b2a1a6",
   "metadata": {},
   "source": [
    "Box Plots"
   ]
  },
  {
   "cell_type": "code",
   "execution_count": 8,
   "id": "0a3977de",
   "metadata": {},
   "outputs": [
    {
     "data": {
      "image/png": "[encoded data removed]",
      "text/plain": [
       "<Figure size 1600x400 with 4 Axes>"
      ]
     },
     "metadata": {},
     "output_type": "display_data"
    }
   ],
   "source": [
    "fig, ax = plt.subplots(1, 4, figsize=(16, 4))\n",
    "\n",
    "sns.set_theme(style=\"whitegrid\")\n",
    "for axid, col in enumerate([\"Energy (kWh)\", \"GHG Savings (kg)\", \"Gasoline Savings (gallons)\",\"Fee\"]):\n",
    "    sns.boxplot(x=data[col], ax=ax[axid])"
   ]
  },
  {
   "cell_type": "markdown",
   "id": "fedd9a96",
   "metadata": {},
   "source": [
    "From the boxplot, we can say that Energy, GHG Savings and Gasoline savings are **right skewed**."
   ]
  },
  {
   "cell_type": "markdown",
   "id": "a52e7672",
   "metadata": {},
   "source": [
    "Is there a correlation between Energy and GHG(Green House Gases) savings?"
   ]
  },
  {
   "cell_type": "code",
   "execution_count": 10,
   "id": "631b981c",
   "metadata": {},
   "outputs": [
    {
     "data": {
      "image/png": "[encoded data removed]",
      "text/plain": [
       "<Figure size 640x480 with 1 Axes>"
      ]
     },
     "metadata": {},
     "output_type": "display_data"
    }
   ],
   "source": [
    "sns.scatterplot(x=data['Energy (kWh)'], y = data['GHG Savings (kg)'])\n",
    "plt.show()"
   ]
  },
  {
   "cell_type": "code",
   "execution_count": 12,
   "id": "d76157e8",
   "metadata": {},
   "outputs": [
    {
     "data": {
      "image/png": "[encoded data removed]",
      "text/plain": [
       "<Figure size 640x480 with 1 Axes>"
      ]
     },
     "metadata": {},
     "output_type": "display_data"
    }
   ],
   "source": [
    "sns.scatterplot(x=data['Energy (kWh)'], y = data['Gasoline Savings (gallons)'])\n",
    "plt.show()"
   ]
  },
  {
   "cell_type": "markdown",
   "id": "22de5dd8",
   "metadata": {},
   "source": [
    "GHG savings, Gasoline savings are almost perfectly correlated with Energy. Thus these columns can be ignored as they contain repetitive information."
   ]
  },
  {
   "cell_type": "code",
   "execution_count": 14,
   "id": "369d71e9",
   "metadata": {},
   "outputs": [
    {
     "data": {
      "image/png": "[encoded data removed]",
      "text/plain": [
       "<Figure size 640x480 with 1 Axes>"
      ]
     },
     "metadata": {},
     "output_type": "display_data"
    }
   ],
   "source": [
    "sns.scatterplot(x=data['Energy (kWh)'], y = data['Fee'])\n",
    "plt.show()"
   ]
  },
  {
   "cell_type": "markdown",
   "id": "a52bf645",
   "metadata": {},
   "source": [
    "There is no much correlation between Energy and Fee, but we can observe a few outliers!!"
   ]
  },
  {
   "cell_type": "markdown",
   "id": "77e92f61",
   "metadata": {},
   "source": [
    "Checking for NULL values in the dataset"
   ]
  },
  {
   "cell_type": "code",
   "execution_count": 16,
   "id": "ea747e55",
   "metadata": {},
   "outputs": [
    {
     "data": {
      "text/plain": [
       "Station Name                           0\n",
       "MAC Address                            0\n",
       "Org Name                               0\n",
       "Start Date                             0\n",
       "Start Time Zone                        0\n",
       "End Date                               0\n",
       "End Time Zone                          0\n",
       "Transaction Date (Pacific Time)      209\n",
       "Total Duration (hh:mm:ss)              0\n",
       "Charging Time (hh:mm:ss)               0\n",
       "Energy (kWh)                           0\n",
       "GHG Savings (kg)                       0\n",
       "Gasoline Savings (gallons)             0\n",
       "Port Type                              9\n",
       "Port Number                            0\n",
       "Plug Type                              0\n",
       "EVSE ID                            78948\n",
       "Address 1                              0\n",
       "City                                   0\n",
       "State/Province                         0\n",
       "Postal Code                            0\n",
       "Country                                0\n",
       "Latitude                               0\n",
       "Longitude                              0\n",
       "Currency                            1788\n",
       "Fee                                    0\n",
       "Ended By                             248\n",
       "Plug In Event Id                       0\n",
       "Driver Postal Code                  8402\n",
       "User ID                             7677\n",
       "County                             84665\n",
       "System S/N                         78948\n",
       "Model Number                       78948\n",
       "dtype: int64"
      ]
     },
     "execution_count": 16,
     "metadata": {},
     "output_type": "execute_result"
    }
   ],
   "source": [
    "data.isnull().sum()"
   ]
  },
  {
   "cell_type": "code",
   "execution_count": 18,
   "id": "d7506e9a",
   "metadata": {},
   "outputs": [
    {
     "data": {
      "text/plain": [
       "array(['Level 2', 'Level 1', nan], dtype=object)"
      ]
     },
     "execution_count": 18,
     "metadata": {},
     "output_type": "execute_result"
    }
   ],
   "source": [
    "data['Port Type'].unique()"
   ]
  },
  {
   "cell_type": "code",
   "execution_count": 19,
   "id": "ab57d0bd",
   "metadata": {},
   "outputs": [
    {
     "data": {
      "text/plain": [
       "array(['J1772', 'NEMA 5-20R'], dtype=object)"
      ]
     },
     "execution_count": 19,
     "metadata": {},
     "output_type": "execute_result"
    }
   ],
   "source": [
    "data['Plug Type'].unique()"
   ]
  },
  {
   "cell_type": "code",
   "execution_count": 20,
   "id": "104da888",
   "metadata": {},
   "outputs": [
    {
     "data": {
      "image/png": "[encoded data removed]",
      "text/plain": [
       "<Figure size 640x480 with 1 Axes>"
      ]
     },
     "metadata": {},
     "output_type": "display_data"
    }
   ],
   "source": [
    "data.groupby('Port Type').size().plot(kind='pie')\n",
    "plt.show()"
   ]
  },
  {
   "cell_type": "markdown",
   "id": "344f2132",
   "metadata": {},
   "source": [
    "### <center>Data Preprocessing</center>"
   ]
  },
  {
   "cell_type": "markdown",
   "id": "e12fc9f4",
   "metadata": {},
   "source": [
    "The columns that will be removed with reasons: \n",
    "1. Energy, Gasoline Savings - These are perfectly correlated with GHG Savings and thus no point in using these columns to predict GHG savings.\n",
    "2. City, State/Province, Country, Org Name - These columns have only a single value for all data points and thus not useful in analysis\n",
    "3. MAC Address(of Electric charging equipment), Start Date, Start Time Zone, End Date, End Time Zone, Transaction Date, EVSE ID, Postal Code, Latitude, Longitude, Currency,Plug In Event Id, Driver Postal Code, System S/N - as the amount of GHG savings doesn't depend on these columns."
   ]
  },
  {
   "cell_type": "code",
   "execution_count": 22,
   "id": "4c4596fb",
   "metadata": {},
   "outputs": [],
   "source": [
    "# redundant columns \n",
    "data.drop(['Energy (kWh)','Gasoline Savings (gallons)'],axis=1, inplace=True)\n",
    "\n",
    "# columns all having all same value\n",
    "data.drop(['Org Name','City','State/Province','Country'],axis=1,inplace=True)\n",
    "\n",
    "# columns that doesn't impact GHG savings\n",
    "data.drop(['MAC Address','Start Date','Start Time Zone','End Date','End Time Zone','Transaction Date (Pacific Time)',\n",
    "              'Latitude','Longitude','Currency','Fee','Plug In Event Id','Postal Code','Driver Postal Code','User ID','EVSE ID','Address 1',\n",
    "              'System S/N',],axis=1,inplace=True)"
   ]
  },
  {
   "cell_type": "code",
   "execution_count": 23,
   "id": "adb5f070",
   "metadata": {},
   "outputs": [
    {
     "data": {
      "text/html": [
       "<div>\n",
       "<style scoped>\n",
       "    .dataframe tbody tr th:only-of-type {\n",
       "        vertical-align: middle;\n",
       "    }\n",
       "\n",
       "    .dataframe tbody tr th {\n",
       "        vertical-align: top;\n",
       "    }\n",
       "\n",
       "    .dataframe thead th {\n",
       "        text-align: right;\n",
       "    }\n",
       "</style>\n",
       "<table border=\"1\" class=\"dataframe\">\n",
       "  <thead>\n",
       "    <tr style=\"text-align: right;\">\n",
       "      <th></th>\n",
       "      <th>Station Name</th>\n",
       "      <th>Total Duration (hh:mm:ss)</th>\n",
       "      <th>Charging Time (hh:mm:ss)</th>\n",
       "      <th>GHG Savings (kg)</th>\n",
       "      <th>Port Type</th>\n",
       "      <th>Port Number</th>\n",
       "      <th>Plug Type</th>\n",
       "      <th>Ended By</th>\n",
       "      <th>County</th>\n",
       "      <th>Model Number</th>\n",
       "    </tr>\n",
       "  </thead>\n",
       "  <tbody>\n",
       "    <tr>\n",
       "      <th>0</th>\n",
       "      <td>PALO ALTO CA / HAMILTON #1</td>\n",
       "      <td>3:03:32</td>\n",
       "      <td>1:54:03</td>\n",
       "      <td>2.625</td>\n",
       "      <td>Level 2</td>\n",
       "      <td>2</td>\n",
       "      <td>J1772</td>\n",
       "      <td>Plug Out at Vehicle</td>\n",
       "      <td>NaN</td>\n",
       "      <td>NaN</td>\n",
       "    </tr>\n",
       "    <tr>\n",
       "      <th>1</th>\n",
       "      <td>PALO ALTO CA / HAMILTON #1</td>\n",
       "      <td>0:02:06</td>\n",
       "      <td>0:01:54</td>\n",
       "      <td>0.045</td>\n",
       "      <td>Level 2</td>\n",
       "      <td>2</td>\n",
       "      <td>J1772</td>\n",
       "      <td>Customer</td>\n",
       "      <td>NaN</td>\n",
       "      <td>NaN</td>\n",
       "    </tr>\n",
       "    <tr>\n",
       "      <th>2</th>\n",
       "      <td>PALO ALTO CA / HAMILTON #1</td>\n",
       "      <td>4:17:32</td>\n",
       "      <td>4:17:28</td>\n",
       "      <td>6.280</td>\n",
       "      <td>Level 2</td>\n",
       "      <td>2</td>\n",
       "      <td>J1772</td>\n",
       "      <td>Plug Out at Vehicle</td>\n",
       "      <td>NaN</td>\n",
       "      <td>NaN</td>\n",
       "    </tr>\n",
       "    <tr>\n",
       "      <th>3</th>\n",
       "      <td>PALO ALTO CA / HAMILTON #1</td>\n",
       "      <td>2:03:24</td>\n",
       "      <td>2:02:58</td>\n",
       "      <td>3.007</td>\n",
       "      <td>Level 2</td>\n",
       "      <td>2</td>\n",
       "      <td>J1772</td>\n",
       "      <td>Customer</td>\n",
       "      <td>NaN</td>\n",
       "      <td>NaN</td>\n",
       "    </tr>\n",
       "    <tr>\n",
       "      <th>4</th>\n",
       "      <td>PALO ALTO CA / HAMILTON #1</td>\n",
       "      <td>1:11:24</td>\n",
       "      <td>0:43:54</td>\n",
       "      <td>0.822</td>\n",
       "      <td>Level 2</td>\n",
       "      <td>2</td>\n",
       "      <td>J1772</td>\n",
       "      <td>Plug Out at Vehicle</td>\n",
       "      <td>NaN</td>\n",
       "      <td>NaN</td>\n",
       "    </tr>\n",
       "  </tbody>\n",
       "</table>\n",
       "</div>"
      ],
      "text/plain": [
       "                 Station Name Total Duration (hh:mm:ss)  \\\n",
       "0  PALO ALTO CA / HAMILTON #1                   3:03:32   \n",
       "1  PALO ALTO CA / HAMILTON #1                   0:02:06   \n",
       "2  PALO ALTO CA / HAMILTON #1                   4:17:32   \n",
       "3  PALO ALTO CA / HAMILTON #1                   2:03:24   \n",
       "4  PALO ALTO CA / HAMILTON #1                   1:11:24   \n",
       "\n",
       "  Charging Time (hh:mm:ss)  GHG Savings (kg) Port Type  Port Number Plug Type  \\\n",
       "0                  1:54:03             2.625   Level 2            2     J1772   \n",
       "1                  0:01:54             0.045   Level 2            2     J1772   \n",
       "2                  4:17:28             6.280   Level 2            2     J1772   \n",
       "3                  2:02:58             3.007   Level 2            2     J1772   \n",
       "4                  0:43:54             0.822   Level 2            2     J1772   \n",
       "\n",
       "              Ended By County Model Number  \n",
       "0  Plug Out at Vehicle    NaN          NaN  \n",
       "1             Customer    NaN          NaN  \n",
       "2  Plug Out at Vehicle    NaN          NaN  \n",
       "3             Customer    NaN          NaN  \n",
       "4  Plug Out at Vehicle    NaN          NaN  "
      ]
     },
     "execution_count": 23,
     "metadata": {},
     "output_type": "execute_result"
    }
   ],
   "source": [
    "data.head()"
   ]
  },
  {
   "cell_type": "code",
   "execution_count": 25,
   "id": "174971cd",
   "metadata": {},
   "outputs": [
    {
     "data": {
      "text/plain": [
       "Station Name                     0\n",
       "Total Duration (hh:mm:ss)        0\n",
       "Charging Time (hh:mm:ss)         0\n",
       "GHG Savings (kg)                 0\n",
       "Port Type                        9\n",
       "Port Number                      0\n",
       "Plug Type                        0\n",
       "Ended By                       248\n",
       "County                       84665\n",
       "Model Number                 78948\n",
       "dtype: int64"
      ]
     },
     "execution_count": 25,
     "metadata": {},
     "output_type": "execute_result"
    }
   ],
   "source": [
    "data.isnull().sum()"
   ]
  },
  {
   "cell_type": "markdown",
   "id": "32dc4da2",
   "metadata": {},
   "source": [
    "Replacing null values"
   ]
  },
  {
   "cell_type": "code",
   "execution_count": 27,
   "id": "1cd4f760",
   "metadata": {},
   "outputs": [],
   "source": [
    "mode_value = data['Ended By'].mode()\n",
    "data['Ended By'].fillna(str(mode_value), inplace = True)\n",
    "\n",
    "mode_value = data['Port Type'].mode()\n",
    "data['Port Type'].fillna(str(mode_value), inplace=True)\n",
    "\n",
    "mode_value = data['Model Number'].mode()\n",
    "data['Model Number'].fillna(str(mode_value), inplace = True)\n",
    "\n",
    "mode_value = data['County'].mode()\n",
    "data['County'].fillna(str(mode_value), inplace = True)"
   ]
  },
  {
   "cell_type": "markdown",
   "id": "208537ef",
   "metadata": {},
   "source": [
    "Feature Transformation"
   ]
  },
  {
   "cell_type": "markdown",
   "id": "523f6749",
   "metadata": {},
   "source": [
    "Converting Total Duration and Charging Time from string to seconds"
   ]
  },
  {
   "cell_type": "code",
   "execution_count": 28,
   "id": "d34b02f6",
   "metadata": {},
   "outputs": [],
   "source": [
    "# function that converts time from string into seconds\n",
    "def StringToSeconds(time):\n",
    "    hours, minutes, seconds = map(int,time.split(':'))\n",
    "    totalSeconds = hours*3600+minutes*60+seconds\n",
    "    return totalSeconds"
   ]
  },
  {
   "cell_type": "code",
   "execution_count": 29,
   "id": "1ddef257",
   "metadata": {},
   "outputs": [
    {
     "data": {
      "text/html": [
       "<div>\n",
       "<style scoped>\n",
       "    .dataframe tbody tr th:only-of-type {\n",
       "        vertical-align: middle;\n",
       "    }\n",
       "\n",
       "    .dataframe tbody tr th {\n",
       "        vertical-align: top;\n",
       "    }\n",
       "\n",
       "    .dataframe thead th {\n",
       "        text-align: right;\n",
       "    }\n",
       "</style>\n",
       "<table border=\"1\" class=\"dataframe\">\n",
       "  <thead>\n",
       "    <tr style=\"text-align: right;\">\n",
       "      <th></th>\n",
       "      <th>Charging Time (hh:mm:ss)</th>\n",
       "      <th>Total Duration (hh:mm:ss)</th>\n",
       "    </tr>\n",
       "  </thead>\n",
       "  <tbody>\n",
       "    <tr>\n",
       "      <th>0</th>\n",
       "      <td>6843</td>\n",
       "      <td>11012</td>\n",
       "    </tr>\n",
       "    <tr>\n",
       "      <th>1</th>\n",
       "      <td>114</td>\n",
       "      <td>126</td>\n",
       "    </tr>\n",
       "    <tr>\n",
       "      <th>2</th>\n",
       "      <td>15448</td>\n",
       "      <td>15452</td>\n",
       "    </tr>\n",
       "    <tr>\n",
       "      <th>3</th>\n",
       "      <td>7378</td>\n",
       "      <td>7404</td>\n",
       "    </tr>\n",
       "    <tr>\n",
       "      <th>4</th>\n",
       "      <td>2634</td>\n",
       "      <td>4284</td>\n",
       "    </tr>\n",
       "    <tr>\n",
       "      <th>...</th>\n",
       "      <td>...</td>\n",
       "      <td>...</td>\n",
       "    </tr>\n",
       "    <tr>\n",
       "      <th>259410</th>\n",
       "      <td>2118</td>\n",
       "      <td>2144</td>\n",
       "    </tr>\n",
       "    <tr>\n",
       "      <th>259411</th>\n",
       "      <td>8044</td>\n",
       "      <td>13381</td>\n",
       "    </tr>\n",
       "    <tr>\n",
       "      <th>259412</th>\n",
       "      <td>18492</td>\n",
       "      <td>62894</td>\n",
       "    </tr>\n",
       "    <tr>\n",
       "      <th>259413</th>\n",
       "      <td>14022</td>\n",
       "      <td>14734</td>\n",
       "    </tr>\n",
       "    <tr>\n",
       "      <th>259414</th>\n",
       "      <td>2504</td>\n",
       "      <td>2527</td>\n",
       "    </tr>\n",
       "  </tbody>\n",
       "</table>\n",
       "<p>259415 rows × 2 columns</p>\n",
       "</div>"
      ],
      "text/plain": [
       "        Charging Time (hh:mm:ss)  Total Duration (hh:mm:ss)\n",
       "0                           6843                      11012\n",
       "1                            114                        126\n",
       "2                          15448                      15452\n",
       "3                           7378                       7404\n",
       "4                           2634                       4284\n",
       "...                          ...                        ...\n",
       "259410                      2118                       2144\n",
       "259411                      8044                      13381\n",
       "259412                     18492                      62894\n",
       "259413                     14022                      14734\n",
       "259414                      2504                       2527\n",
       "\n",
       "[259415 rows x 2 columns]"
      ]
     },
     "execution_count": 29,
     "metadata": {},
     "output_type": "execute_result"
    }
   ],
   "source": [
    "data['Charging Time (hh:mm:ss)'] = data['Charging Time (hh:mm:ss)'].apply(lambda t: StringToSeconds(t))\n",
    "data['Total Duration (hh:mm:ss)'] = data['Total Duration (hh:mm:ss)'].apply(lambda t: StringToSeconds(t))\n",
    "\n",
    "data[['Charging Time (hh:mm:ss)','Total Duration (hh:mm:ss)']]"
   ]
  },
  {
   "cell_type": "code",
   "execution_count": 31,
   "id": "b57a0062",
   "metadata": {},
   "outputs": [
    {
     "name": "stdout",
     "output_type": "stream",
     "text": [
      "<class 'pandas.core.frame.DataFrame'>\n",
      "RangeIndex: 259415 entries, 0 to 259414\n",
      "Data columns (total 10 columns):\n",
      " #   Column                     Non-Null Count   Dtype  \n",
      "---  ------                     --------------   -----  \n",
      " 0   Station Name               259415 non-null  object \n",
      " 1   Total Duration (hh:mm:ss)  259415 non-null  int64  \n",
      " 2   Charging Time (hh:mm:ss)   259415 non-null  int64  \n",
      " 3   GHG Savings (kg)           259415 non-null  float64\n",
      " 4   Port Type                  259415 non-null  object \n",
      " 5   Port Number                259415 non-null  int64  \n",
      " 6   Plug Type                  259415 non-null  object \n",
      " 7   Ended By                   259415 non-null  object \n",
      " 8   County                     259415 non-null  object \n",
      " 9   Model Number               259415 non-null  object \n",
      "dtypes: float64(1), int64(3), object(6)\n",
      "memory usage: 19.8+ MB\n"
     ]
    }
   ],
   "source": [
    "data.info()"
   ]
  },
  {
   "cell_type": "markdown",
   "id": "bc0f965d",
   "metadata": {},
   "source": [
    "The attributes Station Name, Port Type, Plug Type, Ended By, County and Model Number have non-numerical value. They need to be encoded into some numerical attributes\n"
   ]
  },
  {
   "cell_type": "markdown",
   "id": "85616e73",
   "metadata": {},
   "source": [
    "Encoding for nominal attributes"
   ]
  },
  {
   "cell_type": "code",
   "execution_count": 34,
   "id": "2f82818c",
   "metadata": {},
   "outputs": [
    {
     "data": {
      "text/html": [
       "<div>\n",
       "<style scoped>\n",
       "    .dataframe tbody tr th:only-of-type {\n",
       "        vertical-align: middle;\n",
       "    }\n",
       "\n",
       "    .dataframe tbody tr th {\n",
       "        vertical-align: top;\n",
       "    }\n",
       "\n",
       "    .dataframe thead th {\n",
       "        text-align: right;\n",
       "    }\n",
       "</style>\n",
       "<table border=\"1\" class=\"dataframe\">\n",
       "  <thead>\n",
       "    <tr style=\"text-align: right;\">\n",
       "      <th></th>\n",
       "      <th>Station Name</th>\n",
       "      <th>Total Duration (hh:mm:ss)</th>\n",
       "      <th>Charging Time (hh:mm:ss)</th>\n",
       "      <th>GHG Savings (kg)</th>\n",
       "      <th>Port Type</th>\n",
       "      <th>Port Number</th>\n",
       "      <th>Plug Type</th>\n",
       "      <th>Ended By</th>\n",
       "      <th>County</th>\n",
       "      <th>Model Number</th>\n",
       "    </tr>\n",
       "  </thead>\n",
       "  <tbody>\n",
       "    <tr>\n",
       "      <th>0</th>\n",
       "      <td>12</td>\n",
       "      <td>11012</td>\n",
       "      <td>6843</td>\n",
       "      <td>2.625</td>\n",
       "      <td>2</td>\n",
       "      <td>2</td>\n",
       "      <td>0</td>\n",
       "      <td>12</td>\n",
       "      <td>0</td>\n",
       "      <td>0</td>\n",
       "    </tr>\n",
       "    <tr>\n",
       "      <th>1</th>\n",
       "      <td>12</td>\n",
       "      <td>126</td>\n",
       "      <td>114</td>\n",
       "      <td>0.045</td>\n",
       "      <td>2</td>\n",
       "      <td>2</td>\n",
       "      <td>0</td>\n",
       "      <td>2</td>\n",
       "      <td>0</td>\n",
       "      <td>0</td>\n",
       "    </tr>\n",
       "    <tr>\n",
       "      <th>2</th>\n",
       "      <td>12</td>\n",
       "      <td>15452</td>\n",
       "      <td>15448</td>\n",
       "      <td>6.280</td>\n",
       "      <td>2</td>\n",
       "      <td>2</td>\n",
       "      <td>0</td>\n",
       "      <td>12</td>\n",
       "      <td>0</td>\n",
       "      <td>0</td>\n",
       "    </tr>\n",
       "    <tr>\n",
       "      <th>3</th>\n",
       "      <td>12</td>\n",
       "      <td>7404</td>\n",
       "      <td>7378</td>\n",
       "      <td>3.007</td>\n",
       "      <td>2</td>\n",
       "      <td>2</td>\n",
       "      <td>0</td>\n",
       "      <td>2</td>\n",
       "      <td>0</td>\n",
       "      <td>0</td>\n",
       "    </tr>\n",
       "    <tr>\n",
       "      <th>4</th>\n",
       "      <td>12</td>\n",
       "      <td>4284</td>\n",
       "      <td>2634</td>\n",
       "      <td>0.822</td>\n",
       "      <td>2</td>\n",
       "      <td>2</td>\n",
       "      <td>0</td>\n",
       "      <td>12</td>\n",
       "      <td>0</td>\n",
       "      <td>0</td>\n",
       "    </tr>\n",
       "  </tbody>\n",
       "</table>\n",
       "</div>"
      ],
      "text/plain": [
       "   Station Name  Total Duration (hh:mm:ss)  Charging Time (hh:mm:ss)  \\\n",
       "0            12                      11012                      6843   \n",
       "1            12                        126                       114   \n",
       "2            12                      15452                     15448   \n",
       "3            12                       7404                      7378   \n",
       "4            12                       4284                      2634   \n",
       "\n",
       "   GHG Savings (kg)  Port Type  Port Number  Plug Type  Ended By  County  \\\n",
       "0             2.625          2            2          0        12       0   \n",
       "1             0.045          2            2          0         2       0   \n",
       "2             6.280          2            2          0        12       0   \n",
       "3             3.007          2            2          0         2       0   \n",
       "4             0.822          2            2          0        12       0   \n",
       "\n",
       "   Model Number  \n",
       "0             0  \n",
       "1             0  \n",
       "2             0  \n",
       "3             0  \n",
       "4             0  "
      ]
     },
     "execution_count": 34,
     "metadata": {},
     "output_type": "execute_result"
    }
   ],
   "source": [
    "labelEncoder = preprocessing.LabelEncoder()\n",
    "data[['Station Name','Port Type','Plug Type','Ended By','County','Model Number']] = data[['Station Name','Port Type','Plug Type','Ended By','County','Model Number']].apply(labelEncoder.fit_transform)\n",
    "data.head()"
   ]
  },
  {
   "cell_type": "code",
   "execution_count": null,
   "id": "d6c96176",
   "metadata": {},
   "outputs": [],
   "source": []
  }
 ],
 "metadata": {
  "kernelspec": {
   "display_name": "Python 3 (ipykernel)",
   "language": "python",
   "name": "python3"
  },
  "language_info": {
   "codemirror_mode": {
    "name": "ipython",
    "version": 3
   },
   "file_extension": ".py",
   "mimetype": "text/x-python",
   "name": "python",
   "nbconvert_exporter": "python",
   "pygments_lexer": "ipython3",
   "version": "3.11.2"
  }
 },
 "nbformat": 4,
 "nbformat_minor": 5
}
