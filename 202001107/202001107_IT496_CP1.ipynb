{
 "cells": [
  {
   "cell_type": "markdown",
   "id": "0e3347f8",
   "metadata": {},
   "source": [
    "# <font size=6 color='green'><center>**IT 496 - Introduction to Data Mining**</center></font>\n",
    "### **<center>Course Project - 01<br/><br/>Data Preprocessing, EDA and Regression Analysis<center>**\n",
    "\n",
    " &emsp; **Group Name : <font color='#0099ff'>DataForce</font>** <br/>\n",
    " &emsp; **Group ID : <font color='#0099ff'>T06</font>**\n",
    " <br/>&emsp; **Dateset : <font color='#0099ff'>EV Charging Station</font>**"
   ]
  },
  {
   "cell_type": "markdown",
   "id": "651b62a1",
   "metadata": {},
   "source": [
    "### <center>Introduction </center>"
   ]
  },
  {
   "cell_type": "markdown",
   "id": "111a7757",
   "metadata": {},
   "source": [
    "**Dataset Name**: Electric Vehicle(EV) Charging station<br/><br/>\n",
    "$\\hspace{1.5cm}$The Electric Vechilce(EV) Charging station dataset provides the information about the usage patterns of EV Charging stations in the city of Palo Alto, California. This includes data of the time from July 2011 to Jan 2021. It is an open dataset that provides information about the availaabillity, utilization and demand for EV charging infrastructure. This helps in a deeper understanding for the Local EV Market and thus helps researchers, analysts and businesses for sustainable transportation practices. This dataset contains the information on how much Energy is consumed in charging, how much GHG(Green House Gases) are saved by avoiding other fuel based vehicles. This helps to decide whether it is a better eco-friendly alternative or not.The dataset also includes the type of charging port, plugs, energy consumptions which enables to analyze the charging infrastructure performance.\n",
    "<br/><br/>\n",
    "**Use**: To provide comprehensive insights into the usage patterns of Electric Vehicle(EV) charging stations in the city of Palo Alto, California<br/>\n",
    "\n",
    "**Dataset Link**: https://www.kaggle.com/datasets/venkatsairo4899/ev-charging-station-usage-of-california-city\n",
    "\n",
    "**Documentation**: https://github.com/Gangaraj-eng/IT496_DataForce_CourseProject1/blob/Course_Project_1/readme.md"
   ]
  },
  {
   "cell_type": "markdown",
   "id": "d7a772f1",
   "metadata": {},
   "source": [
    "**Problem Statement 1 - GHG Saving Prediction**: To build a regression model that can predict the amount of GHG(Green House Gases) savings(in KG) of an electric vehicle charging session based on the charging session predictors like charging time, Total Duration, port Type, plug Type, Model Number, etc."
   ]
  },
  {
   "cell_type": "markdown",
   "id": "47b04b55",
   "metadata": {},
   "source": [
    "**Problem Statement 2 - Fee Prediction**: \n",
    "To predict the amount of fee charged for a session using the charging session factors like Energy, Charging Time, Station Name, Plug Type and Port Type and so on."
   ]
  },
  {
   "cell_type": "markdown",
   "id": "70ba096b",
   "metadata": {},
   "source": [
    "In this project, we are going to build regression model that will help to solve the above two problems."
   ]
  },
  {
   "cell_type": "markdown",
   "id": "a1ddbd7f",
   "metadata": {},
   "source": [
    "### <center>Exploratory Data Analysis</center>"
   ]
  },
  {
   "cell_type": "code",
   "execution_count": 42,
   "id": "36230512",
   "metadata": {},
   "outputs": [],
   "source": [
    "# importing required libraries\n",
    "import numpy as np\n",
    "import pandas as pd\n",
    "import matplotlib.pyplot as plt\n",
    "import seaborn as sns\n",
    "import time\n",
    "from sklearn import preprocessing\n",
    "from sklearn.preprocessing import RobustScaler\n",
    "from sklearn.model_selection import train_test_split\n",
    "from sklearn.metrics import mean_squared_error, mean_absolute_error"
   ]
  },
  {
   "cell_type": "markdown",
   "id": "9ae63774",
   "metadata": {},
   "source": [
    "Loading dataset"
   ]
  },
  {
   "cell_type": "code",
   "execution_count": 43,
   "id": "e33dfe73",
   "metadata": {
    "scrolled": true
   },
   "outputs": [
    {
     "data": {
      "text/html": [
       "<div>\n",
       "<style scoped>\n",
       "    .dataframe tbody tr th:only-of-type {\n",
       "        vertical-align: middle;\n",
       "    }\n",
       "\n",
       "    .dataframe tbody tr th {\n",
       "        vertical-align: top;\n",
       "    }\n",
       "\n",
       "    .dataframe thead th {\n",
       "        text-align: right;\n",
       "    }\n",
       "</style>\n",
       "<table border=\"1\" class=\"dataframe\">\n",
       "  <thead>\n",
       "    <tr style=\"text-align: right;\">\n",
       "      <th></th>\n",
       "      <th>Station Name</th>\n",
       "      <th>MAC Address</th>\n",
       "      <th>Org Name</th>\n",
       "      <th>Start Date</th>\n",
       "      <th>Start Time Zone</th>\n",
       "      <th>End Date</th>\n",
       "      <th>End Time Zone</th>\n",
       "      <th>Transaction Date (Pacific Time)</th>\n",
       "      <th>Total Duration (hh:mm:ss)</th>\n",
       "      <th>Charging Time (hh:mm:ss)</th>\n",
       "      <th>...</th>\n",
       "      <th>Longitude</th>\n",
       "      <th>Currency</th>\n",
       "      <th>Fee</th>\n",
       "      <th>Ended By</th>\n",
       "      <th>Plug In Event Id</th>\n",
       "      <th>Driver Postal Code</th>\n",
       "      <th>User ID</th>\n",
       "      <th>County</th>\n",
       "      <th>System S/N</th>\n",
       "      <th>Model Number</th>\n",
       "    </tr>\n",
       "  </thead>\n",
       "  <tbody>\n",
       "    <tr>\n",
       "      <th>0</th>\n",
       "      <td>PALO ALTO CA / HAMILTON #1</td>\n",
       "      <td>000D:6F00:015A:9D76</td>\n",
       "      <td>City of Palo Alto</td>\n",
       "      <td>7/29/2011 20:17</td>\n",
       "      <td>PDT</td>\n",
       "      <td>7/29/2011 23:20</td>\n",
       "      <td>PDT</td>\n",
       "      <td>7/29/2011 23:20</td>\n",
       "      <td>03:03:32</td>\n",
       "      <td>01:54:03</td>\n",
       "      <td>...</td>\n",
       "      <td>-122.160309</td>\n",
       "      <td>USD</td>\n",
       "      <td>0.0</td>\n",
       "      <td>Plug Out at Vehicle</td>\n",
       "      <td>3</td>\n",
       "      <td>95124.0</td>\n",
       "      <td>3284</td>\n",
       "      <td>NaN</td>\n",
       "      <td>NaN</td>\n",
       "      <td>NaN</td>\n",
       "    </tr>\n",
       "    <tr>\n",
       "      <th>1</th>\n",
       "      <td>PALO ALTO CA / HAMILTON #1</td>\n",
       "      <td>000D:6F00:015A:9D76</td>\n",
       "      <td>City of Palo Alto</td>\n",
       "      <td>7/30/2011 0:00</td>\n",
       "      <td>PDT</td>\n",
       "      <td>7/30/2011 0:02</td>\n",
       "      <td>PDT</td>\n",
       "      <td>7/30/2011 0:02</td>\n",
       "      <td>00:02:06</td>\n",
       "      <td>00:01:54</td>\n",
       "      <td>...</td>\n",
       "      <td>-122.160309</td>\n",
       "      <td>USD</td>\n",
       "      <td>0.0</td>\n",
       "      <td>Customer</td>\n",
       "      <td>4</td>\n",
       "      <td>94301.0</td>\n",
       "      <td>4169</td>\n",
       "      <td>NaN</td>\n",
       "      <td>NaN</td>\n",
       "      <td>NaN</td>\n",
       "    </tr>\n",
       "    <tr>\n",
       "      <th>2</th>\n",
       "      <td>PALO ALTO CA / HAMILTON #1</td>\n",
       "      <td>000D:6F00:015A:9D76</td>\n",
       "      <td>City of Palo Alto</td>\n",
       "      <td>7/30/2011 8:16</td>\n",
       "      <td>PDT</td>\n",
       "      <td>7/30/2011 12:34</td>\n",
       "      <td>PDT</td>\n",
       "      <td>7/30/2011 12:34</td>\n",
       "      <td>04:17:32</td>\n",
       "      <td>04:17:28</td>\n",
       "      <td>...</td>\n",
       "      <td>-122.160309</td>\n",
       "      <td>USD</td>\n",
       "      <td>0.0</td>\n",
       "      <td>Plug Out at Vehicle</td>\n",
       "      <td>5</td>\n",
       "      <td>94301.0</td>\n",
       "      <td>4169</td>\n",
       "      <td>NaN</td>\n",
       "      <td>NaN</td>\n",
       "      <td>NaN</td>\n",
       "    </tr>\n",
       "    <tr>\n",
       "      <th>3</th>\n",
       "      <td>PALO ALTO CA / HAMILTON #1</td>\n",
       "      <td>000D:6F00:015A:9D76</td>\n",
       "      <td>City of Palo Alto</td>\n",
       "      <td>7/30/2011 14:51</td>\n",
       "      <td>PDT</td>\n",
       "      <td>7/30/2011 16:55</td>\n",
       "      <td>PDT</td>\n",
       "      <td>7/30/2011 16:55</td>\n",
       "      <td>02:03:24</td>\n",
       "      <td>02:02:58</td>\n",
       "      <td>...</td>\n",
       "      <td>-122.160309</td>\n",
       "      <td>USD</td>\n",
       "      <td>0.0</td>\n",
       "      <td>Customer</td>\n",
       "      <td>6</td>\n",
       "      <td>94302.0</td>\n",
       "      <td>2545</td>\n",
       "      <td>NaN</td>\n",
       "      <td>NaN</td>\n",
       "      <td>NaN</td>\n",
       "    </tr>\n",
       "    <tr>\n",
       "      <th>4</th>\n",
       "      <td>PALO ALTO CA / HAMILTON #1</td>\n",
       "      <td>000D:6F00:015A:9D76</td>\n",
       "      <td>City of Palo Alto</td>\n",
       "      <td>7/30/2011 18:51</td>\n",
       "      <td>PDT</td>\n",
       "      <td>7/30/2011 20:03</td>\n",
       "      <td>PDT</td>\n",
       "      <td>7/30/2011 20:03</td>\n",
       "      <td>01:11:24</td>\n",
       "      <td>00:43:54</td>\n",
       "      <td>...</td>\n",
       "      <td>-122.160309</td>\n",
       "      <td>USD</td>\n",
       "      <td>0.0</td>\n",
       "      <td>Plug Out at Vehicle</td>\n",
       "      <td>7</td>\n",
       "      <td>94043.0</td>\n",
       "      <td>3765</td>\n",
       "      <td>NaN</td>\n",
       "      <td>NaN</td>\n",
       "      <td>NaN</td>\n",
       "    </tr>\n",
       "  </tbody>\n",
       "</table>\n",
       "<p>5 rows × 33 columns</p>\n",
       "</div>"
      ],
      "text/plain": [
       "                 Station Name          MAC Address           Org Name  \\\n",
       "0  PALO ALTO CA / HAMILTON #1  000D:6F00:015A:9D76  City of Palo Alto   \n",
       "1  PALO ALTO CA / HAMILTON #1  000D:6F00:015A:9D76  City of Palo Alto   \n",
       "2  PALO ALTO CA / HAMILTON #1  000D:6F00:015A:9D76  City of Palo Alto   \n",
       "3  PALO ALTO CA / HAMILTON #1  000D:6F00:015A:9D76  City of Palo Alto   \n",
       "4  PALO ALTO CA / HAMILTON #1  000D:6F00:015A:9D76  City of Palo Alto   \n",
       "\n",
       "        Start Date Start Time Zone         End Date End Time Zone  \\\n",
       "0  7/29/2011 20:17             PDT  7/29/2011 23:20           PDT   \n",
       "1   7/30/2011 0:00             PDT   7/30/2011 0:02           PDT   \n",
       "2   7/30/2011 8:16             PDT  7/30/2011 12:34           PDT   \n",
       "3  7/30/2011 14:51             PDT  7/30/2011 16:55           PDT   \n",
       "4  7/30/2011 18:51             PDT  7/30/2011 20:03           PDT   \n",
       "\n",
       "  Transaction Date (Pacific Time) Total Duration (hh:mm:ss)  \\\n",
       "0                 7/29/2011 23:20                  03:03:32   \n",
       "1                  7/30/2011 0:02                  00:02:06   \n",
       "2                 7/30/2011 12:34                  04:17:32   \n",
       "3                 7/30/2011 16:55                  02:03:24   \n",
       "4                 7/30/2011 20:03                  01:11:24   \n",
       "\n",
       "  Charging Time (hh:mm:ss)  ...   Longitude  Currency  Fee  \\\n",
       "0                 01:54:03  ... -122.160309       USD  0.0   \n",
       "1                 00:01:54  ... -122.160309       USD  0.0   \n",
       "2                 04:17:28  ... -122.160309       USD  0.0   \n",
       "3                 02:02:58  ... -122.160309       USD  0.0   \n",
       "4                 00:43:54  ... -122.160309       USD  0.0   \n",
       "\n",
       "              Ended By  Plug In Event Id Driver Postal Code  User ID County  \\\n",
       "0  Plug Out at Vehicle                 3            95124.0     3284    NaN   \n",
       "1             Customer                 4            94301.0     4169    NaN   \n",
       "2  Plug Out at Vehicle                 5            94301.0     4169    NaN   \n",
       "3             Customer                 6            94302.0     2545    NaN   \n",
       "4  Plug Out at Vehicle                 7            94043.0     3765    NaN   \n",
       "\n",
       "  System S/N Model Number  \n",
       "0        NaN          NaN  \n",
       "1        NaN          NaN  \n",
       "2        NaN          NaN  \n",
       "3        NaN          NaN  \n",
       "4        NaN          NaN  \n",
       "\n",
       "[5 rows x 33 columns]"
      ]
     },
     "execution_count": 43,
     "metadata": {},
     "output_type": "execute_result"
    }
   ],
   "source": [
    "# replace the csv file path here\n",
    "dataFilePath = \"C:\\\\Users\\\\rajini bopparam\\\\Downloads\\\\EVChargingStationUsage.csv\"\n",
    "Data = pd.read_csv(dataFilePath, low_memory = False)\n",
    "# setting low_memory to false to ignore \"mixed data type\" warning \n",
    "\n",
    "Data.head()"
   ]
  },
  {
   "cell_type": "code",
   "execution_count": 44,
   "id": "91b14a81",
   "metadata": {},
   "outputs": [
    {
     "data": {
      "text/plain": [
       "(259415, 33)"
      ]
     },
     "execution_count": 44,
     "metadata": {},
     "output_type": "execute_result"
    }
   ],
   "source": [
    "Data.shape"
   ]
  },
  {
   "cell_type": "markdown",
   "id": "7bcd5424",
   "metadata": {},
   "source": [
    "Let's check the details of all columns"
   ]
  },
  {
   "cell_type": "code",
   "execution_count": 45,
   "id": "2c1eec06",
   "metadata": {
    "scrolled": true
   },
   "outputs": [
    {
     "name": "stdout",
     "output_type": "stream",
     "text": [
      "<class 'pandas.core.frame.DataFrame'>\n",
      "RangeIndex: 259415 entries, 0 to 259414\n",
      "Data columns (total 33 columns):\n",
      " #   Column                           Non-Null Count   Dtype  \n",
      "---  ------                           --------------   -----  \n",
      " 0   Station Name                     259415 non-null  object \n",
      " 1   MAC Address                      259415 non-null  object \n",
      " 2   Org Name                         259415 non-null  object \n",
      " 3   Start Date                       259415 non-null  object \n",
      " 4   Start Time Zone                  259415 non-null  object \n",
      " 5   End Date                         259415 non-null  object \n",
      " 6   End Time Zone                    259415 non-null  object \n",
      " 7   Transaction Date (Pacific Time)  259206 non-null  object \n",
      " 8   Total Duration (hh:mm:ss)        259415 non-null  object \n",
      " 9   Charging Time (hh:mm:ss)         259415 non-null  object \n",
      " 10  Energy (kWh)                     259415 non-null  float64\n",
      " 11  GHG Savings (kg)                 259415 non-null  float64\n",
      " 12  Gasoline Savings (gallons)       259415 non-null  float64\n",
      " 13  Port Type                        259406 non-null  object \n",
      " 14  Port Number                      259415 non-null  int64  \n",
      " 15  Plug Type                        259415 non-null  object \n",
      " 16  EVSE ID                          180467 non-null  float64\n",
      " 17  Address 1                        259415 non-null  object \n",
      " 18  City                             259415 non-null  object \n",
      " 19  State/Province                   259415 non-null  object \n",
      " 20  Postal Code                      259415 non-null  int64  \n",
      " 21  Country                          259415 non-null  object \n",
      " 22  Latitude                         259415 non-null  float64\n",
      " 23  Longitude                        259415 non-null  float64\n",
      " 24  Currency                         257627 non-null  object \n",
      " 25  Fee                              259415 non-null  float64\n",
      " 26  Ended By                         259167 non-null  object \n",
      " 27  Plug In Event Id                 259415 non-null  int64  \n",
      " 28  Driver Postal Code               251013 non-null  float64\n",
      " 29  User ID                          251738 non-null  object \n",
      " 30  County                           174750 non-null  object \n",
      " 31  System S/N                       180467 non-null  float64\n",
      " 32  Model Number                     180467 non-null  object \n",
      "dtypes: float64(9), int64(3), object(21)\n",
      "memory usage: 65.3+ MB\n"
     ]
    }
   ],
   "source": [
    "Data.info()"
   ]
  },
  {
   "cell_type": "code",
   "execution_count": 46,
   "id": "a65c7c9b",
   "metadata": {
    "scrolled": true
   },
   "outputs": [
    {
     "data": {
      "text/html": [
       "<div>\n",
       "<style scoped>\n",
       "    .dataframe tbody tr th:only-of-type {\n",
       "        vertical-align: middle;\n",
       "    }\n",
       "\n",
       "    .dataframe tbody tr th {\n",
       "        vertical-align: top;\n",
       "    }\n",
       "\n",
       "    .dataframe thead th {\n",
       "        text-align: right;\n",
       "    }\n",
       "</style>\n",
       "<table border=\"1\" class=\"dataframe\">\n",
       "  <thead>\n",
       "    <tr style=\"text-align: right;\">\n",
       "      <th></th>\n",
       "      <th>Energy (kWh)</th>\n",
       "      <th>GHG Savings (kg)</th>\n",
       "      <th>Gasoline Savings (gallons)</th>\n",
       "      <th>Port Number</th>\n",
       "      <th>EVSE ID</th>\n",
       "      <th>Postal Code</th>\n",
       "      <th>Latitude</th>\n",
       "      <th>Longitude</th>\n",
       "      <th>Fee</th>\n",
       "      <th>Plug In Event Id</th>\n",
       "      <th>Driver Postal Code</th>\n",
       "      <th>System S/N</th>\n",
       "    </tr>\n",
       "  </thead>\n",
       "  <tbody>\n",
       "    <tr>\n",
       "      <th>count</th>\n",
       "      <td>259415.000000</td>\n",
       "      <td>259415.000000</td>\n",
       "      <td>259415.000000</td>\n",
       "      <td>259415.000000</td>\n",
       "      <td>1.804670e+05</td>\n",
       "      <td>259415.000000</td>\n",
       "      <td>259415.000000</td>\n",
       "      <td>259415.000000</td>\n",
       "      <td>259415.000000</td>\n",
       "      <td>2.594150e+05</td>\n",
       "      <td>251013.000000</td>\n",
       "      <td>1.804670e+05</td>\n",
       "    </tr>\n",
       "    <tr>\n",
       "      <th>mean</th>\n",
       "      <td>8.544277</td>\n",
       "      <td>3.588596</td>\n",
       "      <td>1.072306</td>\n",
       "      <td>1.591627</td>\n",
       "      <td>1.462973e+05</td>\n",
       "      <td>94302.315768</td>\n",
       "      <td>37.439565</td>\n",
       "      <td>-122.151264</td>\n",
       "      <td>1.097481</td>\n",
       "      <td>1.188685e+08</td>\n",
       "      <td>94170.308255</td>\n",
       "      <td>1.443911e+11</td>\n",
       "    </tr>\n",
       "    <tr>\n",
       "      <th>std</th>\n",
       "      <td>7.185462</td>\n",
       "      <td>3.017894</td>\n",
       "      <td>0.901776</td>\n",
       "      <td>0.491534</td>\n",
       "      <td>2.429677e+05</td>\n",
       "      <td>1.941657</td>\n",
       "      <td>0.009621</td>\n",
       "      <td>0.015382</td>\n",
       "      <td>1.934408</td>\n",
       "      <td>4.057750e+08</td>\n",
       "      <td>4249.837126</td>\n",
       "      <td>2.483968e+10</td>\n",
       "    </tr>\n",
       "    <tr>\n",
       "      <th>min</th>\n",
       "      <td>0.010000</td>\n",
       "      <td>0.004000</td>\n",
       "      <td>0.001000</td>\n",
       "      <td>1.000000</td>\n",
       "      <td>3.792000e+03</td>\n",
       "      <td>94301.000000</td>\n",
       "      <td>37.422104</td>\n",
       "      <td>-122.163239</td>\n",
       "      <td>0.000000</td>\n",
       "      <td>1.000000e+00</td>\n",
       "      <td>1013.000000</td>\n",
       "      <td>1.020000e+11</td>\n",
       "    </tr>\n",
       "    <tr>\n",
       "      <th>25%</th>\n",
       "      <td>3.784000</td>\n",
       "      <td>1.589000</td>\n",
       "      <td>0.475000</td>\n",
       "      <td>1.000000</td>\n",
       "      <td>4.358300e+04</td>\n",
       "      <td>94301.000000</td>\n",
       "      <td>37.428318</td>\n",
       "      <td>-122.162170</td>\n",
       "      <td>0.000000</td>\n",
       "      <td>1.573000e+03</td>\n",
       "      <td>94087.000000</td>\n",
       "      <td>1.231100e+11</td>\n",
       "    </tr>\n",
       "    <tr>\n",
       "      <th>50%</th>\n",
       "      <td>6.868634</td>\n",
       "      <td>2.885000</td>\n",
       "      <td>0.862000</td>\n",
       "      <td>2.000000</td>\n",
       "      <td>1.074270e+05</td>\n",
       "      <td>94301.000000</td>\n",
       "      <td>37.444489</td>\n",
       "      <td>-122.158272</td>\n",
       "      <td>0.000000</td>\n",
       "      <td>3.573000e+03</td>\n",
       "      <td>94304.000000</td>\n",
       "      <td>1.427410e+11</td>\n",
       "    </tr>\n",
       "    <tr>\n",
       "      <th>75%</th>\n",
       "      <td>11.458340</td>\n",
       "      <td>4.813000</td>\n",
       "      <td>1.438000</td>\n",
       "      <td>2.000000</td>\n",
       "      <td>1.745590e+05</td>\n",
       "      <td>94303.000000</td>\n",
       "      <td>37.446613</td>\n",
       "      <td>-122.145699</td>\n",
       "      <td>1.640000</td>\n",
       "      <td>6.340000e+03</td>\n",
       "      <td>94804.000000</td>\n",
       "      <td>1.707410e+11</td>\n",
       "    </tr>\n",
       "    <tr>\n",
       "      <th>max</th>\n",
       "      <td>97.360000</td>\n",
       "      <td>40.891000</td>\n",
       "      <td>12.219000</td>\n",
       "      <td>2.000000</td>\n",
       "      <td>5.535441e+06</td>\n",
       "      <td>94306.000000</td>\n",
       "      <td>37.449375</td>\n",
       "      <td>-122.112480</td>\n",
       "      <td>84.560000</td>\n",
       "      <td>1.609436e+09</td>\n",
       "      <td>99354.000000</td>\n",
       "      <td>2.002410e+11</td>\n",
       "    </tr>\n",
       "  </tbody>\n",
       "</table>\n",
       "</div>"
      ],
      "text/plain": [
       "        Energy (kWh)  GHG Savings (kg)  Gasoline Savings (gallons)  \\\n",
       "count  259415.000000     259415.000000               259415.000000   \n",
       "mean        8.544277          3.588596                    1.072306   \n",
       "std         7.185462          3.017894                    0.901776   \n",
       "min         0.010000          0.004000                    0.001000   \n",
       "25%         3.784000          1.589000                    0.475000   \n",
       "50%         6.868634          2.885000                    0.862000   \n",
       "75%        11.458340          4.813000                    1.438000   \n",
       "max        97.360000         40.891000                   12.219000   \n",
       "\n",
       "         Port Number       EVSE ID    Postal Code       Latitude  \\\n",
       "count  259415.000000  1.804670e+05  259415.000000  259415.000000   \n",
       "mean        1.591627  1.462973e+05   94302.315768      37.439565   \n",
       "std         0.491534  2.429677e+05       1.941657       0.009621   \n",
       "min         1.000000  3.792000e+03   94301.000000      37.422104   \n",
       "25%         1.000000  4.358300e+04   94301.000000      37.428318   \n",
       "50%         2.000000  1.074270e+05   94301.000000      37.444489   \n",
       "75%         2.000000  1.745590e+05   94303.000000      37.446613   \n",
       "max         2.000000  5.535441e+06   94306.000000      37.449375   \n",
       "\n",
       "           Longitude            Fee  Plug In Event Id  Driver Postal Code  \\\n",
       "count  259415.000000  259415.000000      2.594150e+05       251013.000000   \n",
       "mean     -122.151264       1.097481      1.188685e+08        94170.308255   \n",
       "std         0.015382       1.934408      4.057750e+08         4249.837126   \n",
       "min      -122.163239       0.000000      1.000000e+00         1013.000000   \n",
       "25%      -122.162170       0.000000      1.573000e+03        94087.000000   \n",
       "50%      -122.158272       0.000000      3.573000e+03        94304.000000   \n",
       "75%      -122.145699       1.640000      6.340000e+03        94804.000000   \n",
       "max      -122.112480      84.560000      1.609436e+09        99354.000000   \n",
       "\n",
       "         System S/N  \n",
       "count  1.804670e+05  \n",
       "mean   1.443911e+11  \n",
       "std    2.483968e+10  \n",
       "min    1.020000e+11  \n",
       "25%    1.231100e+11  \n",
       "50%    1.427410e+11  \n",
       "75%    1.707410e+11  \n",
       "max    2.002410e+11  "
      ]
     },
     "execution_count": 46,
     "metadata": {},
     "output_type": "execute_result"
    }
   ],
   "source": [
    "Data.describe()"
   ]
  },
  {
   "cell_type": "markdown",
   "id": "a6bd5da9",
   "metadata": {},
   "source": [
    "The describe function above gives some of statistics for columns of numerical data types"
   ]
  },
  {
   "cell_type": "markdown",
   "id": "f921e953",
   "metadata": {},
   "source": [
    "Let's check the number of unique entries in each column"
   ]
  },
  {
   "cell_type": "code",
   "execution_count": 47,
   "id": "019545f7",
   "metadata": {
    "scrolled": true
   },
   "outputs": [
    {
     "data": {
      "text/plain": [
       "Station Name                           47\n",
       "MAC Address                            83\n",
       "Org Name                                2\n",
       "Start Date                         244798\n",
       "Start Time Zone                         3\n",
       "End Date                           244159\n",
       "End Time Zone                           3\n",
       "Transaction Date (Pacific Time)    240905\n",
       "Total Duration (hh:mm:ss)           31025\n",
       "Charging Time (hh:mm:ss)            22473\n",
       "Energy (kWh)                       118061\n",
       "GHG Savings (kg)                    15535\n",
       "Gasoline Savings (gallons)           6333\n",
       "Port Type                               2\n",
       "Port Number                             2\n",
       "Plug Type                               2\n",
       "EVSE ID                                51\n",
       "Address 1                              20\n",
       "City                                    1\n",
       "State/Province                          1\n",
       "Postal Code                             3\n",
       "Country                                 1\n",
       "Latitude                               62\n",
       "Longitude                              64\n",
       "Currency                                4\n",
       "Fee                                  1817\n",
       "Ended By                               16\n",
       "Plug In Event Id                    36838\n",
       "Driver Postal Code                    985\n",
       "User ID                             21441\n",
       "County                                  2\n",
       "System S/N                             61\n",
       "Model Number                           10\n",
       "dtype: int64"
      ]
     },
     "execution_count": 47,
     "metadata": {},
     "output_type": "execute_result"
    }
   ],
   "source": [
    "Data.nunique()"
   ]
  },
  {
   "cell_type": "markdown",
   "id": "30e32d10",
   "metadata": {},
   "source": [
    "As we can see, there are certain columns like City, State and Country which have only a single value for all entries. Hence, these columns are not much useful for any interesting analysis!!"
   ]
  },
  {
   "cell_type": "markdown",
   "id": "520afb45",
   "metadata": {},
   "source": [
    "Box Plots"
   ]
  },
  {
   "cell_type": "code",
   "execution_count": 48,
   "id": "0b5eed94",
   "metadata": {},
   "outputs": [
    {
     "data": {
      "image/png": "[encoded data removed]",
      "text/plain": [
       "<Figure size 1152x288 with 4 Axes>"
      ]
     },
     "metadata": {},
     "output_type": "display_data"
    }
   ],
   "source": [
    "fig, ax = plt.subplots(1, 4, figsize=(16, 4))\n",
    "\n",
    "sns.set_theme(style=\"whitegrid\")\n",
    "for axid, col in enumerate([\"Energy (kWh)\", \"GHG Savings (kg)\", \"Gasoline Savings (gallons)\",\"Fee\"]):\n",
    "    sns.boxplot(x=Data[col], ax=ax[axid])"
   ]
  },
  {
   "cell_type": "markdown",
   "id": "79b5ff31",
   "metadata": {},
   "source": [
    "From the boxplot, we can say that Energy, GHG Savings, Gasoline savings and Fee are **right skewed**."
   ]
  },
  {
   "cell_type": "markdown",
   "id": "0b350c8c",
   "metadata": {},
   "source": [
    "Is there a correlation between Energy and GHG(Green House Gases) savings?"
   ]
  },
  {
   "cell_type": "code",
   "execution_count": 49,
   "id": "415fca8b",
   "metadata": {},
   "outputs": [
    {
     "data": {
      "image/png": "[encoded data removed]",
      "text/plain": [
       "<Figure size 1080x360 with 2 Axes>"
      ]
     },
     "metadata": {},
     "output_type": "display_data"
    }
   ],
   "source": [
    "fig,(ax1, ax2) = plt.subplots(1,2,figsize=(15,5))\n",
    "sns.scatterplot(x=Data['Energy (kWh)'], y = Data['GHG Savings (kg)'],ax=ax1)\n",
    "sns.scatterplot(x=Data['Energy (kWh)'], y = Data['Gasoline Savings (gallons)'],ax=ax2)\n",
    "plt.show()"
   ]
  },
  {
   "cell_type": "markdown",
   "id": "49336edd",
   "metadata": {},
   "source": [
    "Is there a correlation between Energy and Gasoline savings?"
   ]
  },
  {
   "cell_type": "markdown",
   "id": "ab4dcbe8",
   "metadata": {},
   "source": [
    "GHG savings, Gasoline savings are almost perfectly correlated with Energy. Thus these columns can be ignored as they contain repetitive information."
   ]
  },
  {
   "cell_type": "code",
   "execution_count": 50,
   "id": "4f48ce29",
   "metadata": {},
   "outputs": [
    {
     "data": {
      "image/png": "[encoded data removed]",
      "text/plain": [
       "<Figure size 432x288 with 1 Axes>"
      ]
     },
     "metadata": {},
     "output_type": "display_data"
    }
   ],
   "source": [
    "sns.scatterplot(x=Data['Energy (kWh)'], y = Data['Fee'])\n",
    "plt.show()"
   ]
  },
  {
   "cell_type": "markdown",
   "id": "bd5b1e78",
   "metadata": {},
   "source": [
    "There is no much correlation between Energy and Fee, but we can observe a possibilty of few outliers!!"
   ]
  },
  {
   "cell_type": "markdown",
   "id": "33097c5c",
   "metadata": {},
   "source": [
    "The same can be visualized through a heat map"
   ]
  },
  {
   "cell_type": "code",
   "execution_count": 51,
   "id": "67976351",
   "metadata": {},
   "outputs": [
    {
     "data": {
      "image/png": "[encoded data removed]",
      "text/plain": [
       "<Figure size 432x288 with 2 Axes>"
      ]
     },
     "metadata": {},
     "output_type": "display_data"
    }
   ],
   "source": [
    "numericData = Data[['Energy (kWh)','GHG Savings (kg)','Gasoline Savings (gallons)','Fee']]\n",
    "sns.heatmap(data = numericData.corr(), lw=1)\n",
    "plt.show()"
   ]
  },
  {
   "cell_type": "markdown",
   "id": "03e8d712",
   "metadata": {},
   "source": [
    "The above heatmap shows a perfect correlation between Energy, GHG Savings and Gasoline but not with Fee."
   ]
  },
  {
   "cell_type": "markdown",
   "id": "11230a32",
   "metadata": {},
   "source": [
    "Checking for NULL values in the dataset"
   ]
  },
  {
   "cell_type": "code",
   "execution_count": 52,
   "id": "f34c327d",
   "metadata": {
    "scrolled": true
   },
   "outputs": [
    {
     "data": {
      "text/plain": [
       "Station Name                           0\n",
       "MAC Address                            0\n",
       "Org Name                               0\n",
       "Start Date                             0\n",
       "Start Time Zone                        0\n",
       "End Date                               0\n",
       "End Time Zone                          0\n",
       "Transaction Date (Pacific Time)      209\n",
       "Total Duration (hh:mm:ss)              0\n",
       "Charging Time (hh:mm:ss)               0\n",
       "Energy (kWh)                           0\n",
       "GHG Savings (kg)                       0\n",
       "Gasoline Savings (gallons)             0\n",
       "Port Type                              9\n",
       "Port Number                            0\n",
       "Plug Type                              0\n",
       "EVSE ID                            78948\n",
       "Address 1                              0\n",
       "City                                   0\n",
       "State/Province                         0\n",
       "Postal Code                            0\n",
       "Country                                0\n",
       "Latitude                               0\n",
       "Longitude                              0\n",
       "Currency                            1788\n",
       "Fee                                    0\n",
       "Ended By                             248\n",
       "Plug In Event Id                       0\n",
       "Driver Postal Code                  8402\n",
       "User ID                             7677\n",
       "County                             84665\n",
       "System S/N                         78948\n",
       "Model Number                       78948\n",
       "dtype: int64"
      ]
     },
     "execution_count": 52,
     "metadata": {},
     "output_type": "execute_result"
    }
   ],
   "source": [
    "Data.isnull().sum()"
   ]
  },
  {
   "cell_type": "code",
   "execution_count": 53,
   "id": "0b4170ab",
   "metadata": {
    "scrolled": true
   },
   "outputs": [
    {
     "data": {
      "image/png": "[encoded data removed]",
      "text/plain": [
       "<Figure size 1440x720 with 1 Axes>"
      ]
     },
     "metadata": {},
     "output_type": "display_data"
    }
   ],
   "source": [
    "Data.groupby('Station Name').size().plot(kind='bar',figsize=(20,10))\n",
    "plt.show()"
   ]
  },
  {
   "cell_type": "markdown",
   "id": "ab71a381",
   "metadata": {},
   "source": [
    "From the above bar graph, we can see that the maximum number of charging sessions are recorded in the station 'PALO ALTO CA / HAMILTON #2'"
   ]
  },
  {
   "cell_type": "code",
   "execution_count": 54,
   "id": "76931ac3",
   "metadata": {},
   "outputs": [
    {
     "data": {
      "image/png": "[encoded data removed]",
      "text/plain": [
       "<Figure size 1080x360 with 2 Axes>"
      ]
     },
     "metadata": {},
     "output_type": "display_data"
    }
   ],
   "source": [
    "fig,(ax1, ax2) = plt.subplots(ncols=2, figsize=(15,5))\n",
    "Data.groupby('Port Type').size().plot(kind='pie',autopct='%1.0f%%', explode=[0.01, 0.01],title='Percentage distribution of Port Type',labels=['Level 1','Level 2'],ax=ax1)\n",
    "Data.groupby('Plug Type').size().plot(kind='pie',autopct='%1.0f%%', explode=[0.01, 0.01],title='Percentage distribution of Plug Type',labels=['J1772','NEMA 5-20R'],ax=ax2)\n",
    "plt.show()"
   ]
  },
  {
   "cell_type": "code",
   "execution_count": 55,
   "id": "375de4cf",
   "metadata": {
    "scrolled": true
   },
   "outputs": [
    {
     "data": {
      "text/plain": [
       "Currency\n",
       "CAD         1\n",
       "EUR         8\n",
       "MXN         5\n",
       "USD    257613\n",
       "dtype: int64"
      ]
     },
     "execution_count": 55,
     "metadata": {},
     "output_type": "execute_result"
    }
   ],
   "source": [
    "Data.groupby('Currency').size()"
   ]
  },
  {
   "cell_type": "markdown",
   "id": "c21d9347",
   "metadata": {},
   "source": [
    "As there are very large differences of USD, to visualize all of these, a logarithmic scale should be used!!"
   ]
  },
  {
   "cell_type": "code",
   "execution_count": 56,
   "id": "d7b082cd",
   "metadata": {},
   "outputs": [
    {
     "data": {
      "image/png": "[encoded data removed]",
      "text/plain": [
       "<Figure size 432x288 with 1 Axes>"
      ]
     },
     "metadata": {},
     "output_type": "display_data"
    }
   ],
   "source": [
    "Data.groupby('Currency').size().apply(lambda x: np.log10(x)).plot(kind='bar')\n",
    "plt.title('Currency vs number of transactions on log10 scale')\n",
    "plt.show()"
   ]
  },
  {
   "cell_type": "markdown",
   "id": "d0c29218",
   "metadata": {},
   "source": [
    "We can see that most of the transactions used $USD$ currency."
   ]
  },
  {
   "cell_type": "code",
   "execution_count": 57,
   "id": "aced5800",
   "metadata": {},
   "outputs": [
    {
     "data": {
      "image/png": "[encoded data removed]",
      "text/plain": [
       "<Figure size 432x288 with 1 Axes>"
      ]
     },
     "metadata": {},
     "output_type": "display_data"
    }
   ],
   "source": [
    "Data.groupby('County').size().plot(kind='bar')\n",
    "plt.ylabel('Number of charging sessions')\n",
    "plt.show()"
   ]
  },
  {
   "cell_type": "markdown",
   "id": "59e0fcd2",
   "metadata": {},
   "source": [
    "Out of the two counties, majority of the charging sessions were recorded in Santa Clara County!!."
   ]
  },
  {
   "cell_type": "markdown",
   "id": "8bde5ea0",
   "metadata": {},
   "source": [
    "Distributions with respected to Latitude and Longitude of charging stations"
   ]
  },
  {
   "cell_type": "code",
   "execution_count": 58,
   "id": "1007e5ac",
   "metadata": {
    "scrolled": true
   },
   "outputs": [
    {
     "data": {
      "image/png": "[encoded data removed]",
      "text/plain": [
       "<Figure size 1080x360 with 1 Axes>"
      ]
     },
     "metadata": {},
     "output_type": "display_data"
    }
   ],
   "source": [
    "Data.groupby('Latitude').size().plot(kind='bar',figsize=(15,5))\n",
    "plt.show()"
   ]
  },
  {
   "cell_type": "code",
   "execution_count": 59,
   "id": "56b89d64",
   "metadata": {
    "scrolled": true
   },
   "outputs": [
    {
     "data": {
      "image/png": "[encoded data removed]",
      "text/plain": [
       "<Figure size 1080x360 with 1 Axes>"
      ]
     },
     "metadata": {},
     "output_type": "display_data"
    }
   ],
   "source": [
    "Data.groupby('Longitude').size().plot(kind='bar',figsize=(15,5))\n",
    "plt.show()"
   ]
  },
  {
   "cell_type": "markdown",
   "id": "95e2959e",
   "metadata": {},
   "source": [
    "Is Org Name is useful in Analysis?"
   ]
  },
  {
   "cell_type": "code",
   "execution_count": 60,
   "id": "d6a60250",
   "metadata": {
    "scrolled": false
   },
   "outputs": [
    {
     "data": {
      "text/plain": [
       "array(['City of Palo Alto', 'City of Palo Alto '], dtype=object)"
      ]
     },
     "execution_count": 60,
     "metadata": {},
     "output_type": "execute_result"
    }
   ],
   "source": [
    "Data['Org Name'].unique()"
   ]
  },
  {
   "cell_type": "markdown",
   "id": "90aee396",
   "metadata": {},
   "source": [
    "We can see that Org Name has only one value(City of Palo Alto) for all examples and thus is not useful in analysis!!"
   ]
  },
  {
   "cell_type": "code",
   "execution_count": 61,
   "id": "d3318dfd",
   "metadata": {},
   "outputs": [
    {
     "data": {
      "image/png": "[encoded data removed]",
      "text/plain": [
       "<Figure size 864x360 with 1 Axes>"
      ]
     },
     "metadata": {},
     "output_type": "display_data"
    }
   ],
   "source": [
    "# function to return total number of minutes taken for charging\n",
    "def getMinutesFromTime(time):\n",
    "    h,m,s = map(int,time.split(':'))\n",
    "    return h*60+m\n",
    "\n",
    "Data['Charging Time (hh:mm:ss)'].apply(getMinutesFromTime).plot(kind='hist',bins=50,figsize=(12,5))\n",
    "plt.show()"
   ]
  },
  {
   "cell_type": "markdown",
   "id": "b19e20d3",
   "metadata": {},
   "source": [
    "From the above histogram, most of the EV session take around $50$ minutes to $150$ minutes for charging"
   ]
  },
  {
   "cell_type": "markdown",
   "id": "5a5c4d76",
   "metadata": {},
   "source": [
    "# 1. GHG Savings Prediction"
   ]
  },
  {
   "cell_type": "markdown",
   "id": "e6ccd728",
   "metadata": {},
   "source": [
    "### <center>Data Preprocessing</center>"
   ]
  },
  {
   "cell_type": "markdown",
   "id": "bc5c8bc8",
   "metadata": {},
   "source": [
    "The columns that will be removed with reasons: \n",
    "1. Energy, Gasoline Savings - These are perfectly correlated with GHG Savings and thus no point in using these columns to predict GHG savings.\n",
    "2. City, State/Province, Country, Org Name - These columns have only a single value for all data points and thus not useful in analysis\n",
    "3. MAC Address(of Electric charging equipment), Start Date, Start Time Zone, End Date, End Time Zone, Transaction Date, EVSE ID, Postal Code, Latitude, Longitude, Currency,Plug In Event Id, Driver Postal Code, System S/N - as the amount of GHG savings doesn't depend on these columns."
   ]
  },
  {
   "cell_type": "code",
   "execution_count": 62,
   "id": "64fcef91",
   "metadata": {
    "scrolled": true
   },
   "outputs": [],
   "source": [
    "# redundant columns \n",
    "Data.drop(['Energy (kWh)','Gasoline Savings (gallons)'],axis=1, inplace=True)\n",
    "\n",
    "# columns all having all same value\n",
    "Data.drop(['Org Name','City','State/Province','Country'],axis=1,inplace=True)\n",
    "\n",
    "# columns that doesn't impact GHG savings\n",
    "Data.drop(['MAC Address','Start Date','Start Time Zone','End Date','End Time Zone','Transaction Date (Pacific Time)',\n",
    "              'Latitude','Longitude','Currency','Fee','Plug In Event Id','Postal Code','Driver Postal Code','User ID','EVSE ID','Address 1',\n",
    "              'System S/N',],axis=1,inplace=True)"
   ]
  },
  {
   "cell_type": "code",
   "execution_count": 63,
   "id": "c7fe01dd",
   "metadata": {
    "scrolled": true
   },
   "outputs": [
    {
     "data": {
      "text/html": [
       "<div>\n",
       "<style scoped>\n",
       "    .dataframe tbody tr th:only-of-type {\n",
       "        vertical-align: middle;\n",
       "    }\n",
       "\n",
       "    .dataframe tbody tr th {\n",
       "        vertical-align: top;\n",
       "    }\n",
       "\n",
       "    .dataframe thead th {\n",
       "        text-align: right;\n",
       "    }\n",
       "</style>\n",
       "<table border=\"1\" class=\"dataframe\">\n",
       "  <thead>\n",
       "    <tr style=\"text-align: right;\">\n",
       "      <th></th>\n",
       "      <th>Station Name</th>\n",
       "      <th>Total Duration (hh:mm:ss)</th>\n",
       "      <th>Charging Time (hh:mm:ss)</th>\n",
       "      <th>GHG Savings (kg)</th>\n",
       "      <th>Port Type</th>\n",
       "      <th>Port Number</th>\n",
       "      <th>Plug Type</th>\n",
       "      <th>Ended By</th>\n",
       "      <th>County</th>\n",
       "      <th>Model Number</th>\n",
       "    </tr>\n",
       "  </thead>\n",
       "  <tbody>\n",
       "    <tr>\n",
       "      <th>0</th>\n",
       "      <td>PALO ALTO CA / HAMILTON #1</td>\n",
       "      <td>03:03:32</td>\n",
       "      <td>01:54:03</td>\n",
       "      <td>2.625</td>\n",
       "      <td>Level 2</td>\n",
       "      <td>2</td>\n",
       "      <td>J1772</td>\n",
       "      <td>Plug Out at Vehicle</td>\n",
       "      <td>NaN</td>\n",
       "      <td>NaN</td>\n",
       "    </tr>\n",
       "    <tr>\n",
       "      <th>1</th>\n",
       "      <td>PALO ALTO CA / HAMILTON #1</td>\n",
       "      <td>00:02:06</td>\n",
       "      <td>00:01:54</td>\n",
       "      <td>0.045</td>\n",
       "      <td>Level 2</td>\n",
       "      <td>2</td>\n",
       "      <td>J1772</td>\n",
       "      <td>Customer</td>\n",
       "      <td>NaN</td>\n",
       "      <td>NaN</td>\n",
       "    </tr>\n",
       "    <tr>\n",
       "      <th>2</th>\n",
       "      <td>PALO ALTO CA / HAMILTON #1</td>\n",
       "      <td>04:17:32</td>\n",
       "      <td>04:17:28</td>\n",
       "      <td>6.280</td>\n",
       "      <td>Level 2</td>\n",
       "      <td>2</td>\n",
       "      <td>J1772</td>\n",
       "      <td>Plug Out at Vehicle</td>\n",
       "      <td>NaN</td>\n",
       "      <td>NaN</td>\n",
       "    </tr>\n",
       "    <tr>\n",
       "      <th>3</th>\n",
       "      <td>PALO ALTO CA / HAMILTON #1</td>\n",
       "      <td>02:03:24</td>\n",
       "      <td>02:02:58</td>\n",
       "      <td>3.007</td>\n",
       "      <td>Level 2</td>\n",
       "      <td>2</td>\n",
       "      <td>J1772</td>\n",
       "      <td>Customer</td>\n",
       "      <td>NaN</td>\n",
       "      <td>NaN</td>\n",
       "    </tr>\n",
       "    <tr>\n",
       "      <th>4</th>\n",
       "      <td>PALO ALTO CA / HAMILTON #1</td>\n",
       "      <td>01:11:24</td>\n",
       "      <td>00:43:54</td>\n",
       "      <td>0.822</td>\n",
       "      <td>Level 2</td>\n",
       "      <td>2</td>\n",
       "      <td>J1772</td>\n",
       "      <td>Plug Out at Vehicle</td>\n",
       "      <td>NaN</td>\n",
       "      <td>NaN</td>\n",
       "    </tr>\n",
       "  </tbody>\n",
       "</table>\n",
       "</div>"
      ],
      "text/plain": [
       "                 Station Name Total Duration (hh:mm:ss)  \\\n",
       "0  PALO ALTO CA / HAMILTON #1                  03:03:32   \n",
       "1  PALO ALTO CA / HAMILTON #1                  00:02:06   \n",
       "2  PALO ALTO CA / HAMILTON #1                  04:17:32   \n",
       "3  PALO ALTO CA / HAMILTON #1                  02:03:24   \n",
       "4  PALO ALTO CA / HAMILTON #1                  01:11:24   \n",
       "\n",
       "  Charging Time (hh:mm:ss)  GHG Savings (kg) Port Type  Port Number Plug Type  \\\n",
       "0                 01:54:03             2.625   Level 2            2     J1772   \n",
       "1                 00:01:54             0.045   Level 2            2     J1772   \n",
       "2                 04:17:28             6.280   Level 2            2     J1772   \n",
       "3                 02:02:58             3.007   Level 2            2     J1772   \n",
       "4                 00:43:54             0.822   Level 2            2     J1772   \n",
       "\n",
       "              Ended By County Model Number  \n",
       "0  Plug Out at Vehicle    NaN          NaN  \n",
       "1             Customer    NaN          NaN  \n",
       "2  Plug Out at Vehicle    NaN          NaN  \n",
       "3             Customer    NaN          NaN  \n",
       "4  Plug Out at Vehicle    NaN          NaN  "
      ]
     },
     "execution_count": 63,
     "metadata": {},
     "output_type": "execute_result"
    }
   ],
   "source": [
    "Data.head()"
   ]
  },
  {
   "cell_type": "code",
   "execution_count": 64,
   "id": "ca1be249",
   "metadata": {},
   "outputs": [
    {
     "data": {
      "text/plain": [
       "Station Name                     0\n",
       "Total Duration (hh:mm:ss)        0\n",
       "Charging Time (hh:mm:ss)         0\n",
       "GHG Savings (kg)                 0\n",
       "Port Type                        9\n",
       "Port Number                      0\n",
       "Plug Type                        0\n",
       "Ended By                       248\n",
       "County                       84665\n",
       "Model Number                 78948\n",
       "dtype: int64"
      ]
     },
     "execution_count": 64,
     "metadata": {},
     "output_type": "execute_result"
    }
   ],
   "source": [
    "Data.isnull().sum()"
   ]
  },
  {
   "cell_type": "markdown",
   "id": "139b0a8e",
   "metadata": {},
   "source": [
    "#### Replacing null values"
   ]
  },
  {
   "cell_type": "code",
   "execution_count": 65,
   "id": "1c7b1dcd",
   "metadata": {},
   "outputs": [],
   "source": [
    "mode_value = Data['Ended By'].mode()\n",
    "Data['Ended By'].fillna(str(mode_value), inplace = True)\n",
    "\n",
    "mode_value = Data['Port Type'].mode()\n",
    "Data['Port Type'].fillna(str(mode_value), inplace=True)\n",
    "\n",
    "mode_value = Data['Model Number'].mode()\n",
    "Data['Model Number'].fillna(str(mode_value), inplace = True)\n",
    "\n",
    "mode_value = Data['County'].mode()\n",
    "Data['County'].fillna(str(mode_value), inplace = True)"
   ]
  },
  {
   "cell_type": "markdown",
   "id": "d0dfdfe2",
   "metadata": {},
   "source": [
    "AS theses are nominal attributes, and mode is the best measure of central tendency for nominal attributes, mode is used to replace the null values for the above columns"
   ]
  },
  {
   "cell_type": "markdown",
   "id": "9b62b363",
   "metadata": {},
   "source": [
    "#### Feature Transformation"
   ]
  },
  {
   "cell_type": "markdown",
   "id": "1b518674",
   "metadata": {},
   "source": [
    "Converting Total Duration and Charging Time from string to seconds so that it will be of numeric type and can be used for analysis"
   ]
  },
  {
   "cell_type": "code",
   "execution_count": 29,
   "id": "42434a14",
   "metadata": {},
   "outputs": [],
   "source": [
    "# function that converts time from string into seconds\n",
    "def StringToSeconds(time):\n",
    "    hours, minutes, seconds = map(int,time.split(':'))\n",
    "    totalSeconds = hours*3600+minutes*60+seconds\n",
    "    return totalSeconds"
   ]
  },
  {
   "cell_type": "code",
   "execution_count": 30,
   "id": "3ba4b191",
   "metadata": {},
   "outputs": [
    {
     "data": {
      "text/html": [
       "<div>\n",
       "<style scoped>\n",
       "    .dataframe tbody tr th:only-of-type {\n",
       "        vertical-align: middle;\n",
       "    }\n",
       "\n",
       "    .dataframe tbody tr th {\n",
       "        vertical-align: top;\n",
       "    }\n",
       "\n",
       "    .dataframe thead th {\n",
       "        text-align: right;\n",
       "    }\n",
       "</style>\n",
       "<table border=\"1\" class=\"dataframe\">\n",
       "  <thead>\n",
       "    <tr style=\"text-align: right;\">\n",
       "      <th></th>\n",
       "      <th>Charging Time (hh:mm:ss)</th>\n",
       "      <th>Total Duration (hh:mm:ss)</th>\n",
       "    </tr>\n",
       "  </thead>\n",
       "  <tbody>\n",
       "    <tr>\n",
       "      <th>0</th>\n",
       "      <td>6843</td>\n",
       "      <td>11012</td>\n",
       "    </tr>\n",
       "    <tr>\n",
       "      <th>1</th>\n",
       "      <td>114</td>\n",
       "      <td>126</td>\n",
       "    </tr>\n",
       "    <tr>\n",
       "      <th>2</th>\n",
       "      <td>15448</td>\n",
       "      <td>15452</td>\n",
       "    </tr>\n",
       "    <tr>\n",
       "      <th>3</th>\n",
       "      <td>7378</td>\n",
       "      <td>7404</td>\n",
       "    </tr>\n",
       "    <tr>\n",
       "      <th>4</th>\n",
       "      <td>2634</td>\n",
       "      <td>4284</td>\n",
       "    </tr>\n",
       "    <tr>\n",
       "      <th>...</th>\n",
       "      <td>...</td>\n",
       "      <td>...</td>\n",
       "    </tr>\n",
       "    <tr>\n",
       "      <th>259410</th>\n",
       "      <td>2118</td>\n",
       "      <td>2144</td>\n",
       "    </tr>\n",
       "    <tr>\n",
       "      <th>259411</th>\n",
       "      <td>8044</td>\n",
       "      <td>13381</td>\n",
       "    </tr>\n",
       "    <tr>\n",
       "      <th>259412</th>\n",
       "      <td>18492</td>\n",
       "      <td>62894</td>\n",
       "    </tr>\n",
       "    <tr>\n",
       "      <th>259413</th>\n",
       "      <td>14022</td>\n",
       "      <td>14734</td>\n",
       "    </tr>\n",
       "    <tr>\n",
       "      <th>259414</th>\n",
       "      <td>2504</td>\n",
       "      <td>2527</td>\n",
       "    </tr>\n",
       "  </tbody>\n",
       "</table>\n",
       "<p>259415 rows × 2 columns</p>\n",
       "</div>"
      ],
      "text/plain": [
       "        Charging Time (hh:mm:ss)  Total Duration (hh:mm:ss)\n",
       "0                           6843                      11012\n",
       "1                            114                        126\n",
       "2                          15448                      15452\n",
       "3                           7378                       7404\n",
       "4                           2634                       4284\n",
       "...                          ...                        ...\n",
       "259410                      2118                       2144\n",
       "259411                      8044                      13381\n",
       "259412                     18492                      62894\n",
       "259413                     14022                      14734\n",
       "259414                      2504                       2527\n",
       "\n",
       "[259415 rows x 2 columns]"
      ]
     },
     "execution_count": 30,
     "metadata": {},
     "output_type": "execute_result"
    }
   ],
   "source": [
    "Data['Charging Time (hh:mm:ss)'] = Data['Charging Time (hh:mm:ss)'].apply(lambda t: StringToSeconds(t))\n",
    "Data['Total Duration (hh:mm:ss)'] = Data['Total Duration (hh:mm:ss)'].apply(lambda t: StringToSeconds(t))\n",
    "\n",
    "Data[['Charging Time (hh:mm:ss)','Total Duration (hh:mm:ss)']]"
   ]
  },
  {
   "cell_type": "code",
   "execution_count": 33,
   "id": "18aa575d",
   "metadata": {},
   "outputs": [
    {
     "name": "stdout",
     "output_type": "stream",
     "text": [
      "<class 'pandas.core.frame.DataFrame'>\n",
      "RangeIndex: 259415 entries, 0 to 259414\n",
      "Data columns (total 10 columns):\n",
      " #   Column                     Non-Null Count   Dtype  \n",
      "---  ------                     --------------   -----  \n",
      " 0   Station Name               259415 non-null  object \n",
      " 1   Total Duration (hh:mm:ss)  259415 non-null  int64  \n",
      " 2   Charging Time (hh:mm:ss)   259415 non-null  int64  \n",
      " 3   GHG Savings (kg)           259415 non-null  float64\n",
      " 4   Port Type                  259415 non-null  object \n",
      " 5   Port Number                259415 non-null  int64  \n",
      " 6   Plug Type                  259415 non-null  object \n",
      " 7   Ended By                   259415 non-null  object \n",
      " 8   County                     259415 non-null  object \n",
      " 9   Model Number               259415 non-null  object \n",
      "dtypes: float64(1), int64(3), object(6)\n",
      "memory usage: 19.8+ MB\n"
     ]
    }
   ],
   "source": [
    "Data.info()"
   ]
  },
  {
   "cell_type": "markdown",
   "id": "1ef75aca",
   "metadata": {},
   "source": [
    "The attributes Station Name, Port Type, Plug Type, Ended By, County and Model Number have non-numerical value. They need to be encoded into some numerical attributes"
   ]
  },
  {
   "cell_type": "markdown",
   "id": "1f49b55b",
   "metadata": {},
   "source": [
    "#### Encoding for nominal attributes"
   ]
  },
  {
   "cell_type": "code",
   "execution_count": 34,
   "id": "753fee4d",
   "metadata": {
    "scrolled": true
   },
   "outputs": [
    {
     "data": {
      "text/html": [
       "<div>\n",
       "<style scoped>\n",
       "    .dataframe tbody tr th:only-of-type {\n",
       "        vertical-align: middle;\n",
       "    }\n",
       "\n",
       "    .dataframe tbody tr th {\n",
       "        vertical-align: top;\n",
       "    }\n",
       "\n",
       "    .dataframe thead th {\n",
       "        text-align: right;\n",
       "    }\n",
       "</style>\n",
       "<table border=\"1\" class=\"dataframe\">\n",
       "  <thead>\n",
       "    <tr style=\"text-align: right;\">\n",
       "      <th></th>\n",
       "      <th>Station Name</th>\n",
       "      <th>Total Duration (hh:mm:ss)</th>\n",
       "      <th>Charging Time (hh:mm:ss)</th>\n",
       "      <th>GHG Savings (kg)</th>\n",
       "      <th>Port Type</th>\n",
       "      <th>Port Number</th>\n",
       "      <th>Plug Type</th>\n",
       "      <th>Ended By</th>\n",
       "      <th>County</th>\n",
       "      <th>Model Number</th>\n",
       "    </tr>\n",
       "  </thead>\n",
       "  <tbody>\n",
       "    <tr>\n",
       "      <th>0</th>\n",
       "      <td>12</td>\n",
       "      <td>11012</td>\n",
       "      <td>6843</td>\n",
       "      <td>2.625</td>\n",
       "      <td>2</td>\n",
       "      <td>2</td>\n",
       "      <td>0</td>\n",
       "      <td>12</td>\n",
       "      <td>0</td>\n",
       "      <td>0</td>\n",
       "    </tr>\n",
       "    <tr>\n",
       "      <th>1</th>\n",
       "      <td>12</td>\n",
       "      <td>126</td>\n",
       "      <td>114</td>\n",
       "      <td>0.045</td>\n",
       "      <td>2</td>\n",
       "      <td>2</td>\n",
       "      <td>0</td>\n",
       "      <td>2</td>\n",
       "      <td>0</td>\n",
       "      <td>0</td>\n",
       "    </tr>\n",
       "    <tr>\n",
       "      <th>2</th>\n",
       "      <td>12</td>\n",
       "      <td>15452</td>\n",
       "      <td>15448</td>\n",
       "      <td>6.280</td>\n",
       "      <td>2</td>\n",
       "      <td>2</td>\n",
       "      <td>0</td>\n",
       "      <td>12</td>\n",
       "      <td>0</td>\n",
       "      <td>0</td>\n",
       "    </tr>\n",
       "    <tr>\n",
       "      <th>3</th>\n",
       "      <td>12</td>\n",
       "      <td>7404</td>\n",
       "      <td>7378</td>\n",
       "      <td>3.007</td>\n",
       "      <td>2</td>\n",
       "      <td>2</td>\n",
       "      <td>0</td>\n",
       "      <td>2</td>\n",
       "      <td>0</td>\n",
       "      <td>0</td>\n",
       "    </tr>\n",
       "    <tr>\n",
       "      <th>4</th>\n",
       "      <td>12</td>\n",
       "      <td>4284</td>\n",
       "      <td>2634</td>\n",
       "      <td>0.822</td>\n",
       "      <td>2</td>\n",
       "      <td>2</td>\n",
       "      <td>0</td>\n",
       "      <td>12</td>\n",
       "      <td>0</td>\n",
       "      <td>0</td>\n",
       "    </tr>\n",
       "  </tbody>\n",
       "</table>\n",
       "</div>"
      ],
      "text/plain": [
       "   Station Name  Total Duration (hh:mm:ss)  Charging Time (hh:mm:ss)  \\\n",
       "0            12                      11012                      6843   \n",
       "1            12                        126                       114   \n",
       "2            12                      15452                     15448   \n",
       "3            12                       7404                      7378   \n",
       "4            12                       4284                      2634   \n",
       "\n",
       "   GHG Savings (kg)  Port Type  Port Number  Plug Type  Ended By  County  \\\n",
       "0             2.625          2            2          0        12       0   \n",
       "1             0.045          2            2          0         2       0   \n",
       "2             6.280          2            2          0        12       0   \n",
       "3             3.007          2            2          0         2       0   \n",
       "4             0.822          2            2          0        12       0   \n",
       "\n",
       "   Model Number  \n",
       "0             0  \n",
       "1             0  \n",
       "2             0  \n",
       "3             0  \n",
       "4             0  "
      ]
     },
     "execution_count": 34,
     "metadata": {},
     "output_type": "execute_result"
    }
   ],
   "source": [
    "labelEncoder = preprocessing.LabelEncoder()\n",
    "Data[['Station Name','Port Type','Plug Type','Ended By','County','Model Number']] = Data[['Station Name','Port Type','Plug Type','Ended By','County','Model Number']].apply(labelEncoder.fit_transform)\n",
    "Data.head()"
   ]
  },
  {
   "cell_type": "code",
   "execution_count": 35,
   "id": "ce0d6bf1",
   "metadata": {},
   "outputs": [
    {
     "data": {
      "text/plain": [
       "(259415, 10)"
      ]
     },
     "execution_count": 35,
     "metadata": {},
     "output_type": "execute_result"
    }
   ],
   "source": [
    "Data.shape"
   ]
  },
  {
   "cell_type": "markdown",
   "id": "a0d8707c",
   "metadata": {},
   "source": [
    "### <center>Regression Analysis</center>"
   ]
  },
  {
   "cell_type": "markdown",
   "id": "8a5fc061",
   "metadata": {},
   "source": [
    "Train and Test splits"
   ]
  },
  {
   "cell_type": "code",
   "execution_count": 36,
   "id": "0231d3a5",
   "metadata": {
    "scrolled": false
   },
   "outputs": [
    {
     "name": "stdout",
     "output_type": "stream",
     "text": [
      "Training size = 207532\n",
      "Test size = 51883\n"
     ]
    }
   ],
   "source": [
    "x_train, x_test, y_train, y_test = train_test_split(Data, Data['GHG Savings (kg)'], random_state = 40, test_size = 0.20)\n",
    "\n",
    "print(f\"Training size = {len(y_train)}\")\n",
    "print(f\"Test size = {len(y_test)}\")"
   ]
  },
  {
   "cell_type": "markdown",
   "id": "a17f1940",
   "metadata": {},
   "source": [
    "We can use sklearn RobustScaler for normalization and to remove outliers using standard IQR method"
   ]
  },
  {
   "cell_type": "code",
   "execution_count": 37,
   "id": "224d4536",
   "metadata": {
    "scrolled": false
   },
   "outputs": [
    {
     "name": "stdout",
     "output_type": "stream",
     "text": [
      "Shape of training data after normalizing = (207532, 10)\n",
      "Shape of test data after normalizing = (51883, 10)\n"
     ]
    }
   ],
   "source": [
    "# normalizing train and test sets seperately so that no information from \n",
    "# test set will be leaked\n",
    "scaler = RobustScaler()\n",
    "scaler.fit(x_train)\n",
    "x_train = scaler.transform(x_train)\n",
    "x_test = scaler.transform(x_test)\n",
    "\n",
    "print(f\"Shape of training data after normalizing = {x_train.shape}\")\n",
    "print(f\"Shape of test data after normalizing = {x_test.shape}\")"
   ]
  },
  {
   "cell_type": "markdown",
   "id": "8c71dbe5",
   "metadata": {},
   "source": [
    "The number of rows remained unchanged suggesting absence of major outliers<br/>\n",
    "Here, Train and Test sets are normalized seperately so that there will be no leakage of information from test set while training"
   ]
  },
  {
   "cell_type": "markdown",
   "id": "c08710d7",
   "metadata": {},
   "source": [
    "### Regression models "
   ]
  },
  {
   "cell_type": "markdown",
   "id": "9684b1a6",
   "metadata": {},
   "source": [
    "The following models are used to perform regression:\n",
    "1. Lasso Regression\n",
    "2. Ridge Regression\n",
    "3. ElasticNet\n",
    "4. Stochastic Gradient Descent Regression"
   ]
  },
  {
   "cell_type": "code",
   "execution_count": 38,
   "id": "adf7c70e",
   "metadata": {},
   "outputs": [],
   "source": [
    "from sklearn.linear_model import Lasso, Ridge, SGDRegressor, ElasticNet\n",
    "from sklearn.model_selection import GridSearchCV\n",
    "models = {\n",
    "    \n",
    "    'LassoRegression':{\n",
    "        'model':Lasso(random_state = 40),\n",
    "        'parameters':{\n",
    "            'alpha':[0.001,0.01,0.05,0.1,0.2,0.5],# regularization constant\n",
    "            'selection':['cyclic','random'],\n",
    "            'max_iter':[500,1000,1500,2000]\n",
    "        }\n",
    "    },\n",
    "    \n",
    "    'RidgeRegression':{\n",
    "        'model':Ridge(random_state = 40),\n",
    "        'parameters':{\n",
    "            'alpha':[0.001,0.01,0.05,0.1],# regularization constant,\n",
    "            'solver':['auto','svd','cholesky'],\n",
    "            'max_iter':[500,1000,1500,2000]\n",
    "        }\n",
    "    },\n",
    "    \n",
    "    'ElasticNet':{\n",
    "        'model':ElasticNet(random_state = 40),\n",
    "        'parameters':{\n",
    "            'alpha':[0.001,0.01,0.1,0.5],\n",
    "            'l1_ratio':[0.2,0.5,0.8],\n",
    "            'max_iter':[1000,2000],\n",
    "            'selection':['cyclic','random']\n",
    "        }\n",
    "    },\n",
    "    \n",
    "    'SGDRegression':{\n",
    "        'model':SGDRegressor(random_state = 40),\n",
    "        'parameters':{\n",
    "            'loss':['squared_error','huber','epsilon_insensitive'],\n",
    "            'penalty':['l2','l1'],\n",
    "            'alpha':[0.001,0.01,0.1,0.5],\n",
    "            # the learning rate schedule\n",
    "            'learning_rate':['constant','invscaling']\n",
    "        },\n",
    "    }\n",
    "}"
   ]
  },
  {
   "cell_type": "markdown",
   "id": "1f1b1334",
   "metadata": {},
   "source": [
    "Model Training"
   ]
  },
  {
   "cell_type": "code",
   "execution_count": 39,
   "id": "ee0d4728",
   "metadata": {},
   "outputs": [
    {
     "name": "stdout",
     "output_type": "stream",
     "text": [
      "Fitting 5 folds for each of 48 candidates, totalling 240 fits\n",
      "Completed training for LassoRegression \t Time taken : 184.88793110847473 seconds\n",
      "\n",
      "Fitting 5 folds for each of 48 candidates, totalling 240 fits\n",
      "Completed training for RidgeRegression \t Time taken : 181.58831691741943 seconds\n",
      "\n",
      "Fitting 5 folds for each of 48 candidates, totalling 240 fits\n",
      "Completed training for ElasticNet \t Time taken : 190.13943099975586 seconds\n",
      "\n",
      "Fitting 5 folds for each of 48 candidates, totalling 240 fits\n",
      "Completed training for SGDRegression \t Time taken : 115.5964949131012 seconds\n",
      "\n"
     ]
    }
   ],
   "source": [
    "results = pd.DataFrame()\n",
    "\n",
    "results['Mean square Error(MSE)'] = None\n",
    "results['Mean absolute Error(MAE)'] = None\n",
    "results['Root Mean Squared Error(RMSE)'] = None\n",
    "results['Best Params']=None\n",
    "results['Time taken']=None\n",
    "results['Best Regressor']=None\n",
    "\n",
    "best_model =None\n",
    "best_mse = np.inf\n",
    "\n",
    "for modelName, classifier in models.items():\n",
    "    start = time.time()\n",
    "    regressor = GridSearchCV(classifier['model'], classifier['parameters'],n_jobs = 10, verbose = 1)\n",
    "    regressor.fit(x_train,list(y_train))\n",
    "    best_regressor = regressor.best_estimator_\n",
    "    end = time.time()\n",
    "    time_taken = end-start\n",
    "    y_train_pred = best_regressor.predict(x_train)\n",
    "    mse = mean_squared_error(y_train, y_train_pred)\n",
    "    mae = mean_absolute_error(y_train, y_train_pred)\n",
    "    rmse = mean_squared_error(y_train, y_train_pred, squared=False)\n",
    "    \n",
    "    if mse < best_mse:\n",
    "        best_mse = mse\n",
    "        best_model = modelName\n",
    "    \n",
    "    print(f\"Completed training for {modelName} \\t Time taken : {time_taken} seconds\\n\")\n",
    "    \n",
    "    results.loc[modelName,['Mean square Error(MSE)','Mean absolute Error(MAE)','Root Mean Squared Error(RMSE)','Best Params','time_taken','Best Regressor']] = [mse, mae, rmse, regressor.best_params_,time_taken,best_regressor]"
   ]
  },
  {
   "cell_type": "code",
   "execution_count": 40,
   "id": "2c77884f",
   "metadata": {},
   "outputs": [],
   "source": [
    "pd.set_option('display.max_colwidth', None)"
   ]
  },
  {
   "cell_type": "code",
   "execution_count": 41,
   "id": "b081c86d",
   "metadata": {
    "scrolled": false
   },
   "outputs": [
    {
     "name": "stdout",
     "output_type": "stream",
     "text": [
      "Best model = RidgeRegression with MSE = 1.2923401540138446e-15\n"
     ]
    },
    {
     "data": {
      "text/html": [
       "<div>\n",
       "<style scoped>\n",
       "    .dataframe tbody tr th:only-of-type {\n",
       "        vertical-align: middle;\n",
       "    }\n",
       "\n",
       "    .dataframe tbody tr th {\n",
       "        vertical-align: top;\n",
       "    }\n",
       "\n",
       "    .dataframe thead th {\n",
       "        text-align: right;\n",
       "    }\n",
       "</style>\n",
       "<table border=\"1\" class=\"dataframe\">\n",
       "  <thead>\n",
       "    <tr style=\"text-align: right;\">\n",
       "      <th></th>\n",
       "      <th>Mean square Error(MSE)</th>\n",
       "      <th>Mean absolute Error(MAE)</th>\n",
       "      <th>Root Mean Squared Error(RMSE)</th>\n",
       "      <th>Best Params</th>\n",
       "      <th>time_taken</th>\n",
       "    </tr>\n",
       "  </thead>\n",
       "  <tbody>\n",
       "    <tr>\n",
       "      <th>LassoRegression</th>\n",
       "      <td>0.000001</td>\n",
       "      <td>0.000738</td>\n",
       "      <td>0.001065</td>\n",
       "      <td>{'alpha': 0.001, 'max_iter': 500, 'selection': 'cyclic'}</td>\n",
       "      <td>184.887931</td>\n",
       "    </tr>\n",
       "    <tr>\n",
       "      <th>RidgeRegression</th>\n",
       "      <td>0.0</td>\n",
       "      <td>0.0</td>\n",
       "      <td>0.0</td>\n",
       "      <td>{'alpha': 0.001, 'max_iter': 500, 'solver': 'auto'}</td>\n",
       "      <td>181.588317</td>\n",
       "    </tr>\n",
       "    <tr>\n",
       "      <th>ElasticNet</th>\n",
       "      <td>0.000004</td>\n",
       "      <td>0.001356</td>\n",
       "      <td>0.001901</td>\n",
       "      <td>{'alpha': 0.001, 'l1_ratio': 0.8, 'max_iter': 1000, 'selection': 'cyclic'}</td>\n",
       "      <td>190.139431</td>\n",
       "    </tr>\n",
       "    <tr>\n",
       "      <th>SGDRegression</th>\n",
       "      <td>0.000001</td>\n",
       "      <td>0.00074</td>\n",
       "      <td>0.001064</td>\n",
       "      <td>{'alpha': 0.001, 'learning_rate': 'invscaling', 'loss': 'squared_error', 'penalty': 'l1'}</td>\n",
       "      <td>115.596495</td>\n",
       "    </tr>\n",
       "  </tbody>\n",
       "</table>\n",
       "</div>"
      ],
      "text/plain": [
       "                Mean square Error(MSE) Mean absolute Error(MAE)  \\\n",
       "LassoRegression               0.000001                 0.000738   \n",
       "RidgeRegression                    0.0                      0.0   \n",
       "ElasticNet                    0.000004                 0.001356   \n",
       "SGDRegression                 0.000001                  0.00074   \n",
       "\n",
       "                Root Mean Squared Error(RMSE)  \\\n",
       "LassoRegression                      0.001065   \n",
       "RidgeRegression                           0.0   \n",
       "ElasticNet                           0.001901   \n",
       "SGDRegression                        0.001064   \n",
       "\n",
       "                                                                                               Best Params  \\\n",
       "LassoRegression                                   {'alpha': 0.001, 'max_iter': 500, 'selection': 'cyclic'}   \n",
       "RidgeRegression                                        {'alpha': 0.001, 'max_iter': 500, 'solver': 'auto'}   \n",
       "ElasticNet                      {'alpha': 0.001, 'l1_ratio': 0.8, 'max_iter': 1000, 'selection': 'cyclic'}   \n",
       "SGDRegression    {'alpha': 0.001, 'learning_rate': 'invscaling', 'loss': 'squared_error', 'penalty': 'l1'}   \n",
       "\n",
       "                 time_taken  \n",
       "LassoRegression  184.887931  \n",
       "RidgeRegression  181.588317  \n",
       "ElasticNet       190.139431  \n",
       "SGDRegression    115.596495  "
      ]
     },
     "execution_count": 41,
     "metadata": {},
     "output_type": "execute_result"
    }
   ],
   "source": [
    "print(f\"Best model = {best_model} with MSE = {best_mse}\")\n",
    "results[['Mean square Error(MSE)','Mean absolute Error(MAE)','Root Mean Squared Error(RMSE)','Best Params','time_taken']]"
   ]
  },
  {
   "cell_type": "markdown",
   "id": "bec54d6a",
   "metadata": {},
   "source": [
    "### <center>Evaluation</center>"
   ]
  },
  {
   "cell_type": "code",
   "execution_count": 39,
   "id": "f881778a",
   "metadata": {
    "scrolled": true
   },
   "outputs": [
    {
     "name": "stdout",
     "output_type": "stream",
     "text": [
      "Performance on the test set is as follows:\n"
     ]
    },
    {
     "data": {
      "text/html": [
       "<div>\n",
       "<style scoped>\n",
       "    .dataframe tbody tr th:only-of-type {\n",
       "        vertical-align: middle;\n",
       "    }\n",
       "\n",
       "    .dataframe tbody tr th {\n",
       "        vertical-align: top;\n",
       "    }\n",
       "\n",
       "    .dataframe thead th {\n",
       "        text-align: right;\n",
       "    }\n",
       "</style>\n",
       "<table border=\"1\" class=\"dataframe\">\n",
       "  <thead>\n",
       "    <tr style=\"text-align: right;\">\n",
       "      <th></th>\n",
       "      <th>MSE</th>\n",
       "      <th>MAE</th>\n",
       "      <th>RMSE</th>\n",
       "    </tr>\n",
       "  </thead>\n",
       "  <tbody>\n",
       "    <tr>\n",
       "      <th>LassoRegression</th>\n",
       "      <td>1.107391e-06</td>\n",
       "      <td>7.351427e-04</td>\n",
       "      <td>1.052326e-03</td>\n",
       "    </tr>\n",
       "    <tr>\n",
       "      <th>RidgeRegression</th>\n",
       "      <td>1.253263e-15</td>\n",
       "      <td>2.719636e-08</td>\n",
       "      <td>3.540145e-08</td>\n",
       "    </tr>\n",
       "    <tr>\n",
       "      <th>ElasticNet</th>\n",
       "      <td>3.487259e-06</td>\n",
       "      <td>1.347967e-03</td>\n",
       "      <td>1.867420e-03</td>\n",
       "    </tr>\n",
       "    <tr>\n",
       "      <th>SGDRegression</th>\n",
       "      <td>1.105886e-06</td>\n",
       "      <td>7.370521e-04</td>\n",
       "      <td>1.051611e-03</td>\n",
       "    </tr>\n",
       "  </tbody>\n",
       "</table>\n",
       "</div>"
      ],
      "text/plain": [
       "                          MSE           MAE          RMSE\n",
       "LassoRegression  1.107391e-06  7.351427e-04  1.052326e-03\n",
       "RidgeRegression  1.253263e-15  2.719636e-08  3.540145e-08\n",
       "ElasticNet       3.487259e-06  1.347967e-03  1.867420e-03\n",
       "SGDRegression    1.105886e-06  7.370521e-04  1.051611e-03"
      ]
     },
     "execution_count": 39,
     "metadata": {},
     "output_type": "execute_result"
    }
   ],
   "source": [
    "test_results = pd.DataFrame()\n",
    "\n",
    "for modelName in results.index:\n",
    "    model = results.loc[modelName]['Best Regressor']\n",
    "    y_test_pred = model.predict(x_test)\n",
    "    mse = mean_squared_error(y_test, y_test_pred)\n",
    "    mae = mean_absolute_error(y_test, y_test_pred)\n",
    "    rmse = mean_squared_error(y_test, y_test_pred, squared=False)\n",
    "    \n",
    "    test_results.loc[modelName,['MSE','MAE','RMSE']]=[mse,mae,rmse]\n",
    "\n",
    "print(\"Performance on the test set is as follows:\")\n",
    "test_results.head()"
   ]
  },
  {
   "cell_type": "markdown",
   "id": "671655bb",
   "metadata": {},
   "source": [
    "From the above results, we can see that Ridge Regressor has the best performance over both train and test data."
   ]
  },
  {
   "cell_type": "markdown",
   "id": "8067fd55",
   "metadata": {},
   "source": [
    "### Comparision of all the models"
   ]
  },
  {
   "cell_type": "markdown",
   "id": "600748b8",
   "metadata": {},
   "source": [
    "Ridge Regression model is giving best performance as it has the least error among all the four models used above. The possible reasons for this better performance of ridge regression are:\n",
    "1. The given dataset has high degree of feature correlation as can be seen in EDA. Ridge regression can mitigate the problem of multicollinearity and thus it outperforms other models.\n",
    "2. The given dataset can be easily overfitten by complex models and as the ridge regression add more penalty to weights, it is able to better prevent overfitting than Lasso and Elastic Net.\n",
    "3. Stochastic gradient descent regression has convergence issues and thus can lead to suboptimal solutions and hence it underperforms compared to Ridge Regression."
   ]
  },
  {
   "cell_type": "markdown",
   "id": "31c56401",
   "metadata": {},
   "source": [
    "---"
   ]
  },
  {
   "cell_type": "markdown",
   "id": "613ddd57",
   "metadata": {},
   "source": [
    "# 2. Fee Prediction"
   ]
  },
  {
   "cell_type": "code",
   "execution_count": 78,
   "id": "4ec391c1",
   "metadata": {},
   "outputs": [],
   "source": [
    "# replace the csv file path here\n",
    "dataFilePath = \"C:\\\\Users\\\\rajini bopparam\\\\Downloads\\\\EVChargingStationUsage.csv\"\n",
    "Data = pd.read_csv(dataFilePath, low_memory = False)\n",
    "# setting low_memory to false to ignore \"mixed data type\" warning"
   ]
  },
  {
   "cell_type": "markdown",
   "id": "b9faf872",
   "metadata": {},
   "source": [
    "### <center>Data Preprocessing</center>"
   ]
  },
  {
   "cell_type": "markdown",
   "id": "42b111f8",
   "metadata": {},
   "source": [
    "Columns that can be removed: \n",
    "1. GHG Saving and Gasoline Saving as all these information is already present in Energy Column.\n",
    "2. Org Name , city state/province, country - same for all instances\n",
    "3. other columns that are not related!!"
   ]
  },
  {
   "cell_type": "code",
   "execution_count": 79,
   "id": "3877d9f0",
   "metadata": {},
   "outputs": [],
   "source": [
    "# redundant columns \n",
    "Data.drop(['GHG Savings (kg)','Gasoline Savings (gallons)'],axis=1, inplace=True)\n",
    "\n",
    "# columns all having all same value\n",
    "Data.drop(['Org Name','City','State/Province','Country'],axis=1,inplace=True)\n",
    "\n",
    "# columns that doesn't impact GHG savings\n",
    "Data.drop(['MAC Address','Start Date','Start Time Zone','End Date','End Time Zone','Transaction Date (Pacific Time)',\n",
    "              'Plug In Event Id','Postal Code','Driver Postal Code','User ID','EVSE ID','Address 1',\n",
    "              'System S/N',],axis=1,inplace=True)"
   ]
  },
  {
   "cell_type": "code",
   "execution_count": 80,
   "id": "cf33fc1c",
   "metadata": {},
   "outputs": [
    {
     "data": {
      "text/plain": [
       "Station Name                     0\n",
       "Total Duration (hh:mm:ss)        0\n",
       "Charging Time (hh:mm:ss)         0\n",
       "Energy (kWh)                     0\n",
       "Port Type                        9\n",
       "Port Number                      0\n",
       "Plug Type                        0\n",
       "Latitude                         0\n",
       "Longitude                        0\n",
       "Currency                      1788\n",
       "Fee                              0\n",
       "Ended By                       248\n",
       "County                       84665\n",
       "Model Number                 78948\n",
       "dtype: int64"
      ]
     },
     "execution_count": 80,
     "metadata": {},
     "output_type": "execute_result"
    }
   ],
   "source": [
    "Data.isnull().sum()"
   ]
  },
  {
   "cell_type": "markdown",
   "id": "f0d0238f",
   "metadata": {},
   "source": [
    "#### Replacing null values"
   ]
  },
  {
   "cell_type": "code",
   "execution_count": 81,
   "id": "51e89b0f",
   "metadata": {},
   "outputs": [],
   "source": [
    "mode_value = Data['Ended By'].mode()\n",
    "Data['Ended By'].fillna(str(mode_value), inplace = True)\n",
    "\n",
    "mode_value = Data['Currency'].mode()\n",
    "Data['Currency'].fillna(str(mode_value),inplace = True)\n",
    "\n",
    "mode_value = Data['Port Type'].mode()\n",
    "Data['Port Type'].fillna(str(mode_value), inplace=True)\n",
    "\n",
    "mode_value = Data['Model Number'].mode()\n",
    "Data['Model Number'].fillna(str(mode_value), inplace = True)\n",
    "\n",
    "mode_value = Data['County'].mode()\n",
    "Data['County'].fillna(str(mode_value), inplace = True)"
   ]
  },
  {
   "cell_type": "markdown",
   "id": "354b8830",
   "metadata": {},
   "source": [
    "#### Feature Transformation"
   ]
  },
  {
   "cell_type": "markdown",
   "id": "03d22898",
   "metadata": {},
   "source": [
    "Converting Total Duration and Charging Time from string to seconds"
   ]
  },
  {
   "cell_type": "code",
   "execution_count": 82,
   "id": "0d3643de",
   "metadata": {},
   "outputs": [
    {
     "data": {
      "text/html": [
       "<div>\n",
       "<style scoped>\n",
       "    .dataframe tbody tr th:only-of-type {\n",
       "        vertical-align: middle;\n",
       "    }\n",
       "\n",
       "    .dataframe tbody tr th {\n",
       "        vertical-align: top;\n",
       "    }\n",
       "\n",
       "    .dataframe thead th {\n",
       "        text-align: right;\n",
       "    }\n",
       "</style>\n",
       "<table border=\"1\" class=\"dataframe\">\n",
       "  <thead>\n",
       "    <tr style=\"text-align: right;\">\n",
       "      <th></th>\n",
       "      <th>Charging Time (hh:mm:ss)</th>\n",
       "      <th>Total Duration (hh:mm:ss)</th>\n",
       "    </tr>\n",
       "  </thead>\n",
       "  <tbody>\n",
       "    <tr>\n",
       "      <th>0</th>\n",
       "      <td>6843</td>\n",
       "      <td>11012</td>\n",
       "    </tr>\n",
       "    <tr>\n",
       "      <th>1</th>\n",
       "      <td>114</td>\n",
       "      <td>126</td>\n",
       "    </tr>\n",
       "    <tr>\n",
       "      <th>2</th>\n",
       "      <td>15448</td>\n",
       "      <td>15452</td>\n",
       "    </tr>\n",
       "    <tr>\n",
       "      <th>3</th>\n",
       "      <td>7378</td>\n",
       "      <td>7404</td>\n",
       "    </tr>\n",
       "    <tr>\n",
       "      <th>4</th>\n",
       "      <td>2634</td>\n",
       "      <td>4284</td>\n",
       "    </tr>\n",
       "    <tr>\n",
       "      <th>...</th>\n",
       "      <td>...</td>\n",
       "      <td>...</td>\n",
       "    </tr>\n",
       "    <tr>\n",
       "      <th>259410</th>\n",
       "      <td>2118</td>\n",
       "      <td>2144</td>\n",
       "    </tr>\n",
       "    <tr>\n",
       "      <th>259411</th>\n",
       "      <td>8044</td>\n",
       "      <td>13381</td>\n",
       "    </tr>\n",
       "    <tr>\n",
       "      <th>259412</th>\n",
       "      <td>18492</td>\n",
       "      <td>62894</td>\n",
       "    </tr>\n",
       "    <tr>\n",
       "      <th>259413</th>\n",
       "      <td>14022</td>\n",
       "      <td>14734</td>\n",
       "    </tr>\n",
       "    <tr>\n",
       "      <th>259414</th>\n",
       "      <td>2504</td>\n",
       "      <td>2527</td>\n",
       "    </tr>\n",
       "  </tbody>\n",
       "</table>\n",
       "<p>259415 rows × 2 columns</p>\n",
       "</div>"
      ],
      "text/plain": [
       "        Charging Time (hh:mm:ss)  Total Duration (hh:mm:ss)\n",
       "0                           6843                      11012\n",
       "1                            114                        126\n",
       "2                          15448                      15452\n",
       "3                           7378                       7404\n",
       "4                           2634                       4284\n",
       "...                          ...                        ...\n",
       "259410                      2118                       2144\n",
       "259411                      8044                      13381\n",
       "259412                     18492                      62894\n",
       "259413                     14022                      14734\n",
       "259414                      2504                       2527\n",
       "\n",
       "[259415 rows x 2 columns]"
      ]
     },
     "execution_count": 82,
     "metadata": {},
     "output_type": "execute_result"
    }
   ],
   "source": [
    "Data['Charging Time (hh:mm:ss)'] = Data['Charging Time (hh:mm:ss)'].apply(lambda t: StringToSeconds(t))\n",
    "Data['Total Duration (hh:mm:ss)'] = Data['Total Duration (hh:mm:ss)'].apply(lambda t: StringToSeconds(t))\n",
    "\n",
    "Data[['Charging Time (hh:mm:ss)','Total Duration (hh:mm:ss)']]"
   ]
  },
  {
   "cell_type": "code",
   "execution_count": 83,
   "id": "b2328a60",
   "metadata": {},
   "outputs": [
    {
     "name": "stdout",
     "output_type": "stream",
     "text": [
      "<class 'pandas.core.frame.DataFrame'>\n",
      "RangeIndex: 259415 entries, 0 to 259414\n",
      "Data columns (total 14 columns):\n",
      " #   Column                     Non-Null Count   Dtype  \n",
      "---  ------                     --------------   -----  \n",
      " 0   Station Name               259415 non-null  object \n",
      " 1   Total Duration (hh:mm:ss)  259415 non-null  int64  \n",
      " 2   Charging Time (hh:mm:ss)   259415 non-null  int64  \n",
      " 3   Energy (kWh)               259415 non-null  float64\n",
      " 4   Port Type                  259415 non-null  object \n",
      " 5   Port Number                259415 non-null  int64  \n",
      " 6   Plug Type                  259415 non-null  object \n",
      " 7   Latitude                   259415 non-null  float64\n",
      " 8   Longitude                  259415 non-null  float64\n",
      " 9   Currency                   259415 non-null  object \n",
      " 10  Fee                        259415 non-null  float64\n",
      " 11  Ended By                   259415 non-null  object \n",
      " 12  County                     259415 non-null  object \n",
      " 13  Model Number               259415 non-null  object \n",
      "dtypes: float64(4), int64(3), object(7)\n",
      "memory usage: 27.7+ MB\n"
     ]
    }
   ],
   "source": [
    "Data.info()"
   ]
  },
  {
   "cell_type": "markdown",
   "id": "7ab87326",
   "metadata": {},
   "source": [
    "#### Encoding for nominal attributes"
   ]
  },
  {
   "cell_type": "code",
   "execution_count": 85,
   "id": "38a91d9c",
   "metadata": {
    "scrolled": false
   },
   "outputs": [
    {
     "data": {
      "text/html": [
       "<div>\n",
       "<style scoped>\n",
       "    .dataframe tbody tr th:only-of-type {\n",
       "        vertical-align: middle;\n",
       "    }\n",
       "\n",
       "    .dataframe tbody tr th {\n",
       "        vertical-align: top;\n",
       "    }\n",
       "\n",
       "    .dataframe thead th {\n",
       "        text-align: right;\n",
       "    }\n",
       "</style>\n",
       "<table border=\"1\" class=\"dataframe\">\n",
       "  <thead>\n",
       "    <tr style=\"text-align: right;\">\n",
       "      <th></th>\n",
       "      <th>Station Name</th>\n",
       "      <th>Total Duration (hh:mm:ss)</th>\n",
       "      <th>Charging Time (hh:mm:ss)</th>\n",
       "      <th>Energy (kWh)</th>\n",
       "      <th>Port Type</th>\n",
       "      <th>Port Number</th>\n",
       "      <th>Plug Type</th>\n",
       "      <th>Latitude</th>\n",
       "      <th>Longitude</th>\n",
       "      <th>Currency</th>\n",
       "      <th>Fee</th>\n",
       "      <th>Ended By</th>\n",
       "      <th>County</th>\n",
       "      <th>Model Number</th>\n",
       "    </tr>\n",
       "  </thead>\n",
       "  <tbody>\n",
       "    <tr>\n",
       "      <th>0</th>\n",
       "      <td>12</td>\n",
       "      <td>11012</td>\n",
       "      <td>6843</td>\n",
       "      <td>6.249457</td>\n",
       "      <td>2</td>\n",
       "      <td>2</td>\n",
       "      <td>0</td>\n",
       "      <td>37.444572</td>\n",
       "      <td>-122.160309</td>\n",
       "      <td>4</td>\n",
       "      <td>0.0</td>\n",
       "      <td>12</td>\n",
       "      <td>0</td>\n",
       "      <td>0</td>\n",
       "    </tr>\n",
       "    <tr>\n",
       "      <th>1</th>\n",
       "      <td>12</td>\n",
       "      <td>126</td>\n",
       "      <td>114</td>\n",
       "      <td>0.106588</td>\n",
       "      <td>2</td>\n",
       "      <td>2</td>\n",
       "      <td>0</td>\n",
       "      <td>37.444572</td>\n",
       "      <td>-122.160309</td>\n",
       "      <td>4</td>\n",
       "      <td>0.0</td>\n",
       "      <td>2</td>\n",
       "      <td>0</td>\n",
       "      <td>0</td>\n",
       "    </tr>\n",
       "    <tr>\n",
       "      <th>2</th>\n",
       "      <td>12</td>\n",
       "      <td>15452</td>\n",
       "      <td>15448</td>\n",
       "      <td>14.951777</td>\n",
       "      <td>2</td>\n",
       "      <td>2</td>\n",
       "      <td>0</td>\n",
       "      <td>37.444572</td>\n",
       "      <td>-122.160309</td>\n",
       "      <td>4</td>\n",
       "      <td>0.0</td>\n",
       "      <td>12</td>\n",
       "      <td>0</td>\n",
       "      <td>0</td>\n",
       "    </tr>\n",
       "    <tr>\n",
       "      <th>3</th>\n",
       "      <td>12</td>\n",
       "      <td>7404</td>\n",
       "      <td>7378</td>\n",
       "      <td>7.159643</td>\n",
       "      <td>2</td>\n",
       "      <td>2</td>\n",
       "      <td>0</td>\n",
       "      <td>37.444572</td>\n",
       "      <td>-122.160309</td>\n",
       "      <td>4</td>\n",
       "      <td>0.0</td>\n",
       "      <td>2</td>\n",
       "      <td>0</td>\n",
       "      <td>0</td>\n",
       "    </tr>\n",
       "    <tr>\n",
       "      <th>4</th>\n",
       "      <td>12</td>\n",
       "      <td>4284</td>\n",
       "      <td>2634</td>\n",
       "      <td>1.957765</td>\n",
       "      <td>2</td>\n",
       "      <td>2</td>\n",
       "      <td>0</td>\n",
       "      <td>37.444572</td>\n",
       "      <td>-122.160309</td>\n",
       "      <td>4</td>\n",
       "      <td>0.0</td>\n",
       "      <td>12</td>\n",
       "      <td>0</td>\n",
       "      <td>0</td>\n",
       "    </tr>\n",
       "  </tbody>\n",
       "</table>\n",
       "</div>"
      ],
      "text/plain": [
       "   Station Name  Total Duration (hh:mm:ss)  Charging Time (hh:mm:ss)  \\\n",
       "0            12                      11012                      6843   \n",
       "1            12                        126                       114   \n",
       "2            12                      15452                     15448   \n",
       "3            12                       7404                      7378   \n",
       "4            12                       4284                      2634   \n",
       "\n",
       "   Energy (kWh)  Port Type  Port Number  Plug Type   Latitude   Longitude  \\\n",
       "0      6.249457          2            2          0  37.444572 -122.160309   \n",
       "1      0.106588          2            2          0  37.444572 -122.160309   \n",
       "2     14.951777          2            2          0  37.444572 -122.160309   \n",
       "3      7.159643          2            2          0  37.444572 -122.160309   \n",
       "4      1.957765          2            2          0  37.444572 -122.160309   \n",
       "\n",
       "   Currency  Fee  Ended By  County  Model Number  \n",
       "0         4  0.0        12       0             0  \n",
       "1         4  0.0         2       0             0  \n",
       "2         4  0.0        12       0             0  \n",
       "3         4  0.0         2       0             0  \n",
       "4         4  0.0        12       0             0  "
      ]
     },
     "execution_count": 85,
     "metadata": {},
     "output_type": "execute_result"
    }
   ],
   "source": [
    "labelEncoder = preprocessing.LabelEncoder()\n",
    "Data[['Station Name','Currency','Port Type','Plug Type','Ended By','County','Model Number']] = Data[['Station Name','Currency','Port Type','Plug Type','Ended By','County','Model Number']].apply(labelEncoder.fit_transform)\n",
    "Data.head()"
   ]
  },
  {
   "cell_type": "markdown",
   "id": "b0836da6",
   "metadata": {},
   "source": [
    "### <center>Regression Analysis</center>"
   ]
  },
  {
   "cell_type": "markdown",
   "id": "2e9bdd08",
   "metadata": {},
   "source": [
    "Train and Test splits"
   ]
  },
  {
   "cell_type": "code",
   "execution_count": 86,
   "id": "581b99b7",
   "metadata": {
    "scrolled": false
   },
   "outputs": [
    {
     "name": "stdout",
     "output_type": "stream",
     "text": [
      "Training size = 207532\n",
      "Test size = 51883\n"
     ]
    }
   ],
   "source": [
    "x_train, x_test, y_train, y_test = train_test_split(Data, Data['Fee'], random_state = 40, test_size = 0.20)\n",
    "\n",
    "print(f\"Training size = {len(y_train)}\")\n",
    "print(f\"Test size = {len(y_test)}\")"
   ]
  },
  {
   "cell_type": "markdown",
   "id": "871474e3",
   "metadata": {},
   "source": [
    "We can use sklearn RobustScaler for normalization and to remove outliers using standard IQR method"
   ]
  },
  {
   "cell_type": "code",
   "execution_count": 87,
   "id": "26466694",
   "metadata": {
    "scrolled": false
   },
   "outputs": [
    {
     "name": "stdout",
     "output_type": "stream",
     "text": [
      "Shape of training data after normalizing = (207532, 14)\n",
      "Shape of test data after normalizing = (51883, 14)\n"
     ]
    }
   ],
   "source": [
    "# normalizing train and test sets seperately so that no information from \n",
    "# test set will be leaked\n",
    "scaler = RobustScaler()\n",
    "scaler.fit(x_train)\n",
    "x_train = scaler.transform(x_train)\n",
    "x_test = scaler.transform(x_test)\n",
    "\n",
    "print(f\"Shape of training data after normalizing = {x_train.shape}\")\n",
    "print(f\"Shape of test data after normalizing = {x_test.shape}\")"
   ]
  },
  {
   "cell_type": "markdown",
   "id": "04ededaa",
   "metadata": {},
   "source": [
    "The number of rows remained unchanged suggesting absence of major outliers"
   ]
  },
  {
   "cell_type": "markdown",
   "id": "5d078c83",
   "metadata": {},
   "source": [
    "### Regression models "
   ]
  },
  {
   "cell_type": "markdown",
   "id": "116c3917",
   "metadata": {},
   "source": [
    "The following models are used to perform regression:\n",
    "1. Lasso Regression\n",
    "2. Ridge Regression\n",
    "3. ElasticNet\n",
    "4. Stochastic Gradient Descent Regression"
   ]
  },
  {
   "cell_type": "code",
   "execution_count": 88,
   "id": "6a6a0a3e",
   "metadata": {},
   "outputs": [],
   "source": [
    "from sklearn.linear_model import Lasso, Ridge, SGDRegressor, ElasticNet\n",
    "from sklearn.model_selection import GridSearchCV\n",
    "models = {\n",
    "    \n",
    "    'LassoRegression':{\n",
    "        'model':Lasso(random_state = 40),\n",
    "        'parameters':{\n",
    "            'alpha':[0.001,0.01,0.05,0.1,0.2,0.5],# regularization constant\n",
    "            'selection':['cyclic','random'],\n",
    "            'max_iter':[500,1000,1500,2000]\n",
    "        }\n",
    "    },\n",
    "    \n",
    "    'RidgeRegression':{\n",
    "        'model':Ridge(random_state = 40),\n",
    "        'parameters':{\n",
    "            'alpha':[0.001,0.01,0.05,0.1],# regularization constant,\n",
    "            'solver':['auto','svd','cholesky'],\n",
    "            'max_iter':[500,1000,1500,2000]\n",
    "        }\n",
    "    },\n",
    "    \n",
    "    'ElasticNet':{\n",
    "        'model':ElasticNet(random_state = 40),\n",
    "        'parameters':{\n",
    "            'alpha':[0.001,0.01,0.1,0.5],\n",
    "            'l1_ratio':[0.2,0.5,0.8],\n",
    "            'max_iter':[1000,2000],\n",
    "            'selection':['cyclic','random']\n",
    "        }\n",
    "    },\n",
    "    \n",
    "    'SGDRegression':{\n",
    "        'model':SGDRegressor(random_state = 40),\n",
    "        'parameters':{\n",
    "            'loss':['squared_error','huber','epsilon_insensitive'],\n",
    "            'penalty':['l2','l1'],\n",
    "            'alpha':[0.001,0.01,0.1,0.5],\n",
    "            # the learning rate schedule\n",
    "            'learning_rate':['constant','invscaling']\n",
    "        },\n",
    "    }\n",
    "}"
   ]
  },
  {
   "cell_type": "markdown",
   "id": "15d7a289",
   "metadata": {},
   "source": [
    "Model Training"
   ]
  },
  {
   "cell_type": "code",
   "execution_count": 89,
   "id": "bda855ec",
   "metadata": {},
   "outputs": [
    {
     "name": "stdout",
     "output_type": "stream",
     "text": [
      "Fitting 5 folds for each of 48 candidates, totalling 240 fits\n",
      "Completed training for LassoRegression \t Time taken : 80.61291527748108 seconds\n",
      "\n",
      "Fitting 5 folds for each of 48 candidates, totalling 240 fits\n",
      "Completed training for RidgeRegression \t Time taken : 74.14338684082031 seconds\n",
      "\n",
      "Fitting 5 folds for each of 48 candidates, totalling 240 fits\n",
      "Completed training for ElasticNet \t Time taken : 84.88286852836609 seconds\n",
      "\n",
      "Fitting 5 folds for each of 48 candidates, totalling 240 fits\n",
      "Completed training for SGDRegression \t Time taken : 91.41072916984558 seconds\n",
      "\n"
     ]
    }
   ],
   "source": [
    "results = pd.DataFrame()\n",
    "\n",
    "results['Mean square Error(MSE)'] = None\n",
    "results['Mean absolute Error(MAE)'] = None\n",
    "results['Root Mean Squared Error(RMSE)'] = None\n",
    "results['Best Params']=None\n",
    "results['Time taken']=None\n",
    "results['Best Regressor']=None\n",
    "\n",
    "best_model =None\n",
    "best_mse = np.inf\n",
    "\n",
    "for modelName, classifier in models.items():\n",
    "    start = time.time()\n",
    "    regressor = GridSearchCV(classifier['model'], classifier['parameters'],n_jobs = 10, verbose = 1)\n",
    "    regressor.fit(x_train,list(y_train))\n",
    "    best_regressor = regressor.best_estimator_\n",
    "    end = time.time()\n",
    "    time_taken = end-start\n",
    "    y_train_pred = best_regressor.predict(x_train)\n",
    "    mse = mean_squared_error(y_train, y_train_pred)\n",
    "    mae = mean_absolute_error(y_train, y_train_pred)\n",
    "    rmse = mean_squared_error(y_train, y_train_pred, squared=False)\n",
    "    \n",
    "    if mse < best_mse:\n",
    "        best_mse = mse\n",
    "        best_model = modelName\n",
    "    \n",
    "    print(f\"Completed training for {modelName} \\t Time taken : {time_taken} seconds\\n\")\n",
    "    \n",
    "    results.loc[modelName,['Mean square Error(MSE)','Mean absolute Error(MAE)','Root Mean Squared Error(RMSE)','Best Params','time_taken','Best Regressor']] = [mse, mae, rmse, regressor.best_params_,time_taken,best_regressor]"
   ]
  },
  {
   "cell_type": "code",
   "execution_count": 94,
   "id": "55e3eebf",
   "metadata": {
    "scrolled": false
   },
   "outputs": [
    {
     "name": "stdout",
     "output_type": "stream",
     "text": [
      "Best model = RidgeRegression with MSE = 7.505920679597945e-17\n"
     ]
    },
    {
     "data": {
      "text/html": [
       "<div>\n",
       "<style scoped>\n",
       "    .dataframe tbody tr th:only-of-type {\n",
       "        vertical-align: middle;\n",
       "    }\n",
       "\n",
       "    .dataframe tbody tr th {\n",
       "        vertical-align: top;\n",
       "    }\n",
       "\n",
       "    .dataframe thead th {\n",
       "        text-align: right;\n",
       "    }\n",
       "</style>\n",
       "<table border=\"1\" class=\"dataframe\">\n",
       "  <thead>\n",
       "    <tr style=\"text-align: right;\">\n",
       "      <th></th>\n",
       "      <th>Mean square Error(MSE)</th>\n",
       "      <th>Mean absolute Error(MAE)</th>\n",
       "      <th>Root Mean Squared Error(RMSE)</th>\n",
       "      <th>Best Params</th>\n",
       "      <th>time_taken</th>\n",
       "    </tr>\n",
       "  </thead>\n",
       "  <tbody>\n",
       "    <tr>\n",
       "      <th>LassoRegression</th>\n",
       "      <td>0.000001</td>\n",
       "      <td>0.000555</td>\n",
       "      <td>0.000848</td>\n",
       "      <td>{'alpha': 0.001, 'max_iter': 500, 'selection': 'cyclic'}</td>\n",
       "      <td>80.612915</td>\n",
       "    </tr>\n",
       "    <tr>\n",
       "      <th>RidgeRegression</th>\n",
       "      <td>0.0</td>\n",
       "      <td>0.0</td>\n",
       "      <td>0.0</td>\n",
       "      <td>{'alpha': 0.001, 'max_iter': 500, 'solver': 'auto'}</td>\n",
       "      <td>74.143387</td>\n",
       "    </tr>\n",
       "    <tr>\n",
       "      <th>ElasticNet</th>\n",
       "      <td>0.000001</td>\n",
       "      <td>0.000626</td>\n",
       "      <td>0.000957</td>\n",
       "      <td>{'alpha': 0.001, 'l1_ratio': 0.8, 'max_iter': 1000, 'selection': 'cyclic'}</td>\n",
       "      <td>84.882869</td>\n",
       "    </tr>\n",
       "    <tr>\n",
       "      <th>SGDRegression</th>\n",
       "      <td>0.000001</td>\n",
       "      <td>0.000553</td>\n",
       "      <td>0.000831</td>\n",
       "      <td>{'alpha': 0.001, 'learning_rate': 'invscaling', 'loss': 'squared_error', 'penalty': 'l1'}</td>\n",
       "      <td>91.410729</td>\n",
       "    </tr>\n",
       "  </tbody>\n",
       "</table>\n",
       "</div>"
      ],
      "text/plain": [
       "                Mean square Error(MSE) Mean absolute Error(MAE)  \\\n",
       "LassoRegression               0.000001                 0.000555   \n",
       "RidgeRegression                    0.0                      0.0   \n",
       "ElasticNet                    0.000001                 0.000626   \n",
       "SGDRegression                 0.000001                 0.000553   \n",
       "\n",
       "                Root Mean Squared Error(RMSE)  \\\n",
       "LassoRegression                      0.000848   \n",
       "RidgeRegression                           0.0   \n",
       "ElasticNet                           0.000957   \n",
       "SGDRegression                        0.000831   \n",
       "\n",
       "                                                                                               Best Params  \\\n",
       "LassoRegression                                   {'alpha': 0.001, 'max_iter': 500, 'selection': 'cyclic'}   \n",
       "RidgeRegression                                        {'alpha': 0.001, 'max_iter': 500, 'solver': 'auto'}   \n",
       "ElasticNet                      {'alpha': 0.001, 'l1_ratio': 0.8, 'max_iter': 1000, 'selection': 'cyclic'}   \n",
       "SGDRegression    {'alpha': 0.001, 'learning_rate': 'invscaling', 'loss': 'squared_error', 'penalty': 'l1'}   \n",
       "\n",
       "                 time_taken  \n",
       "LassoRegression   80.612915  \n",
       "RidgeRegression   74.143387  \n",
       "ElasticNet        84.882869  \n",
       "SGDRegression     91.410729  "
      ]
     },
     "execution_count": 94,
     "metadata": {},
     "output_type": "execute_result"
    }
   ],
   "source": [
    "print(f\"Best model = {best_model} with MSE = {best_mse}\")\n",
    "results[['Mean square Error(MSE)','Mean absolute Error(MAE)','Root Mean Squared Error(RMSE)','Best Params','time_taken']]"
   ]
  },
  {
   "cell_type": "markdown",
   "id": "83b078e2",
   "metadata": {},
   "source": [
    "### <center>Evaluation</center>"
   ]
  },
  {
   "cell_type": "code",
   "execution_count": 95,
   "id": "5d161faa",
   "metadata": {
    "scrolled": true
   },
   "outputs": [
    {
     "name": "stdout",
     "output_type": "stream",
     "text": [
      "Performance on the test set is as follows:\n"
     ]
    },
    {
     "data": {
      "text/html": [
       "<div>\n",
       "<style scoped>\n",
       "    .dataframe tbody tr th:only-of-type {\n",
       "        vertical-align: middle;\n",
       "    }\n",
       "\n",
       "    .dataframe tbody tr th {\n",
       "        vertical-align: top;\n",
       "    }\n",
       "\n",
       "    .dataframe thead th {\n",
       "        text-align: right;\n",
       "    }\n",
       "</style>\n",
       "<table border=\"1\" class=\"dataframe\">\n",
       "  <thead>\n",
       "    <tr style=\"text-align: right;\">\n",
       "      <th></th>\n",
       "      <th>MSE</th>\n",
       "      <th>MAE</th>\n",
       "      <th>RMSE</th>\n",
       "    </tr>\n",
       "  </thead>\n",
       "  <tbody>\n",
       "    <tr>\n",
       "      <th>LassoRegression</th>\n",
       "      <td>7.218366e-07</td>\n",
       "      <td>5.545930e-04</td>\n",
       "      <td>8.496097e-04</td>\n",
       "    </tr>\n",
       "    <tr>\n",
       "      <th>RidgeRegression</th>\n",
       "      <td>7.532212e-17</td>\n",
       "      <td>5.125672e-09</td>\n",
       "      <td>8.678831e-09</td>\n",
       "    </tr>\n",
       "    <tr>\n",
       "      <th>ElasticNet</th>\n",
       "      <td>9.181891e-07</td>\n",
       "      <td>6.254910e-04</td>\n",
       "      <td>9.582219e-04</td>\n",
       "    </tr>\n",
       "    <tr>\n",
       "      <th>SGDRegression</th>\n",
       "      <td>6.923496e-07</td>\n",
       "      <td>5.523885e-04</td>\n",
       "      <td>8.320755e-04</td>\n",
       "    </tr>\n",
       "  </tbody>\n",
       "</table>\n",
       "</div>"
      ],
      "text/plain": [
       "                          MSE           MAE          RMSE\n",
       "LassoRegression  7.218366e-07  5.545930e-04  8.496097e-04\n",
       "RidgeRegression  7.532212e-17  5.125672e-09  8.678831e-09\n",
       "ElasticNet       9.181891e-07  6.254910e-04  9.582219e-04\n",
       "SGDRegression    6.923496e-07  5.523885e-04  8.320755e-04"
      ]
     },
     "execution_count": 95,
     "metadata": {},
     "output_type": "execute_result"
    }
   ],
   "source": [
    "test_results = pd.DataFrame()\n",
    "\n",
    "for modelName in results.index:\n",
    "    model = results.loc[modelName]['Best Regressor']\n",
    "    y_test_pred = model.predict(x_test)\n",
    "    mse = mean_squared_error(y_test, y_test_pred)\n",
    "    mae = mean_absolute_error(y_test, y_test_pred)\n",
    "    rmse = mean_squared_error(y_test, y_test_pred, squared=False)\n",
    "    \n",
    "    test_results.loc[modelName,['MSE','MAE','RMSE']]=[mse,mae,rmse]\n",
    "\n",
    "print(\"Performance on the test set is as follows:\")\n",
    "test_results.head()"
   ]
  },
  {
   "cell_type": "markdown",
   "id": "e7a5c5c2",
   "metadata": {},
   "source": [
    "From the above results, we can see that Ridge Regressor has the best performance over both train and test data."
   ]
  },
  {
   "cell_type": "markdown",
   "id": "a52e8a4b",
   "metadata": {},
   "source": [
    "Thus Ridge regression has best performance even here compared to other models and the reasons being the same as in problem 1. Hence, Ridge regression is better able to prevent overfitting and thus giving good results for the given dataset."
   ]
  },
  {
   "cell_type": "markdown",
   "id": "8c6b8c17",
   "metadata": {},
   "source": [
    "---"
   ]
  },
  {
   "cell_type": "markdown",
   "id": "b75f06b3",
   "metadata": {},
   "source": [
    "### <center>THE END</center>"
   ]
  },
  {
   "cell_type": "markdown",
   "id": "4da99785",
   "metadata": {},
   "source": [
    "---"
   ]
  }
 ],
 "metadata": {
  "kernelspec": {
   "display_name": "Python 3 (ipykernel)",
   "language": "python",
   "name": "python3"
  },
  "language_info": {
   "codemirror_mode": {
    "name": "ipython",
    "version": 3
   },
   "file_extension": ".py",
   "mimetype": "text/x-python",
   "name": "python",
   "nbconvert_exporter": "python",
   "pygments_lexer": "ipython3",
   "version": "3.7.2"
  }
 },
 "nbformat": 4,
 "nbformat_minor": 5
}
