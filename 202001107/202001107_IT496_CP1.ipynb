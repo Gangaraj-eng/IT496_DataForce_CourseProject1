{
 "cells": [
  {
   "cell_type": "markdown",
   "id": "0e3347f8",
   "metadata": {},
   "source": [
    "# <font size=6 color='green'><center>**IT 496 - Introduction to Data Mining**</center></font>\n",
    "### **<center>Course Project - 01<br/><br/>Data Preprocessing, EDA and Regression Analysis<center>**\n",
    "\n",
    " &emsp; **Group Name : <font color='#0099ff'>DataForce</font>** <br/>\n",
    " &emsp; **Group ID : <font color='#0099ff'>T06</font>**\n",
    " <br/>&emsp; **Dateset : <font color='#0099ff'>EV Charging Station</font>**"
   ]
  },
  {
   "cell_type": "markdown",
   "id": "c252e2cd",
   "metadata": {},
   "source": [
    "### <center>Exploratory Data Analysis(EDA)</center>"
   ]
  },
  {
   "cell_type": "markdown",
   "id": "00dcce68",
   "metadata": {},
   "source": [
    "**T1.** Explore the dataset assigned to your team and provide:\n"
   ]
  },
  {
   "cell_type": "markdown",
   "id": "5d54345f",
   "metadata": {},
   "source": [
    "$a$. A summary of the dataset (should include information columns present, attribute\n",
    "types, null values, and a summary of each attribute)."
   ]
  },
  {
   "cell_type": "markdown",
   "id": "04f8ba09",
   "metadata": {},
   "source": [
    "$b$. Data Visualization, summarizing insights about the dataset through EDA."
   ]
  },
  {
   "cell_type": "markdown",
   "id": "9a5b540e",
   "metadata": {},
   "source": [
    "### <center>Regression Analysis</center>"
   ]
  },
  {
   "cell_type": "markdown",
   "id": "22c4c1d2",
   "metadata": {},
   "source": [
    "**T2**. Identify and list regression problems on your assigned dataset. Which one does seem the\n",
    "most interesting to you and why?"
   ]
  },
  {
   "cell_type": "markdown",
   "id": "d55f4744",
   "metadata": {},
   "source": [
    "**T3.** Build an end-to-end Machine Learning pipeline for your assigned dataset for the\n",
    "aforementioned most interesting regression problems found in $T2$. Your pipeline should\n",
    "include components for dataset preprocessing, transformation, regression model building\n",
    "hyperparameter tuning, grid search or optimization, and evaluation. Report results on the\n",
    "regression models with hyperparameter tuning, and report the best hyperparameter\n",
    "values. Report results using at least two relevant evaluation metrics like RMSE,MAE.\n",
    "Compare results for different models and give the reasoning for that."
   ]
  },
  {
   "cell_type": "code",
   "execution_count": 4,
   "id": "36230512",
   "metadata": {},
   "outputs": [],
   "source": [
    "# importing required libraries\n",
    "import numpy as np\n",
    "import pandas as pd\n",
    "import matplotlib.pyplot as plt"
   ]
  },
  {
   "cell_type": "code",
   "execution_count": 8,
   "id": "e33dfe73",
   "metadata": {},
   "outputs": [],
   "source": [
    "# temporary, just to load dataset\n",
    "data = pd.read_csv(r\"C:\\Users\\rajini bopparam\\Downloads\\EVChargingStationUsage.csv\",low_memory=False)"
   ]
  },
  {
   "cell_type": "code",
   "execution_count": 12,
   "id": "62af00a7",
   "metadata": {},
   "outputs": [
    {
     "data": {
      "text/plain": [
       "Index(['Station Name', 'MAC Address', 'Org Name', 'Start Date',\n",
       "       'Start Time Zone', 'End Date', 'End Time Zone',\n",
       "       'Transaction Date (Pacific Time)', 'Total Duration (hh:mm:ss)',\n",
       "       'Charging Time (hh:mm:ss)', 'Energy (kWh)', 'GHG Savings (kg)',\n",
       "       'Gasoline Savings (gallons)', 'Port Type', 'Port Number', 'Plug Type',\n",
       "       'EVSE ID', 'Address 1', 'City', 'State/Province', 'Postal Code',\n",
       "       'Country', 'Latitude', 'Longitude', 'Currency', 'Fee', 'Ended By',\n",
       "       'Plug In Event Id', 'Driver Postal Code', 'User ID', 'County',\n",
       "       'System S/N', 'Model Number'],\n",
       "      dtype='object')"
      ]
     },
     "execution_count": 12,
     "metadata": {},
     "output_type": "execute_result"
    }
   ],
   "source": [
    "data.columns"
   ]
  },
  {
   "cell_type": "code",
   "execution_count": 15,
   "id": "451cba2d",
   "metadata": {},
   "outputs": [
    {
     "data": {
      "text/html": [
       "<div>\n",
       "<style scoped>\n",
       "    .dataframe tbody tr th:only-of-type {\n",
       "        vertical-align: middle;\n",
       "    }\n",
       "\n",
       "    .dataframe tbody tr th {\n",
       "        vertical-align: top;\n",
       "    }\n",
       "\n",
       "    .dataframe thead th {\n",
       "        text-align: right;\n",
       "    }\n",
       "</style>\n",
       "<table border=\"1\" class=\"dataframe\">\n",
       "  <thead>\n",
       "    <tr style=\"text-align: right;\">\n",
       "      <th></th>\n",
       "      <th>Energy (kWh)</th>\n",
       "      <th>GHG Savings (kg)</th>\n",
       "      <th>Gasoline Savings (gallons)</th>\n",
       "      <th>Port Number</th>\n",
       "      <th>EVSE ID</th>\n",
       "      <th>Postal Code</th>\n",
       "      <th>Latitude</th>\n",
       "      <th>Longitude</th>\n",
       "      <th>Fee</th>\n",
       "      <th>Plug In Event Id</th>\n",
       "      <th>Driver Postal Code</th>\n",
       "      <th>System S/N</th>\n",
       "    </tr>\n",
       "  </thead>\n",
       "  <tbody>\n",
       "    <tr>\n",
       "      <th>count</th>\n",
       "      <td>259415.000000</td>\n",
       "      <td>259415.000000</td>\n",
       "      <td>259415.000000</td>\n",
       "      <td>259415.000000</td>\n",
       "      <td>1.804670e+05</td>\n",
       "      <td>259415.000000</td>\n",
       "      <td>259415.000000</td>\n",
       "      <td>259415.000000</td>\n",
       "      <td>259415.000000</td>\n",
       "      <td>2.594150e+05</td>\n",
       "      <td>251013.000000</td>\n",
       "      <td>1.804670e+05</td>\n",
       "    </tr>\n",
       "    <tr>\n",
       "      <th>mean</th>\n",
       "      <td>8.544277</td>\n",
       "      <td>3.588596</td>\n",
       "      <td>1.072306</td>\n",
       "      <td>1.591627</td>\n",
       "      <td>1.462973e+05</td>\n",
       "      <td>94302.315768</td>\n",
       "      <td>37.439565</td>\n",
       "      <td>-122.151264</td>\n",
       "      <td>1.097481</td>\n",
       "      <td>1.188685e+08</td>\n",
       "      <td>94170.308255</td>\n",
       "      <td>1.443911e+11</td>\n",
       "    </tr>\n",
       "    <tr>\n",
       "      <th>std</th>\n",
       "      <td>7.185462</td>\n",
       "      <td>3.017894</td>\n",
       "      <td>0.901776</td>\n",
       "      <td>0.491534</td>\n",
       "      <td>2.429677e+05</td>\n",
       "      <td>1.941657</td>\n",
       "      <td>0.009621</td>\n",
       "      <td>0.015382</td>\n",
       "      <td>1.934408</td>\n",
       "      <td>4.057750e+08</td>\n",
       "      <td>4249.837126</td>\n",
       "      <td>2.483968e+10</td>\n",
       "    </tr>\n",
       "    <tr>\n",
       "      <th>min</th>\n",
       "      <td>0.010000</td>\n",
       "      <td>0.004000</td>\n",
       "      <td>0.001000</td>\n",
       "      <td>1.000000</td>\n",
       "      <td>3.792000e+03</td>\n",
       "      <td>94301.000000</td>\n",
       "      <td>37.422104</td>\n",
       "      <td>-122.163239</td>\n",
       "      <td>0.000000</td>\n",
       "      <td>1.000000e+00</td>\n",
       "      <td>1013.000000</td>\n",
       "      <td>1.020000e+11</td>\n",
       "    </tr>\n",
       "    <tr>\n",
       "      <th>25%</th>\n",
       "      <td>3.784000</td>\n",
       "      <td>1.589000</td>\n",
       "      <td>0.475000</td>\n",
       "      <td>1.000000</td>\n",
       "      <td>4.358300e+04</td>\n",
       "      <td>94301.000000</td>\n",
       "      <td>37.428318</td>\n",
       "      <td>-122.162170</td>\n",
       "      <td>0.000000</td>\n",
       "      <td>1.573000e+03</td>\n",
       "      <td>94087.000000</td>\n",
       "      <td>1.231100e+11</td>\n",
       "    </tr>\n",
       "    <tr>\n",
       "      <th>50%</th>\n",
       "      <td>6.868634</td>\n",
       "      <td>2.885000</td>\n",
       "      <td>0.862000</td>\n",
       "      <td>2.000000</td>\n",
       "      <td>1.074270e+05</td>\n",
       "      <td>94301.000000</td>\n",
       "      <td>37.444489</td>\n",
       "      <td>-122.158272</td>\n",
       "      <td>0.000000</td>\n",
       "      <td>3.573000e+03</td>\n",
       "      <td>94304.000000</td>\n",
       "      <td>1.427410e+11</td>\n",
       "    </tr>\n",
       "    <tr>\n",
       "      <th>75%</th>\n",
       "      <td>11.458340</td>\n",
       "      <td>4.813000</td>\n",
       "      <td>1.438000</td>\n",
       "      <td>2.000000</td>\n",
       "      <td>1.745590e+05</td>\n",
       "      <td>94303.000000</td>\n",
       "      <td>37.446613</td>\n",
       "      <td>-122.145699</td>\n",
       "      <td>1.640000</td>\n",
       "      <td>6.340000e+03</td>\n",
       "      <td>94804.000000</td>\n",
       "      <td>1.707410e+11</td>\n",
       "    </tr>\n",
       "    <tr>\n",
       "      <th>max</th>\n",
       "      <td>97.360000</td>\n",
       "      <td>40.891000</td>\n",
       "      <td>12.219000</td>\n",
       "      <td>2.000000</td>\n",
       "      <td>5.535441e+06</td>\n",
       "      <td>94306.000000</td>\n",
       "      <td>37.449375</td>\n",
       "      <td>-122.112480</td>\n",
       "      <td>84.560000</td>\n",
       "      <td>1.609436e+09</td>\n",
       "      <td>99354.000000</td>\n",
       "      <td>2.002410e+11</td>\n",
       "    </tr>\n",
       "  </tbody>\n",
       "</table>\n",
       "</div>"
      ],
      "text/plain": [
       "        Energy (kWh)  GHG Savings (kg)  Gasoline Savings (gallons)  \\\n",
       "count  259415.000000     259415.000000               259415.000000   \n",
       "mean        8.544277          3.588596                    1.072306   \n",
       "std         7.185462          3.017894                    0.901776   \n",
       "min         0.010000          0.004000                    0.001000   \n",
       "25%         3.784000          1.589000                    0.475000   \n",
       "50%         6.868634          2.885000                    0.862000   \n",
       "75%        11.458340          4.813000                    1.438000   \n",
       "max        97.360000         40.891000                   12.219000   \n",
       "\n",
       "         Port Number       EVSE ID    Postal Code       Latitude  \\\n",
       "count  259415.000000  1.804670e+05  259415.000000  259415.000000   \n",
       "mean        1.591627  1.462973e+05   94302.315768      37.439565   \n",
       "std         0.491534  2.429677e+05       1.941657       0.009621   \n",
       "min         1.000000  3.792000e+03   94301.000000      37.422104   \n",
       "25%         1.000000  4.358300e+04   94301.000000      37.428318   \n",
       "50%         2.000000  1.074270e+05   94301.000000      37.444489   \n",
       "75%         2.000000  1.745590e+05   94303.000000      37.446613   \n",
       "max         2.000000  5.535441e+06   94306.000000      37.449375   \n",
       "\n",
       "           Longitude            Fee  Plug In Event Id  Driver Postal Code  \\\n",
       "count  259415.000000  259415.000000      2.594150e+05       251013.000000   \n",
       "mean     -122.151264       1.097481      1.188685e+08        94170.308255   \n",
       "std         0.015382       1.934408      4.057750e+08         4249.837126   \n",
       "min      -122.163239       0.000000      1.000000e+00         1013.000000   \n",
       "25%      -122.162170       0.000000      1.573000e+03        94087.000000   \n",
       "50%      -122.158272       0.000000      3.573000e+03        94304.000000   \n",
       "75%      -122.145699       1.640000      6.340000e+03        94804.000000   \n",
       "max      -122.112480      84.560000      1.609436e+09        99354.000000   \n",
       "\n",
       "         System S/N  \n",
       "count  1.804670e+05  \n",
       "mean   1.443911e+11  \n",
       "std    2.483968e+10  \n",
       "min    1.020000e+11  \n",
       "25%    1.231100e+11  \n",
       "50%    1.427410e+11  \n",
       "75%    1.707410e+11  \n",
       "max    2.002410e+11  "
      ]
     },
     "execution_count": 15,
     "metadata": {},
     "output_type": "execute_result"
    }
   ],
   "source": [
    "data.describe()"
   ]
  },
  {
   "cell_type": "code",
   "execution_count": null,
   "id": "adf616d3",
   "metadata": {},
   "outputs": [],
   "source": []
  }
 ],
 "metadata": {
  "kernelspec": {
   "display_name": "Python 3 (ipykernel)",
   "language": "python",
   "name": "python3"
  },
  "language_info": {
   "codemirror_mode": {
    "name": "ipython",
    "version": 3
   },
   "file_extension": ".py",
   "mimetype": "text/x-python",
   "name": "python",
   "nbconvert_exporter": "python",
   "pygments_lexer": "ipython3",
   "version": "3.7.2"
  }
 },
 "nbformat": 4,
 "nbformat_minor": 5
}
