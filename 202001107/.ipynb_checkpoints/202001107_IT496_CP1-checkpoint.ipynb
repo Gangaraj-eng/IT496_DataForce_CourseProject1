{
 "cells": [
  {
   "cell_type": "markdown",
   "id": "0e3347f8",
   "metadata": {},
   "source": [
    "# <font size=6 color='green'><center>**IT 496 - Introduction to Data Mining**</center></font>\n",
    "### **<center>Course Project - 01<br/><br/>Data Preprocessing, EDA and Regression Analysis<center>**\n",
    "\n",
    " &emsp; **Group Name : <font color='#0099ff'>DataForce</font>** <br/>\n",
    " &emsp; **Group ID : <font color='#0099ff'>T06</font>**\n",
    " <br/>&emsp; **Dateset : <font color='#0099ff'>EV Charging Station</font>**"
   ]
  },
  {
   "cell_type": "markdown",
   "id": "651b62a1",
   "metadata": {},
   "source": [
    "### <center>Introduction </center>"
   ]
  },
  {
   "cell_type": "markdown",
   "id": "111a7757",
   "metadata": {},
   "source": [
    "**Dataset Name**: Electric Vehicle(EV) Charging station<br/><br/>\n",
    "$\\hspace{1.5cm}$The EV Charging Station dataset provides the availability, use, and demand for EV charging facilities, which helps researchers, analysts, and businesses better understand the regional EV industry and sustainable transportation methods.Information on charging station locations, available charging connector types, charging session lengths, energy usage, and other pertinent metrics are all included in the data. \n",
    "<br/><br/>\n",
    "**Use**: To provide comprehensive insights into the usage patterns of Electric Vehicle(EV) charging stations in the city o f Palo Alto, California<br/>\n",
    "\n",
    "**Dataset Link**: https://www.kaggle.com/datasets/venkatsairo4899/ev-charging-station-usage-of-california-city"
   ]
  },
  {
   "cell_type": "markdown",
   "id": "a1ddbd7f",
   "metadata": {},
   "source": [
    "### <center>Exploratory Data Analysis</center>"
   ]
  },
  {
   "cell_type": "code",
   "execution_count": 1,
   "id": "36230512",
   "metadata": {},
   "outputs": [],
   "source": [
    "# importing required libraries\n",
    "import numpy as np\n",
    "import pandas as pd\n",
    "import matplotlib.pyplot as plt\n",
    "import seaborn as sns"
   ]
  },
  {
   "cell_type": "markdown",
   "id": "9ae63774",
   "metadata": {},
   "source": [
    "Loading dataset"
   ]
  },
  {
   "cell_type": "code",
   "execution_count": 2,
   "id": "e33dfe73",
   "metadata": {},
   "outputs": [
    {
     "data": {
      "text/html": [
       "<div>\n",
       "<style scoped>\n",
       "    .dataframe tbody tr th:only-of-type {\n",
       "        vertical-align: middle;\n",
       "    }\n",
       "\n",
       "    .dataframe tbody tr th {\n",
       "        vertical-align: top;\n",
       "    }\n",
       "\n",
       "    .dataframe thead th {\n",
       "        text-align: right;\n",
       "    }\n",
       "</style>\n",
       "<table border=\"1\" class=\"dataframe\">\n",
       "  <thead>\n",
       "    <tr style=\"text-align: right;\">\n",
       "      <th></th>\n",
       "      <th>Station Name</th>\n",
       "      <th>MAC Address</th>\n",
       "      <th>Org Name</th>\n",
       "      <th>Start Date</th>\n",
       "      <th>Start Time Zone</th>\n",
       "      <th>End Date</th>\n",
       "      <th>End Time Zone</th>\n",
       "      <th>Transaction Date (Pacific Time)</th>\n",
       "      <th>Total Duration (hh:mm:ss)</th>\n",
       "      <th>Charging Time (hh:mm:ss)</th>\n",
       "      <th>...</th>\n",
       "      <th>Longitude</th>\n",
       "      <th>Currency</th>\n",
       "      <th>Fee</th>\n",
       "      <th>Ended By</th>\n",
       "      <th>Plug In Event Id</th>\n",
       "      <th>Driver Postal Code</th>\n",
       "      <th>User ID</th>\n",
       "      <th>County</th>\n",
       "      <th>System S/N</th>\n",
       "      <th>Model Number</th>\n",
       "    </tr>\n",
       "  </thead>\n",
       "  <tbody>\n",
       "    <tr>\n",
       "      <th>0</th>\n",
       "      <td>PALO ALTO CA / HAMILTON #1</td>\n",
       "      <td>000D:6F00:015A:9D76</td>\n",
       "      <td>City of Palo Alto</td>\n",
       "      <td>7/29/2011 20:17</td>\n",
       "      <td>PDT</td>\n",
       "      <td>7/29/2011 23:20</td>\n",
       "      <td>PDT</td>\n",
       "      <td>7/29/2011 23:20</td>\n",
       "      <td>03:03:32</td>\n",
       "      <td>01:54:03</td>\n",
       "      <td>...</td>\n",
       "      <td>-122.160309</td>\n",
       "      <td>USD</td>\n",
       "      <td>0.0</td>\n",
       "      <td>Plug Out at Vehicle</td>\n",
       "      <td>3</td>\n",
       "      <td>95124.0</td>\n",
       "      <td>3284</td>\n",
       "      <td>NaN</td>\n",
       "      <td>NaN</td>\n",
       "      <td>NaN</td>\n",
       "    </tr>\n",
       "    <tr>\n",
       "      <th>1</th>\n",
       "      <td>PALO ALTO CA / HAMILTON #1</td>\n",
       "      <td>000D:6F00:015A:9D76</td>\n",
       "      <td>City of Palo Alto</td>\n",
       "      <td>7/30/2011 0:00</td>\n",
       "      <td>PDT</td>\n",
       "      <td>7/30/2011 0:02</td>\n",
       "      <td>PDT</td>\n",
       "      <td>7/30/2011 0:02</td>\n",
       "      <td>00:02:06</td>\n",
       "      <td>00:01:54</td>\n",
       "      <td>...</td>\n",
       "      <td>-122.160309</td>\n",
       "      <td>USD</td>\n",
       "      <td>0.0</td>\n",
       "      <td>Customer</td>\n",
       "      <td>4</td>\n",
       "      <td>94301.0</td>\n",
       "      <td>4169</td>\n",
       "      <td>NaN</td>\n",
       "      <td>NaN</td>\n",
       "      <td>NaN</td>\n",
       "    </tr>\n",
       "    <tr>\n",
       "      <th>2</th>\n",
       "      <td>PALO ALTO CA / HAMILTON #1</td>\n",
       "      <td>000D:6F00:015A:9D76</td>\n",
       "      <td>City of Palo Alto</td>\n",
       "      <td>7/30/2011 8:16</td>\n",
       "      <td>PDT</td>\n",
       "      <td>7/30/2011 12:34</td>\n",
       "      <td>PDT</td>\n",
       "      <td>7/30/2011 12:34</td>\n",
       "      <td>04:17:32</td>\n",
       "      <td>04:17:28</td>\n",
       "      <td>...</td>\n",
       "      <td>-122.160309</td>\n",
       "      <td>USD</td>\n",
       "      <td>0.0</td>\n",
       "      <td>Plug Out at Vehicle</td>\n",
       "      <td>5</td>\n",
       "      <td>94301.0</td>\n",
       "      <td>4169</td>\n",
       "      <td>NaN</td>\n",
       "      <td>NaN</td>\n",
       "      <td>NaN</td>\n",
       "    </tr>\n",
       "    <tr>\n",
       "      <th>3</th>\n",
       "      <td>PALO ALTO CA / HAMILTON #1</td>\n",
       "      <td>000D:6F00:015A:9D76</td>\n",
       "      <td>City of Palo Alto</td>\n",
       "      <td>7/30/2011 14:51</td>\n",
       "      <td>PDT</td>\n",
       "      <td>7/30/2011 16:55</td>\n",
       "      <td>PDT</td>\n",
       "      <td>7/30/2011 16:55</td>\n",
       "      <td>02:03:24</td>\n",
       "      <td>02:02:58</td>\n",
       "      <td>...</td>\n",
       "      <td>-122.160309</td>\n",
       "      <td>USD</td>\n",
       "      <td>0.0</td>\n",
       "      <td>Customer</td>\n",
       "      <td>6</td>\n",
       "      <td>94302.0</td>\n",
       "      <td>2545</td>\n",
       "      <td>NaN</td>\n",
       "      <td>NaN</td>\n",
       "      <td>NaN</td>\n",
       "    </tr>\n",
       "    <tr>\n",
       "      <th>4</th>\n",
       "      <td>PALO ALTO CA / HAMILTON #1</td>\n",
       "      <td>000D:6F00:015A:9D76</td>\n",
       "      <td>City of Palo Alto</td>\n",
       "      <td>7/30/2011 18:51</td>\n",
       "      <td>PDT</td>\n",
       "      <td>7/30/2011 20:03</td>\n",
       "      <td>PDT</td>\n",
       "      <td>7/30/2011 20:03</td>\n",
       "      <td>01:11:24</td>\n",
       "      <td>00:43:54</td>\n",
       "      <td>...</td>\n",
       "      <td>-122.160309</td>\n",
       "      <td>USD</td>\n",
       "      <td>0.0</td>\n",
       "      <td>Plug Out at Vehicle</td>\n",
       "      <td>7</td>\n",
       "      <td>94043.0</td>\n",
       "      <td>3765</td>\n",
       "      <td>NaN</td>\n",
       "      <td>NaN</td>\n",
       "      <td>NaN</td>\n",
       "    </tr>\n",
       "  </tbody>\n",
       "</table>\n",
       "<p>5 rows × 33 columns</p>\n",
       "</div>"
      ],
      "text/plain": [
       "                 Station Name          MAC Address           Org Name  \\\n",
       "0  PALO ALTO CA / HAMILTON #1  000D:6F00:015A:9D76  City of Palo Alto   \n",
       "1  PALO ALTO CA / HAMILTON #1  000D:6F00:015A:9D76  City of Palo Alto   \n",
       "2  PALO ALTO CA / HAMILTON #1  000D:6F00:015A:9D76  City of Palo Alto   \n",
       "3  PALO ALTO CA / HAMILTON #1  000D:6F00:015A:9D76  City of Palo Alto   \n",
       "4  PALO ALTO CA / HAMILTON #1  000D:6F00:015A:9D76  City of Palo Alto   \n",
       "\n",
       "        Start Date Start Time Zone         End Date End Time Zone  \\\n",
       "0  7/29/2011 20:17             PDT  7/29/2011 23:20           PDT   \n",
       "1   7/30/2011 0:00             PDT   7/30/2011 0:02           PDT   \n",
       "2   7/30/2011 8:16             PDT  7/30/2011 12:34           PDT   \n",
       "3  7/30/2011 14:51             PDT  7/30/2011 16:55           PDT   \n",
       "4  7/30/2011 18:51             PDT  7/30/2011 20:03           PDT   \n",
       "\n",
       "  Transaction Date (Pacific Time) Total Duration (hh:mm:ss)  \\\n",
       "0                 7/29/2011 23:20                  03:03:32   \n",
       "1                  7/30/2011 0:02                  00:02:06   \n",
       "2                 7/30/2011 12:34                  04:17:32   \n",
       "3                 7/30/2011 16:55                  02:03:24   \n",
       "4                 7/30/2011 20:03                  01:11:24   \n",
       "\n",
       "  Charging Time (hh:mm:ss)  ...   Longitude  Currency  Fee  \\\n",
       "0                 01:54:03  ... -122.160309       USD  0.0   \n",
       "1                 00:01:54  ... -122.160309       USD  0.0   \n",
       "2                 04:17:28  ... -122.160309       USD  0.0   \n",
       "3                 02:02:58  ... -122.160309       USD  0.0   \n",
       "4                 00:43:54  ... -122.160309       USD  0.0   \n",
       "\n",
       "              Ended By  Plug In Event Id Driver Postal Code  User ID County  \\\n",
       "0  Plug Out at Vehicle                 3            95124.0     3284    NaN   \n",
       "1             Customer                 4            94301.0     4169    NaN   \n",
       "2  Plug Out at Vehicle                 5            94301.0     4169    NaN   \n",
       "3             Customer                 6            94302.0     2545    NaN   \n",
       "4  Plug Out at Vehicle                 7            94043.0     3765    NaN   \n",
       "\n",
       "  System S/N Model Number  \n",
       "0        NaN          NaN  \n",
       "1        NaN          NaN  \n",
       "2        NaN          NaN  \n",
       "3        NaN          NaN  \n",
       "4        NaN          NaN  \n",
       "\n",
       "[5 rows x 33 columns]"
      ]
     },
     "execution_count": 2,
     "metadata": {},
     "output_type": "execute_result"
    }
   ],
   "source": [
    "# replace the csv file path here\n",
    "dataFilePath = \"C:\\\\Users\\\\rajini bopparam\\\\Downloads\\\\EVChargingStationUsage.csv\"\n",
    "Data = pd.read_csv(dataFilePath, low_memory = False)\n",
    "# setting low_memory to false to ignore \"mixed data type\" warning \n",
    "\n",
    "Data.head()"
   ]
  },
  {
   "cell_type": "code",
   "execution_count": 3,
   "id": "91b14a81",
   "metadata": {},
   "outputs": [
    {
     "data": {
      "text/plain": [
       "(259415, 33)"
      ]
     },
     "execution_count": 3,
     "metadata": {},
     "output_type": "execute_result"
    }
   ],
   "source": [
    "Data.shape"
   ]
  },
  {
   "cell_type": "markdown",
   "id": "7bcd5424",
   "metadata": {},
   "source": [
    "Let's check the details of all columns"
   ]
  },
  {
   "cell_type": "code",
   "execution_count": 4,
   "id": "2c1eec06",
   "metadata": {
    "scrolled": true
   },
   "outputs": [
    {
     "name": "stdout",
     "output_type": "stream",
     "text": [
      "<class 'pandas.core.frame.DataFrame'>\n",
      "RangeIndex: 259415 entries, 0 to 259414\n",
      "Data columns (total 33 columns):\n",
      " #   Column                           Non-Null Count   Dtype  \n",
      "---  ------                           --------------   -----  \n",
      " 0   Station Name                     259415 non-null  object \n",
      " 1   MAC Address                      259415 non-null  object \n",
      " 2   Org Name                         259415 non-null  object \n",
      " 3   Start Date                       259415 non-null  object \n",
      " 4   Start Time Zone                  259415 non-null  object \n",
      " 5   End Date                         259415 non-null  object \n",
      " 6   End Time Zone                    259415 non-null  object \n",
      " 7   Transaction Date (Pacific Time)  259206 non-null  object \n",
      " 8   Total Duration (hh:mm:ss)        259415 non-null  object \n",
      " 9   Charging Time (hh:mm:ss)         259415 non-null  object \n",
      " 10  Energy (kWh)                     259415 non-null  float64\n",
      " 11  GHG Savings (kg)                 259415 non-null  float64\n",
      " 12  Gasoline Savings (gallons)       259415 non-null  float64\n",
      " 13  Port Type                        259406 non-null  object \n",
      " 14  Port Number                      259415 non-null  int64  \n",
      " 15  Plug Type                        259415 non-null  object \n",
      " 16  EVSE ID                          180467 non-null  float64\n",
      " 17  Address 1                        259415 non-null  object \n",
      " 18  City                             259415 non-null  object \n",
      " 19  State/Province                   259415 non-null  object \n",
      " 20  Postal Code                      259415 non-null  int64  \n",
      " 21  Country                          259415 non-null  object \n",
      " 22  Latitude                         259415 non-null  float64\n",
      " 23  Longitude                        259415 non-null  float64\n",
      " 24  Currency                         257627 non-null  object \n",
      " 25  Fee                              259415 non-null  float64\n",
      " 26  Ended By                         259167 non-null  object \n",
      " 27  Plug In Event Id                 259415 non-null  int64  \n",
      " 28  Driver Postal Code               251013 non-null  float64\n",
      " 29  User ID                          251738 non-null  object \n",
      " 30  County                           174750 non-null  object \n",
      " 31  System S/N                       180467 non-null  float64\n",
      " 32  Model Number                     180467 non-null  object \n",
      "dtypes: float64(9), int64(3), object(21)\n",
      "memory usage: 65.3+ MB\n"
     ]
    }
   ],
   "source": [
    "Data.info()"
   ]
  },
  {
   "cell_type": "code",
   "execution_count": 5,
   "id": "a65c7c9b",
   "metadata": {
    "scrolled": true
   },
   "outputs": [
    {
     "data": {
      "text/html": [
       "<div>\n",
       "<style scoped>\n",
       "    .dataframe tbody tr th:only-of-type {\n",
       "        vertical-align: middle;\n",
       "    }\n",
       "\n",
       "    .dataframe tbody tr th {\n",
       "        vertical-align: top;\n",
       "    }\n",
       "\n",
       "    .dataframe thead th {\n",
       "        text-align: right;\n",
       "    }\n",
       "</style>\n",
       "<table border=\"1\" class=\"dataframe\">\n",
       "  <thead>\n",
       "    <tr style=\"text-align: right;\">\n",
       "      <th></th>\n",
       "      <th>Energy (kWh)</th>\n",
       "      <th>GHG Savings (kg)</th>\n",
       "      <th>Gasoline Savings (gallons)</th>\n",
       "      <th>Port Number</th>\n",
       "      <th>EVSE ID</th>\n",
       "      <th>Postal Code</th>\n",
       "      <th>Latitude</th>\n",
       "      <th>Longitude</th>\n",
       "      <th>Fee</th>\n",
       "      <th>Plug In Event Id</th>\n",
       "      <th>Driver Postal Code</th>\n",
       "      <th>System S/N</th>\n",
       "    </tr>\n",
       "  </thead>\n",
       "  <tbody>\n",
       "    <tr>\n",
       "      <th>count</th>\n",
       "      <td>259415.000000</td>\n",
       "      <td>259415.000000</td>\n",
       "      <td>259415.000000</td>\n",
       "      <td>259415.000000</td>\n",
       "      <td>1.804670e+05</td>\n",
       "      <td>259415.000000</td>\n",
       "      <td>259415.000000</td>\n",
       "      <td>259415.000000</td>\n",
       "      <td>259415.000000</td>\n",
       "      <td>2.594150e+05</td>\n",
       "      <td>251013.000000</td>\n",
       "      <td>1.804670e+05</td>\n",
       "    </tr>\n",
       "    <tr>\n",
       "      <th>mean</th>\n",
       "      <td>8.544277</td>\n",
       "      <td>3.588596</td>\n",
       "      <td>1.072306</td>\n",
       "      <td>1.591627</td>\n",
       "      <td>1.462973e+05</td>\n",
       "      <td>94302.315768</td>\n",
       "      <td>37.439565</td>\n",
       "      <td>-122.151264</td>\n",
       "      <td>1.097481</td>\n",
       "      <td>1.188685e+08</td>\n",
       "      <td>94170.308255</td>\n",
       "      <td>1.443911e+11</td>\n",
       "    </tr>\n",
       "    <tr>\n",
       "      <th>std</th>\n",
       "      <td>7.185462</td>\n",
       "      <td>3.017894</td>\n",
       "      <td>0.901776</td>\n",
       "      <td>0.491534</td>\n",
       "      <td>2.429677e+05</td>\n",
       "      <td>1.941657</td>\n",
       "      <td>0.009621</td>\n",
       "      <td>0.015382</td>\n",
       "      <td>1.934408</td>\n",
       "      <td>4.057750e+08</td>\n",
       "      <td>4249.837126</td>\n",
       "      <td>2.483968e+10</td>\n",
       "    </tr>\n",
       "    <tr>\n",
       "      <th>min</th>\n",
       "      <td>0.010000</td>\n",
       "      <td>0.004000</td>\n",
       "      <td>0.001000</td>\n",
       "      <td>1.000000</td>\n",
       "      <td>3.792000e+03</td>\n",
       "      <td>94301.000000</td>\n",
       "      <td>37.422104</td>\n",
       "      <td>-122.163239</td>\n",
       "      <td>0.000000</td>\n",
       "      <td>1.000000e+00</td>\n",
       "      <td>1013.000000</td>\n",
       "      <td>1.020000e+11</td>\n",
       "    </tr>\n",
       "    <tr>\n",
       "      <th>25%</th>\n",
       "      <td>3.784000</td>\n",
       "      <td>1.589000</td>\n",
       "      <td>0.475000</td>\n",
       "      <td>1.000000</td>\n",
       "      <td>4.358300e+04</td>\n",
       "      <td>94301.000000</td>\n",
       "      <td>37.428318</td>\n",
       "      <td>-122.162170</td>\n",
       "      <td>0.000000</td>\n",
       "      <td>1.573000e+03</td>\n",
       "      <td>94087.000000</td>\n",
       "      <td>1.231100e+11</td>\n",
       "    </tr>\n",
       "    <tr>\n",
       "      <th>50%</th>\n",
       "      <td>6.868634</td>\n",
       "      <td>2.885000</td>\n",
       "      <td>0.862000</td>\n",
       "      <td>2.000000</td>\n",
       "      <td>1.074270e+05</td>\n",
       "      <td>94301.000000</td>\n",
       "      <td>37.444489</td>\n",
       "      <td>-122.158272</td>\n",
       "      <td>0.000000</td>\n",
       "      <td>3.573000e+03</td>\n",
       "      <td>94304.000000</td>\n",
       "      <td>1.427410e+11</td>\n",
       "    </tr>\n",
       "    <tr>\n",
       "      <th>75%</th>\n",
       "      <td>11.458340</td>\n",
       "      <td>4.813000</td>\n",
       "      <td>1.438000</td>\n",
       "      <td>2.000000</td>\n",
       "      <td>1.745590e+05</td>\n",
       "      <td>94303.000000</td>\n",
       "      <td>37.446613</td>\n",
       "      <td>-122.145699</td>\n",
       "      <td>1.640000</td>\n",
       "      <td>6.340000e+03</td>\n",
       "      <td>94804.000000</td>\n",
       "      <td>1.707410e+11</td>\n",
       "    </tr>\n",
       "    <tr>\n",
       "      <th>max</th>\n",
       "      <td>97.360000</td>\n",
       "      <td>40.891000</td>\n",
       "      <td>12.219000</td>\n",
       "      <td>2.000000</td>\n",
       "      <td>5.535441e+06</td>\n",
       "      <td>94306.000000</td>\n",
       "      <td>37.449375</td>\n",
       "      <td>-122.112480</td>\n",
       "      <td>84.560000</td>\n",
       "      <td>1.609436e+09</td>\n",
       "      <td>99354.000000</td>\n",
       "      <td>2.002410e+11</td>\n",
       "    </tr>\n",
       "  </tbody>\n",
       "</table>\n",
       "</div>"
      ],
      "text/plain": [
       "        Energy (kWh)  GHG Savings (kg)  Gasoline Savings (gallons)  \\\n",
       "count  259415.000000     259415.000000               259415.000000   \n",
       "mean        8.544277          3.588596                    1.072306   \n",
       "std         7.185462          3.017894                    0.901776   \n",
       "min         0.010000          0.004000                    0.001000   \n",
       "25%         3.784000          1.589000                    0.475000   \n",
       "50%         6.868634          2.885000                    0.862000   \n",
       "75%        11.458340          4.813000                    1.438000   \n",
       "max        97.360000         40.891000                   12.219000   \n",
       "\n",
       "         Port Number       EVSE ID    Postal Code       Latitude  \\\n",
       "count  259415.000000  1.804670e+05  259415.000000  259415.000000   \n",
       "mean        1.591627  1.462973e+05   94302.315768      37.439565   \n",
       "std         0.491534  2.429677e+05       1.941657       0.009621   \n",
       "min         1.000000  3.792000e+03   94301.000000      37.422104   \n",
       "25%         1.000000  4.358300e+04   94301.000000      37.428318   \n",
       "50%         2.000000  1.074270e+05   94301.000000      37.444489   \n",
       "75%         2.000000  1.745590e+05   94303.000000      37.446613   \n",
       "max         2.000000  5.535441e+06   94306.000000      37.449375   \n",
       "\n",
       "           Longitude            Fee  Plug In Event Id  Driver Postal Code  \\\n",
       "count  259415.000000  259415.000000      2.594150e+05       251013.000000   \n",
       "mean     -122.151264       1.097481      1.188685e+08        94170.308255   \n",
       "std         0.015382       1.934408      4.057750e+08         4249.837126   \n",
       "min      -122.163239       0.000000      1.000000e+00         1013.000000   \n",
       "25%      -122.162170       0.000000      1.573000e+03        94087.000000   \n",
       "50%      -122.158272       0.000000      3.573000e+03        94304.000000   \n",
       "75%      -122.145699       1.640000      6.340000e+03        94804.000000   \n",
       "max      -122.112480      84.560000      1.609436e+09        99354.000000   \n",
       "\n",
       "         System S/N  \n",
       "count  1.804670e+05  \n",
       "mean   1.443911e+11  \n",
       "std    2.483968e+10  \n",
       "min    1.020000e+11  \n",
       "25%    1.231100e+11  \n",
       "50%    1.427410e+11  \n",
       "75%    1.707410e+11  \n",
       "max    2.002410e+11  "
      ]
     },
     "execution_count": 5,
     "metadata": {},
     "output_type": "execute_result"
    }
   ],
   "source": [
    "Data.describe()"
   ]
  },
  {
   "cell_type": "markdown",
   "id": "a6bd5da9",
   "metadata": {},
   "source": [
    "The describe function above gives some of statistics for columns of numerical data types"
   ]
  },
  {
   "cell_type": "markdown",
   "id": "f921e953",
   "metadata": {},
   "source": [
    "Let's check the number of unique entries in each column"
   ]
  },
  {
   "cell_type": "code",
   "execution_count": 6,
   "id": "019545f7",
   "metadata": {},
   "outputs": [
    {
     "data": {
      "text/plain": [
       "Station Name                           47\n",
       "MAC Address                            83\n",
       "Org Name                                2\n",
       "Start Date                         244798\n",
       "Start Time Zone                         3\n",
       "End Date                           244159\n",
       "End Time Zone                           3\n",
       "Transaction Date (Pacific Time)    240905\n",
       "Total Duration (hh:mm:ss)           31025\n",
       "Charging Time (hh:mm:ss)            22473\n",
       "Energy (kWh)                       118061\n",
       "GHG Savings (kg)                    15535\n",
       "Gasoline Savings (gallons)           6333\n",
       "Port Type                               2\n",
       "Port Number                             2\n",
       "Plug Type                               2\n",
       "EVSE ID                                51\n",
       "Address 1                              20\n",
       "City                                    1\n",
       "State/Province                          1\n",
       "Postal Code                             3\n",
       "Country                                 1\n",
       "Latitude                               62\n",
       "Longitude                              64\n",
       "Currency                                4\n",
       "Fee                                  1817\n",
       "Ended By                               16\n",
       "Plug In Event Id                    36838\n",
       "Driver Postal Code                    985\n",
       "User ID                             21441\n",
       "County                                  2\n",
       "System S/N                             61\n",
       "Model Number                           10\n",
       "dtype: int64"
      ]
     },
     "execution_count": 6,
     "metadata": {},
     "output_type": "execute_result"
    }
   ],
   "source": [
    "Data.nunique()"
   ]
  },
  {
   "cell_type": "markdown",
   "id": "30e32d10",
   "metadata": {},
   "source": [
    "As we can see, there are certain columns like City, State and Country which have only a single value for all entries. Hence, these columns are not much useful for any interesting analysis!!"
   ]
  },
  {
   "cell_type": "markdown",
   "id": "520afb45",
   "metadata": {},
   "source": [
    "Box Plots"
   ]
  },
  {
   "cell_type": "code",
   "execution_count": 7,
   "id": "0b5eed94",
   "metadata": {},
   "outputs": [
    {
     "data": {
      "image/png": "[encoded data removed]",
      "text/plain": [
       "<Figure size 1152x288 with 4 Axes>"
      ]
     },
     "metadata": {
      "needs_background": "light"
     },
     "output_type": "display_data"
    }
   ],
   "source": [
    "fig, ax = plt.subplots(1, 4, figsize=(16, 4))\n",
    "\n",
    "sns.set_theme(style=\"whitegrid\")\n",
    "for axid, col in enumerate([\"Energy (kWh)\", \"GHG Savings (kg)\", \"Gasoline Savings (gallons)\",\"Fee\"]):\n",
    "    sns.boxplot(x=Data[col], ax=ax[axid])"
   ]
  },
  {
   "cell_type": "markdown",
   "id": "79b5ff31",
   "metadata": {},
   "source": [
    "From the boxplot, we can say that Energy, GHG Savings and Gasoline savings are **right skewed**."
   ]
  },
  {
   "cell_type": "markdown",
   "id": "0b350c8c",
   "metadata": {},
   "source": [
    "Is there a correlation between Energy and GHG(Green House Gases) savings?"
   ]
  },
  {
   "cell_type": "code",
   "execution_count": 11,
   "id": "415fca8b",
   "metadata": {},
   "outputs": [
    {
     "data": {
      "image/png": "[encoded data removed]",
      "text/plain": [
       "<Figure size 432x288 with 1 Axes>"
      ]
     },
     "metadata": {},
     "output_type": "display_data"
    }
   ],
   "source": [
    "sns.scatterplot(x=Data['Energy (kWh)'], y = Data['GHG Savings (kg)'])\n",
    "plt.show()"
   ]
  },
  {
   "cell_type": "markdown",
   "id": "49336edd",
   "metadata": {},
   "source": [
    "Is there a correlation between Energy and Gasoline savings?"
   ]
  },
  {
   "cell_type": "code",
   "execution_count": 12,
   "id": "910f1c17",
   "metadata": {},
   "outputs": [
    {
     "data": {
      "image/png": "[encoded data removed]",
      "text/plain": [
       "<Figure size 432x288 with 1 Axes>"
      ]
     },
     "metadata": {},
     "output_type": "display_data"
    }
   ],
   "source": [
    "sns.scatterplot(x=Data['Energy (kWh)'], y = Data['Gasoline Savings (gallons)'])\n",
    "plt.show()"
   ]
  },
  {
   "cell_type": "markdown",
   "id": "ab4dcbe8",
   "metadata": {},
   "source": [
    "GHG savings, Gasoline savings are almost perfectly correlated with Energy. Thus these columns can be ignored as they contain repetitive information."
   ]
  },
  {
   "cell_type": "code",
   "execution_count": 13,
   "id": "4f48ce29",
   "metadata": {},
   "outputs": [
    {
     "data": {
      "image/png": "[encoded data removed]",
      "text/plain": [
       "<Figure size 432x288 with 1 Axes>"
      ]
     },
     "metadata": {},
     "output_type": "display_data"
    }
   ],
   "source": [
    "sns.scatterplot(x=Data['Energy (kWh)'], y = Data['Fee'])\n",
    "plt.show()"
   ]
  },
  {
   "cell_type": "markdown",
   "id": "11230a32",
   "metadata": {},
   "source": [
    "Checking for NULL values in the dataset"
   ]
  },
  {
   "cell_type": "code",
   "execution_count": 14,
   "id": "f34c327d",
   "metadata": {},
   "outputs": [
    {
     "data": {
      "text/plain": [
       "Station Name                           0\n",
       "MAC Address                            0\n",
       "Org Name                               0\n",
       "Start Date                             0\n",
       "Start Time Zone                        0\n",
       "End Date                               0\n",
       "End Time Zone                          0\n",
       "Transaction Date (Pacific Time)      209\n",
       "Total Duration (hh:mm:ss)              0\n",
       "Charging Time (hh:mm:ss)               0\n",
       "Energy (kWh)                           0\n",
       "GHG Savings (kg)                       0\n",
       "Gasoline Savings (gallons)             0\n",
       "Port Type                              9\n",
       "Port Number                            0\n",
       "Plug Type                              0\n",
       "EVSE ID                            78948\n",
       "Address 1                              0\n",
       "City                                   0\n",
       "State/Province                         0\n",
       "Postal Code                            0\n",
       "Country                                0\n",
       "Latitude                               0\n",
       "Longitude                              0\n",
       "Currency                            1788\n",
       "Fee                                    0\n",
       "Ended By                             248\n",
       "Plug In Event Id                       0\n",
       "Driver Postal Code                  8402\n",
       "User ID                             7677\n",
       "County                             84665\n",
       "System S/N                         78948\n",
       "Model Number                       78948\n",
       "dtype: int64"
      ]
     },
     "execution_count": 14,
     "metadata": {},
     "output_type": "execute_result"
    }
   ],
   "source": [
    "Data.isnull().sum()"
   ]
  },
  {
   "cell_type": "markdown",
   "id": "e6ccd728",
   "metadata": {},
   "source": [
    "### <center>Data Preprocessing</center>"
   ]
  },
  {
   "cell_type": "markdown",
   "id": "a0d8707c",
   "metadata": {},
   "source": [
    "### <center>Regression Analysis</center>"
   ]
  },
  {
   "cell_type": "markdown",
   "id": "31c56401",
   "metadata": {},
   "source": [
    "---"
   ]
  },
  {
   "cell_type": "markdown",
   "id": "b75f06b3",
   "metadata": {},
   "source": [
    "### <center>THE END</center>"
   ]
  },
  {
   "cell_type": "markdown",
   "id": "4da99785",
   "metadata": {},
   "source": [
    "---"
   ]
  }
 ],
 "metadata": {
  "kernelspec": {
   "display_name": "Python 3 (ipykernel)",
   "language": "python",
   "name": "python3"
  },
  "language_info": {
   "codemirror_mode": {
    "name": "ipython",
    "version": 3
   },
   "file_extension": ".py",
   "mimetype": "text/x-python",
   "name": "python",
   "nbconvert_exporter": "python",
   "pygments_lexer": "ipython3",
   "version": "3.7.2"
  }
 },
 "nbformat": 4,
 "nbformat_minor": 5
}
