{
  "cells": [
    {
      "cell_type": "markdown",
      "id": "0e3347f8",
      "metadata": {
        "id": "0e3347f8"
      },
      "source": [
        "# <font size=6 color='green'><center>**IT 496 - Introduction to Data Mining**</center></font>\n",
        "### **<center>Course Project - 01<br/><br/>Data Preprocessing, EDA and Regression Analysis<center>**\n",
        "\n",
        " &emsp; **Group Name : <font color='#0099ff'>DataForce</font>** <br/>\n",
        " &emsp; **Group ID : <font color='#0099ff'>T06</font>**\n",
        " <br/>&emsp; **Dateset : <font color='#0099ff'>EV Charging Station</font>**"
      ]
    },
    {
      "cell_type": "markdown",
      "id": "651b62a1",
      "metadata": {
        "id": "651b62a1"
      },
      "source": [
        "### <center>Introduction </center>"
      ]
    },
    {
      "cell_type": "markdown",
      "id": "111a7757",
      "metadata": {
        "id": "111a7757"
      },
      "source": [
        "**Dataset Name**: Electric Vehicle(EV) Charging station<br/><br/>\n",
        "$\\hspace{1.5cm}$The EV Charging Station dataset provides the availability, use, and demand for EV charging facilities, which helps researchers, analysts, and businesses better understand the regional EV industry and sustainable transportation methods.Information on charging station locations, available charging connector types, charging session lengths, energy usage, and other pertinent metrics are all included in the data.\n",
        "<br/><br/>\n",
        "**Use**: To provide comprehensive insights into the usage patterns of Electric Vehicle(EV) charging stations in the city o f Palo Alto, California<br/>\n",
        "\n",
        "**Dataset Link**: https://www.kaggle.com/datasets/venkatsairo4899/ev-charging-station-usage-of-california-city"
      ]
    },
    {
      "cell_type": "markdown",
      "id": "a1ddbd7f",
      "metadata": {
        "id": "a1ddbd7f"
      },
      "source": [
        "### <center>Exploratory Data Analysis</center>"
      ]
    },
    {
      "cell_type": "code",
      "execution_count": 1,
      "id": "36230512",
      "metadata": {
        "id": "36230512"
      },
      "outputs": [],
      "source": [
        "# importing required libraries\n",
        "import numpy as np\n",
        "import pandas as pd\n",
        "import matplotlib.pyplot as plt\n",
        "import seaborn as sns"
      ]
    },
    {
      "cell_type": "markdown",
      "id": "9ae63774",
      "metadata": {
        "id": "9ae63774"
      },
      "source": [
        "Loading dataset"
      ]
    },
    {
      "cell_type": "code",
      "execution_count": 3,
      "id": "e33dfe73",
      "metadata": {
        "id": "e33dfe73",
        "outputId": "659117a2-a7c1-4bbe-b7c5-cb25fb9bbbb3",
        "colab": {
          "base_uri": "https://localhost:8080/",
          "height": 568
        }
      },
      "outputs": [
        {
          "output_type": "execute_result",
          "data": {
            "text/plain": [
              "                 Station Name          MAC Address           Org Name  \\\n",
              "0  PALO ALTO CA / HAMILTON #1  000D:6F00:015A:9D76  City of Palo Alto   \n",
              "1  PALO ALTO CA / HAMILTON #1  000D:6F00:015A:9D76  City of Palo Alto   \n",
              "2  PALO ALTO CA / HAMILTON #1  000D:6F00:015A:9D76  City of Palo Alto   \n",
              "3  PALO ALTO CA / HAMILTON #1  000D:6F00:015A:9D76  City of Palo Alto   \n",
              "4  PALO ALTO CA / HAMILTON #1  000D:6F00:015A:9D76  City of Palo Alto   \n",
              "\n",
              "        Start Date Start Time Zone         End Date End Time Zone  \\\n",
              "0  7/29/2011 20:17             PDT  7/29/2011 23:20           PDT   \n",
              "1   7/30/2011 0:00             PDT   7/30/2011 0:02           PDT   \n",
              "2   7/30/2011 8:16             PDT  7/30/2011 12:34           PDT   \n",
              "3  7/30/2011 14:51             PDT  7/30/2011 16:55           PDT   \n",
              "4  7/30/2011 18:51             PDT  7/30/2011 20:03           PDT   \n",
              "\n",
              "  Transaction Date (Pacific Time) Total Duration (hh:mm:ss)  \\\n",
              "0                 7/29/2011 23:20                   3:03:32   \n",
              "1                  7/30/2011 0:02                   0:02:06   \n",
              "2                 7/30/2011 12:34                   4:17:32   \n",
              "3                 7/30/2011 16:55                   2:03:24   \n",
              "4                 7/30/2011 20:03                   1:11:24   \n",
              "\n",
              "  Charging Time (hh:mm:ss)  ...   Longitude  Currency  Fee  \\\n",
              "0                  1:54:03  ... -122.160309       USD  0.0   \n",
              "1                  0:01:54  ... -122.160309       USD  0.0   \n",
              "2                  4:17:28  ... -122.160309       USD  0.0   \n",
              "3                  2:02:58  ... -122.160309       USD  0.0   \n",
              "4                  0:43:54  ... -122.160309       USD  0.0   \n",
              "\n",
              "              Ended By  Plug In Event Id Driver Postal Code  User ID County  \\\n",
              "0  Plug Out at Vehicle               3.0            95124.0   3284.0    NaN   \n",
              "1             Customer               4.0            94301.0   4169.0    NaN   \n",
              "2  Plug Out at Vehicle               5.0            94301.0   4169.0    NaN   \n",
              "3             Customer               6.0            94302.0   2545.0    NaN   \n",
              "4  Plug Out at Vehicle               7.0            94043.0   3765.0    NaN   \n",
              "\n",
              "  System S/N Model Number  \n",
              "0        NaN          NaN  \n",
              "1        NaN          NaN  \n",
              "2        NaN          NaN  \n",
              "3        NaN          NaN  \n",
              "4        NaN          NaN  \n",
              "\n",
              "[5 rows x 33 columns]"
            ],
            "text/html": [
              "\n",
              "  <div id=\"df-d8b176ba-2831-4483-92c0-51be3d5b071f\" class=\"colab-df-container\">\n",
              "    <div>\n",
              "<style scoped>\n",
              "    .dataframe tbody tr th:only-of-type {\n",
              "        vertical-align: middle;\n",
              "    }\n",
              "\n",
              "    .dataframe tbody tr th {\n",
              "        vertical-align: top;\n",
              "    }\n",
              "\n",
              "    .dataframe thead th {\n",
              "        text-align: right;\n",
              "    }\n",
              "</style>\n",
              "<table border=\"1\" class=\"dataframe\">\n",
              "  <thead>\n",
              "    <tr style=\"text-align: right;\">\n",
              "      <th></th>\n",
              "      <th>Station Name</th>\n",
              "      <th>MAC Address</th>\n",
              "      <th>Org Name</th>\n",
              "      <th>Start Date</th>\n",
              "      <th>Start Time Zone</th>\n",
              "      <th>End Date</th>\n",
              "      <th>End Time Zone</th>\n",
              "      <th>Transaction Date (Pacific Time)</th>\n",
              "      <th>Total Duration (hh:mm:ss)</th>\n",
              "      <th>Charging Time (hh:mm:ss)</th>\n",
              "      <th>...</th>\n",
              "      <th>Longitude</th>\n",
              "      <th>Currency</th>\n",
              "      <th>Fee</th>\n",
              "      <th>Ended By</th>\n",
              "      <th>Plug In Event Id</th>\n",
              "      <th>Driver Postal Code</th>\n",
              "      <th>User ID</th>\n",
              "      <th>County</th>\n",
              "      <th>System S/N</th>\n",
              "      <th>Model Number</th>\n",
              "    </tr>\n",
              "  </thead>\n",
              "  <tbody>\n",
              "    <tr>\n",
              "      <th>0</th>\n",
              "      <td>PALO ALTO CA / HAMILTON #1</td>\n",
              "      <td>000D:6F00:015A:9D76</td>\n",
              "      <td>City of Palo Alto</td>\n",
              "      <td>7/29/2011 20:17</td>\n",
              "      <td>PDT</td>\n",
              "      <td>7/29/2011 23:20</td>\n",
              "      <td>PDT</td>\n",
              "      <td>7/29/2011 23:20</td>\n",
              "      <td>3:03:32</td>\n",
              "      <td>1:54:03</td>\n",
              "      <td>...</td>\n",
              "      <td>-122.160309</td>\n",
              "      <td>USD</td>\n",
              "      <td>0.0</td>\n",
              "      <td>Plug Out at Vehicle</td>\n",
              "      <td>3.0</td>\n",
              "      <td>95124.0</td>\n",
              "      <td>3284.0</td>\n",
              "      <td>NaN</td>\n",
              "      <td>NaN</td>\n",
              "      <td>NaN</td>\n",
              "    </tr>\n",
              "    <tr>\n",
              "      <th>1</th>\n",
              "      <td>PALO ALTO CA / HAMILTON #1</td>\n",
              "      <td>000D:6F00:015A:9D76</td>\n",
              "      <td>City of Palo Alto</td>\n",
              "      <td>7/30/2011 0:00</td>\n",
              "      <td>PDT</td>\n",
              "      <td>7/30/2011 0:02</td>\n",
              "      <td>PDT</td>\n",
              "      <td>7/30/2011 0:02</td>\n",
              "      <td>0:02:06</td>\n",
              "      <td>0:01:54</td>\n",
              "      <td>...</td>\n",
              "      <td>-122.160309</td>\n",
              "      <td>USD</td>\n",
              "      <td>0.0</td>\n",
              "      <td>Customer</td>\n",
              "      <td>4.0</td>\n",
              "      <td>94301.0</td>\n",
              "      <td>4169.0</td>\n",
              "      <td>NaN</td>\n",
              "      <td>NaN</td>\n",
              "      <td>NaN</td>\n",
              "    </tr>\n",
              "    <tr>\n",
              "      <th>2</th>\n",
              "      <td>PALO ALTO CA / HAMILTON #1</td>\n",
              "      <td>000D:6F00:015A:9D76</td>\n",
              "      <td>City of Palo Alto</td>\n",
              "      <td>7/30/2011 8:16</td>\n",
              "      <td>PDT</td>\n",
              "      <td>7/30/2011 12:34</td>\n",
              "      <td>PDT</td>\n",
              "      <td>7/30/2011 12:34</td>\n",
              "      <td>4:17:32</td>\n",
              "      <td>4:17:28</td>\n",
              "      <td>...</td>\n",
              "      <td>-122.160309</td>\n",
              "      <td>USD</td>\n",
              "      <td>0.0</td>\n",
              "      <td>Plug Out at Vehicle</td>\n",
              "      <td>5.0</td>\n",
              "      <td>94301.0</td>\n",
              "      <td>4169.0</td>\n",
              "      <td>NaN</td>\n",
              "      <td>NaN</td>\n",
              "      <td>NaN</td>\n",
              "    </tr>\n",
              "    <tr>\n",
              "      <th>3</th>\n",
              "      <td>PALO ALTO CA / HAMILTON #1</td>\n",
              "      <td>000D:6F00:015A:9D76</td>\n",
              "      <td>City of Palo Alto</td>\n",
              "      <td>7/30/2011 14:51</td>\n",
              "      <td>PDT</td>\n",
              "      <td>7/30/2011 16:55</td>\n",
              "      <td>PDT</td>\n",
              "      <td>7/30/2011 16:55</td>\n",
              "      <td>2:03:24</td>\n",
              "      <td>2:02:58</td>\n",
              "      <td>...</td>\n",
              "      <td>-122.160309</td>\n",
              "      <td>USD</td>\n",
              "      <td>0.0</td>\n",
              "      <td>Customer</td>\n",
              "      <td>6.0</td>\n",
              "      <td>94302.0</td>\n",
              "      <td>2545.0</td>\n",
              "      <td>NaN</td>\n",
              "      <td>NaN</td>\n",
              "      <td>NaN</td>\n",
              "    </tr>\n",
              "    <tr>\n",
              "      <th>4</th>\n",
              "      <td>PALO ALTO CA / HAMILTON #1</td>\n",
              "      <td>000D:6F00:015A:9D76</td>\n",
              "      <td>City of Palo Alto</td>\n",
              "      <td>7/30/2011 18:51</td>\n",
              "      <td>PDT</td>\n",
              "      <td>7/30/2011 20:03</td>\n",
              "      <td>PDT</td>\n",
              "      <td>7/30/2011 20:03</td>\n",
              "      <td>1:11:24</td>\n",
              "      <td>0:43:54</td>\n",
              "      <td>...</td>\n",
              "      <td>-122.160309</td>\n",
              "      <td>USD</td>\n",
              "      <td>0.0</td>\n",
              "      <td>Plug Out at Vehicle</td>\n",
              "      <td>7.0</td>\n",
              "      <td>94043.0</td>\n",
              "      <td>3765.0</td>\n",
              "      <td>NaN</td>\n",
              "      <td>NaN</td>\n",
              "      <td>NaN</td>\n",
              "    </tr>\n",
              "  </tbody>\n",
              "</table>\n",
              "<p>5 rows × 33 columns</p>\n",
              "</div>\n",
              "    <div class=\"colab-df-buttons\">\n",
              "\n",
              "  <div class=\"colab-df-container\">\n",
              "    <button class=\"colab-df-convert\" onclick=\"convertToInteractive('df-d8b176ba-2831-4483-92c0-51be3d5b071f')\"\n",
              "            title=\"Convert this dataframe to an interactive table.\"\n",
              "            style=\"display:none;\">\n",
              "\n",
              "  <svg xmlns=\"http://www.w3.org/2000/svg\" height=\"24px\" viewBox=\"0 -960 960 960\">\n",
              "    <path d=\"M120-120v-720h720v720H120Zm60-500h600v-160H180v160Zm220 220h160v-160H400v160Zm0 220h160v-160H400v160ZM180-400h160v-160H180v160Zm440 0h160v-160H620v160ZM180-180h160v-160H180v160Zm440 0h160v-160H620v160Z\"/>\n",
              "  </svg>\n",
              "    </button>\n",
              "\n",
              "  <style>\n",
              "    .colab-df-container {\n",
              "      display:flex;\n",
              "      gap: 12px;\n",
              "    }\n",
              "\n",
              "    .colab-df-convert {\n",
              "      background-color: #E8F0FE;\n",
              "      border: none;\n",
              "      border-radius: 50%;\n",
              "      cursor: pointer;\n",
              "      display: none;\n",
              "      fill: #1967D2;\n",
              "      height: 32px;\n",
              "      padding: 0 0 0 0;\n",
              "      width: 32px;\n",
              "    }\n",
              "\n",
              "    .colab-df-convert:hover {\n",
              "      background-color: #E2EBFA;\n",
              "      box-shadow: 0px 1px 2px rgba(60, 64, 67, 0.3), 0px 1px 3px 1px rgba(60, 64, 67, 0.15);\n",
              "      fill: #174EA6;\n",
              "    }\n",
              "\n",
              "    .colab-df-buttons div {\n",
              "      margin-bottom: 4px;\n",
              "    }\n",
              "\n",
              "    [theme=dark] .colab-df-convert {\n",
              "      background-color: #3B4455;\n",
              "      fill: #D2E3FC;\n",
              "    }\n",
              "\n",
              "    [theme=dark] .colab-df-convert:hover {\n",
              "      background-color: #434B5C;\n",
              "      box-shadow: 0px 1px 3px 1px rgba(0, 0, 0, 0.15);\n",
              "      filter: drop-shadow(0px 1px 2px rgba(0, 0, 0, 0.3));\n",
              "      fill: #FFFFFF;\n",
              "    }\n",
              "  </style>\n",
              "\n",
              "    <script>\n",
              "      const buttonEl =\n",
              "        document.querySelector('#df-d8b176ba-2831-4483-92c0-51be3d5b071f button.colab-df-convert');\n",
              "      buttonEl.style.display =\n",
              "        google.colab.kernel.accessAllowed ? 'block' : 'none';\n",
              "\n",
              "      async function convertToInteractive(key) {\n",
              "        const element = document.querySelector('#df-d8b176ba-2831-4483-92c0-51be3d5b071f');\n",
              "        const dataTable =\n",
              "          await google.colab.kernel.invokeFunction('convertToInteractive',\n",
              "                                                    [key], {});\n",
              "        if (!dataTable) return;\n",
              "\n",
              "        const docLinkHtml = 'Like what you see? Visit the ' +\n",
              "          '<a target=\"_blank\" href=https://colab.research.google.com/notebooks/data_table.ipynb>data table notebook</a>'\n",
              "          + ' to learn more about interactive tables.';\n",
              "        element.innerHTML = '';\n",
              "        dataTable['output_type'] = 'display_data';\n",
              "        await google.colab.output.renderOutput(dataTable, element);\n",
              "        const docLink = document.createElement('div');\n",
              "        docLink.innerHTML = docLinkHtml;\n",
              "        element.appendChild(docLink);\n",
              "      }\n",
              "    </script>\n",
              "  </div>\n",
              "\n",
              "\n",
              "<div id=\"df-6f383365-7898-4af2-ab1e-fb5e8ebb0905\">\n",
              "  <button class=\"colab-df-quickchart\" onclick=\"quickchart('df-6f383365-7898-4af2-ab1e-fb5e8ebb0905')\"\n",
              "            title=\"Suggest charts.\"\n",
              "            style=\"display:none;\">\n",
              "\n",
              "<svg xmlns=\"http://www.w3.org/2000/svg\" height=\"24px\"viewBox=\"0 0 24 24\"\n",
              "     width=\"24px\">\n",
              "    <g>\n",
              "        <path d=\"M19 3H5c-1.1 0-2 .9-2 2v14c0 1.1.9 2 2 2h14c1.1 0 2-.9 2-2V5c0-1.1-.9-2-2-2zM9 17H7v-7h2v7zm4 0h-2V7h2v10zm4 0h-2v-4h2v4z\"/>\n",
              "    </g>\n",
              "</svg>\n",
              "  </button>\n",
              "\n",
              "<style>\n",
              "  .colab-df-quickchart {\n",
              "      --bg-color: #E8F0FE;\n",
              "      --fill-color: #1967D2;\n",
              "      --hover-bg-color: #E2EBFA;\n",
              "      --hover-fill-color: #174EA6;\n",
              "      --disabled-fill-color: #AAA;\n",
              "      --disabled-bg-color: #DDD;\n",
              "  }\n",
              "\n",
              "  [theme=dark] .colab-df-quickchart {\n",
              "      --bg-color: #3B4455;\n",
              "      --fill-color: #D2E3FC;\n",
              "      --hover-bg-color: #434B5C;\n",
              "      --hover-fill-color: #FFFFFF;\n",
              "      --disabled-bg-color: #3B4455;\n",
              "      --disabled-fill-color: #666;\n",
              "  }\n",
              "\n",
              "  .colab-df-quickchart {\n",
              "    background-color: var(--bg-color);\n",
              "    border: none;\n",
              "    border-radius: 50%;\n",
              "    cursor: pointer;\n",
              "    display: none;\n",
              "    fill: var(--fill-color);\n",
              "    height: 32px;\n",
              "    padding: 0;\n",
              "    width: 32px;\n",
              "  }\n",
              "\n",
              "  .colab-df-quickchart:hover {\n",
              "    background-color: var(--hover-bg-color);\n",
              "    box-shadow: 0 1px 2px rgba(60, 64, 67, 0.3), 0 1px 3px 1px rgba(60, 64, 67, 0.15);\n",
              "    fill: var(--button-hover-fill-color);\n",
              "  }\n",
              "\n",
              "  .colab-df-quickchart-complete:disabled,\n",
              "  .colab-df-quickchart-complete:disabled:hover {\n",
              "    background-color: var(--disabled-bg-color);\n",
              "    fill: var(--disabled-fill-color);\n",
              "    box-shadow: none;\n",
              "  }\n",
              "\n",
              "  .colab-df-spinner {\n",
              "    border: 2px solid var(--fill-color);\n",
              "    border-color: transparent;\n",
              "    border-bottom-color: var(--fill-color);\n",
              "    animation:\n",
              "      spin 1s steps(1) infinite;\n",
              "  }\n",
              "\n",
              "  @keyframes spin {\n",
              "    0% {\n",
              "      border-color: transparent;\n",
              "      border-bottom-color: var(--fill-color);\n",
              "      border-left-color: var(--fill-color);\n",
              "    }\n",
              "    20% {\n",
              "      border-color: transparent;\n",
              "      border-left-color: var(--fill-color);\n",
              "      border-top-color: var(--fill-color);\n",
              "    }\n",
              "    30% {\n",
              "      border-color: transparent;\n",
              "      border-left-color: var(--fill-color);\n",
              "      border-top-color: var(--fill-color);\n",
              "      border-right-color: var(--fill-color);\n",
              "    }\n",
              "    40% {\n",
              "      border-color: transparent;\n",
              "      border-right-color: var(--fill-color);\n",
              "      border-top-color: var(--fill-color);\n",
              "    }\n",
              "    60% {\n",
              "      border-color: transparent;\n",
              "      border-right-color: var(--fill-color);\n",
              "    }\n",
              "    80% {\n",
              "      border-color: transparent;\n",
              "      border-right-color: var(--fill-color);\n",
              "      border-bottom-color: var(--fill-color);\n",
              "    }\n",
              "    90% {\n",
              "      border-color: transparent;\n",
              "      border-bottom-color: var(--fill-color);\n",
              "    }\n",
              "  }\n",
              "</style>\n",
              "\n",
              "  <script>\n",
              "    async function quickchart(key) {\n",
              "      const quickchartButtonEl =\n",
              "        document.querySelector('#' + key + ' button');\n",
              "      quickchartButtonEl.disabled = true;  // To prevent multiple clicks.\n",
              "      quickchartButtonEl.classList.add('colab-df-spinner');\n",
              "      try {\n",
              "        const charts = await google.colab.kernel.invokeFunction(\n",
              "            'suggestCharts', [key], {});\n",
              "      } catch (error) {\n",
              "        console.error('Error during call to suggestCharts:', error);\n",
              "      }\n",
              "      quickchartButtonEl.classList.remove('colab-df-spinner');\n",
              "      quickchartButtonEl.classList.add('colab-df-quickchart-complete');\n",
              "    }\n",
              "    (() => {\n",
              "      let quickchartButtonEl =\n",
              "        document.querySelector('#df-6f383365-7898-4af2-ab1e-fb5e8ebb0905 button');\n",
              "      quickchartButtonEl.style.display =\n",
              "        google.colab.kernel.accessAllowed ? 'block' : 'none';\n",
              "    })();\n",
              "  </script>\n",
              "</div>\n",
              "    </div>\n",
              "  </div>\n"
            ]
          },
          "metadata": {},
          "execution_count": 3
        }
      ],
      "source": [
        "# replace the csv file path here\n",
        "dataFilePath = \"EVChargingStationUsage.csv\"\n",
        "Data = pd.read_csv(dataFilePath, low_memory = False)\n",
        "# setting low_memory to false to ignore \"mixed data type\" warning\n",
        "\n",
        "Data.head()"
      ]
    },
    {
      "cell_type": "code",
      "execution_count": 4,
      "id": "91b14a81",
      "metadata": {
        "id": "91b14a81",
        "outputId": "36bb3c7e-d41a-42d2-a6b6-eb813a5902d1",
        "colab": {
          "base_uri": "https://localhost:8080/"
        }
      },
      "outputs": [
        {
          "output_type": "execute_result",
          "data": {
            "text/plain": [
              "(18139, 33)"
            ]
          },
          "metadata": {},
          "execution_count": 4
        }
      ],
      "source": [
        "Data.shape"
      ]
    },
    {
      "cell_type": "markdown",
      "id": "7bcd5424",
      "metadata": {
        "id": "7bcd5424"
      },
      "source": [
        "Let's check the details of all columns"
      ]
    },
    {
      "cell_type": "code",
      "execution_count": 5,
      "id": "2c1eec06",
      "metadata": {
        "scrolled": true,
        "id": "2c1eec06",
        "outputId": "770ff7e9-fdfa-46f1-fc84-826fb6dddb8b",
        "colab": {
          "base_uri": "https://localhost:8080/"
        }
      },
      "outputs": [
        {
          "output_type": "stream",
          "name": "stdout",
          "text": [
            "<class 'pandas.core.frame.DataFrame'>\n",
            "RangeIndex: 18139 entries, 0 to 18138\n",
            "Data columns (total 33 columns):\n",
            " #   Column                           Non-Null Count  Dtype  \n",
            "---  ------                           --------------  -----  \n",
            " 0   Station Name                     18139 non-null  object \n",
            " 1   MAC Address                      18139 non-null  object \n",
            " 2   Org Name                         18139 non-null  object \n",
            " 3   Start Date                       18139 non-null  object \n",
            " 4   Start Time Zone                  18139 non-null  object \n",
            " 5   End Date                         18139 non-null  object \n",
            " 6   End Time Zone                    18139 non-null  object \n",
            " 7   Transaction Date (Pacific Time)  18139 non-null  object \n",
            " 8   Total Duration (hh:mm:ss)        18139 non-null  object \n",
            " 9   Charging Time (hh:mm:ss)         18139 non-null  object \n",
            " 10  Energy (kWh)                     18139 non-null  float64\n",
            " 11  GHG Savings (kg)                 18139 non-null  float64\n",
            " 12  Gasoline Savings (gallons)       18139 non-null  float64\n",
            " 13  Port Type                        18139 non-null  object \n",
            " 14  Port Number                      18139 non-null  int64  \n",
            " 15  Plug Type                        18139 non-null  object \n",
            " 16  EVSE ID                          0 non-null      float64\n",
            " 17  Address 1                        18139 non-null  object \n",
            " 18  City                             18139 non-null  object \n",
            " 19  State/Province                   18139 non-null  object \n",
            " 20  Postal Code                      18139 non-null  int64  \n",
            " 21  Country                          18138 non-null  object \n",
            " 22  Latitude                         18138 non-null  float64\n",
            " 23  Longitude                        18138 non-null  float64\n",
            " 24  Currency                         16518 non-null  object \n",
            " 25  Fee                              18138 non-null  float64\n",
            " 26  Ended By                         18074 non-null  object \n",
            " 27  Plug In Event Id                 18138 non-null  float64\n",
            " 28  Driver Postal Code               17137 non-null  float64\n",
            " 29  User ID                          17560 non-null  float64\n",
            " 30  County                           0 non-null      float64\n",
            " 31  System S/N                       0 non-null      float64\n",
            " 32  Model Number                     0 non-null      float64\n",
            "dtypes: float64(13), int64(2), object(18)\n",
            "memory usage: 4.6+ MB\n"
          ]
        }
      ],
      "source": [
        "Data.info()"
      ]
    },
    {
      "cell_type": "code",
      "execution_count": 6,
      "id": "a65c7c9b",
      "metadata": {
        "scrolled": true,
        "id": "a65c7c9b",
        "outputId": "7c5c9887-76ff-4483-9c20-7724efe5d512",
        "colab": {
          "base_uri": "https://localhost:8080/",
          "height": 355
        }
      },
      "outputs": [
        {
          "output_type": "execute_result",
          "data": {
            "text/plain": [
              "       Energy (kWh)  GHG Savings (kg)  Gasoline Savings (gallons)  \\\n",
              "count  18139.000000      18139.000000                18139.000000   \n",
              "mean       6.856587          2.879768                    0.860500   \n",
              "std        5.607083          2.354979                    0.703686   \n",
              "min        0.010033          0.004000                    0.001000   \n",
              "25%        3.012503          1.265000                    0.378000   \n",
              "50%        5.857067          2.460000                    0.735000   \n",
              "75%        9.349546          3.927000                    1.173000   \n",
              "max       79.573486         33.421000                    9.986000   \n",
              "\n",
              "        Port Number  EVSE ID   Postal Code      Latitude     Longitude  \\\n",
              "count  18139.000000      0.0  18139.000000  18138.000000  18138.000000   \n",
              "mean       1.926126      NaN  94295.853189     37.445206   -122.161541   \n",
              "std        0.261573      NaN    693.178157      0.001154      0.001070   \n",
              "min        1.000000      NaN    943.000000     37.443676   -122.162880   \n",
              "25%        2.000000      NaN  94301.000000     37.444489   -122.162308   \n",
              "50%        2.000000      NaN  94301.000000     37.444607   -122.162140   \n",
              "75%        2.000000      NaN  94301.000000     37.446510   -122.160370   \n",
              "max        2.000000      NaN  94301.000000     37.446613   -122.160263   \n",
              "\n",
              "           Fee  Plug In Event Id  Driver Postal Code        User ID  County  \\\n",
              "count  18138.0      1.813800e+04        17137.000000   17560.000000     0.0   \n",
              "mean       0.0      4.853272e+07        94394.117640   70887.180239     NaN   \n",
              "std        0.0      2.521573e+08         2366.850527   62841.885288     NaN   \n",
              "min        0.0      3.000000e+00        10009.000000       0.000000     NaN   \n",
              "25%        0.0      9.110000e+02        94086.000000    5717.000000     NaN   \n",
              "50%        0.0      1.984000e+03        94303.000000   57993.000000     NaN   \n",
              "75%        0.0      3.082000e+03        95014.000000  133429.000000     NaN   \n",
              "max        0.0      1.389036e+09        98682.000000  203465.000000     NaN   \n",
              "\n",
              "       System S/N  Model Number  \n",
              "count         0.0           0.0  \n",
              "mean          NaN           NaN  \n",
              "std           NaN           NaN  \n",
              "min           NaN           NaN  \n",
              "25%           NaN           NaN  \n",
              "50%           NaN           NaN  \n",
              "75%           NaN           NaN  \n",
              "max           NaN           NaN  "
            ],
            "text/html": [
              "\n",
              "  <div id=\"df-7ee3b092-de41-4cd5-8ae1-a2b39cdcdc26\" class=\"colab-df-container\">\n",
              "    <div>\n",
              "<style scoped>\n",
              "    .dataframe tbody tr th:only-of-type {\n",
              "        vertical-align: middle;\n",
              "    }\n",
              "\n",
              "    .dataframe tbody tr th {\n",
              "        vertical-align: top;\n",
              "    }\n",
              "\n",
              "    .dataframe thead th {\n",
              "        text-align: right;\n",
              "    }\n",
              "</style>\n",
              "<table border=\"1\" class=\"dataframe\">\n",
              "  <thead>\n",
              "    <tr style=\"text-align: right;\">\n",
              "      <th></th>\n",
              "      <th>Energy (kWh)</th>\n",
              "      <th>GHG Savings (kg)</th>\n",
              "      <th>Gasoline Savings (gallons)</th>\n",
              "      <th>Port Number</th>\n",
              "      <th>EVSE ID</th>\n",
              "      <th>Postal Code</th>\n",
              "      <th>Latitude</th>\n",
              "      <th>Longitude</th>\n",
              "      <th>Fee</th>\n",
              "      <th>Plug In Event Id</th>\n",
              "      <th>Driver Postal Code</th>\n",
              "      <th>User ID</th>\n",
              "      <th>County</th>\n",
              "      <th>System S/N</th>\n",
              "      <th>Model Number</th>\n",
              "    </tr>\n",
              "  </thead>\n",
              "  <tbody>\n",
              "    <tr>\n",
              "      <th>count</th>\n",
              "      <td>18139.000000</td>\n",
              "      <td>18139.000000</td>\n",
              "      <td>18139.000000</td>\n",
              "      <td>18139.000000</td>\n",
              "      <td>0.0</td>\n",
              "      <td>18139.000000</td>\n",
              "      <td>18138.000000</td>\n",
              "      <td>18138.000000</td>\n",
              "      <td>18138.0</td>\n",
              "      <td>1.813800e+04</td>\n",
              "      <td>17137.000000</td>\n",
              "      <td>17560.000000</td>\n",
              "      <td>0.0</td>\n",
              "      <td>0.0</td>\n",
              "      <td>0.0</td>\n",
              "    </tr>\n",
              "    <tr>\n",
              "      <th>mean</th>\n",
              "      <td>6.856587</td>\n",
              "      <td>2.879768</td>\n",
              "      <td>0.860500</td>\n",
              "      <td>1.926126</td>\n",
              "      <td>NaN</td>\n",
              "      <td>94295.853189</td>\n",
              "      <td>37.445206</td>\n",
              "      <td>-122.161541</td>\n",
              "      <td>0.0</td>\n",
              "      <td>4.853272e+07</td>\n",
              "      <td>94394.117640</td>\n",
              "      <td>70887.180239</td>\n",
              "      <td>NaN</td>\n",
              "      <td>NaN</td>\n",
              "      <td>NaN</td>\n",
              "    </tr>\n",
              "    <tr>\n",
              "      <th>std</th>\n",
              "      <td>5.607083</td>\n",
              "      <td>2.354979</td>\n",
              "      <td>0.703686</td>\n",
              "      <td>0.261573</td>\n",
              "      <td>NaN</td>\n",
              "      <td>693.178157</td>\n",
              "      <td>0.001154</td>\n",
              "      <td>0.001070</td>\n",
              "      <td>0.0</td>\n",
              "      <td>2.521573e+08</td>\n",
              "      <td>2366.850527</td>\n",
              "      <td>62841.885288</td>\n",
              "      <td>NaN</td>\n",
              "      <td>NaN</td>\n",
              "      <td>NaN</td>\n",
              "    </tr>\n",
              "    <tr>\n",
              "      <th>min</th>\n",
              "      <td>0.010033</td>\n",
              "      <td>0.004000</td>\n",
              "      <td>0.001000</td>\n",
              "      <td>1.000000</td>\n",
              "      <td>NaN</td>\n",
              "      <td>943.000000</td>\n",
              "      <td>37.443676</td>\n",
              "      <td>-122.162880</td>\n",
              "      <td>0.0</td>\n",
              "      <td>3.000000e+00</td>\n",
              "      <td>10009.000000</td>\n",
              "      <td>0.000000</td>\n",
              "      <td>NaN</td>\n",
              "      <td>NaN</td>\n",
              "      <td>NaN</td>\n",
              "    </tr>\n",
              "    <tr>\n",
              "      <th>25%</th>\n",
              "      <td>3.012503</td>\n",
              "      <td>1.265000</td>\n",
              "      <td>0.378000</td>\n",
              "      <td>2.000000</td>\n",
              "      <td>NaN</td>\n",
              "      <td>94301.000000</td>\n",
              "      <td>37.444489</td>\n",
              "      <td>-122.162308</td>\n",
              "      <td>0.0</td>\n",
              "      <td>9.110000e+02</td>\n",
              "      <td>94086.000000</td>\n",
              "      <td>5717.000000</td>\n",
              "      <td>NaN</td>\n",
              "      <td>NaN</td>\n",
              "      <td>NaN</td>\n",
              "    </tr>\n",
              "    <tr>\n",
              "      <th>50%</th>\n",
              "      <td>5.857067</td>\n",
              "      <td>2.460000</td>\n",
              "      <td>0.735000</td>\n",
              "      <td>2.000000</td>\n",
              "      <td>NaN</td>\n",
              "      <td>94301.000000</td>\n",
              "      <td>37.444607</td>\n",
              "      <td>-122.162140</td>\n",
              "      <td>0.0</td>\n",
              "      <td>1.984000e+03</td>\n",
              "      <td>94303.000000</td>\n",
              "      <td>57993.000000</td>\n",
              "      <td>NaN</td>\n",
              "      <td>NaN</td>\n",
              "      <td>NaN</td>\n",
              "    </tr>\n",
              "    <tr>\n",
              "      <th>75%</th>\n",
              "      <td>9.349546</td>\n",
              "      <td>3.927000</td>\n",
              "      <td>1.173000</td>\n",
              "      <td>2.000000</td>\n",
              "      <td>NaN</td>\n",
              "      <td>94301.000000</td>\n",
              "      <td>37.446510</td>\n",
              "      <td>-122.160370</td>\n",
              "      <td>0.0</td>\n",
              "      <td>3.082000e+03</td>\n",
              "      <td>95014.000000</td>\n",
              "      <td>133429.000000</td>\n",
              "      <td>NaN</td>\n",
              "      <td>NaN</td>\n",
              "      <td>NaN</td>\n",
              "    </tr>\n",
              "    <tr>\n",
              "      <th>max</th>\n",
              "      <td>79.573486</td>\n",
              "      <td>33.421000</td>\n",
              "      <td>9.986000</td>\n",
              "      <td>2.000000</td>\n",
              "      <td>NaN</td>\n",
              "      <td>94301.000000</td>\n",
              "      <td>37.446613</td>\n",
              "      <td>-122.160263</td>\n",
              "      <td>0.0</td>\n",
              "      <td>1.389036e+09</td>\n",
              "      <td>98682.000000</td>\n",
              "      <td>203465.000000</td>\n",
              "      <td>NaN</td>\n",
              "      <td>NaN</td>\n",
              "      <td>NaN</td>\n",
              "    </tr>\n",
              "  </tbody>\n",
              "</table>\n",
              "</div>\n",
              "    <div class=\"colab-df-buttons\">\n",
              "\n",
              "  <div class=\"colab-df-container\">\n",
              "    <button class=\"colab-df-convert\" onclick=\"convertToInteractive('df-7ee3b092-de41-4cd5-8ae1-a2b39cdcdc26')\"\n",
              "            title=\"Convert this dataframe to an interactive table.\"\n",
              "            style=\"display:none;\">\n",
              "\n",
              "  <svg xmlns=\"http://www.w3.org/2000/svg\" height=\"24px\" viewBox=\"0 -960 960 960\">\n",
              "    <path d=\"M120-120v-720h720v720H120Zm60-500h600v-160H180v160Zm220 220h160v-160H400v160Zm0 220h160v-160H400v160ZM180-400h160v-160H180v160Zm440 0h160v-160H620v160ZM180-180h160v-160H180v160Zm440 0h160v-160H620v160Z\"/>\n",
              "  </svg>\n",
              "    </button>\n",
              "\n",
              "  <style>\n",
              "    .colab-df-container {\n",
              "      display:flex;\n",
              "      gap: 12px;\n",
              "    }\n",
              "\n",
              "    .colab-df-convert {\n",
              "      background-color: #E8F0FE;\n",
              "      border: none;\n",
              "      border-radius: 50%;\n",
              "      cursor: pointer;\n",
              "      display: none;\n",
              "      fill: #1967D2;\n",
              "      height: 32px;\n",
              "      padding: 0 0 0 0;\n",
              "      width: 32px;\n",
              "    }\n",
              "\n",
              "    .colab-df-convert:hover {\n",
              "      background-color: #E2EBFA;\n",
              "      box-shadow: 0px 1px 2px rgba(60, 64, 67, 0.3), 0px 1px 3px 1px rgba(60, 64, 67, 0.15);\n",
              "      fill: #174EA6;\n",
              "    }\n",
              "\n",
              "    .colab-df-buttons div {\n",
              "      margin-bottom: 4px;\n",
              "    }\n",
              "\n",
              "    [theme=dark] .colab-df-convert {\n",
              "      background-color: #3B4455;\n",
              "      fill: #D2E3FC;\n",
              "    }\n",
              "\n",
              "    [theme=dark] .colab-df-convert:hover {\n",
              "      background-color: #434B5C;\n",
              "      box-shadow: 0px 1px 3px 1px rgba(0, 0, 0, 0.15);\n",
              "      filter: drop-shadow(0px 1px 2px rgba(0, 0, 0, 0.3));\n",
              "      fill: #FFFFFF;\n",
              "    }\n",
              "  </style>\n",
              "\n",
              "    <script>\n",
              "      const buttonEl =\n",
              "        document.querySelector('#df-7ee3b092-de41-4cd5-8ae1-a2b39cdcdc26 button.colab-df-convert');\n",
              "      buttonEl.style.display =\n",
              "        google.colab.kernel.accessAllowed ? 'block' : 'none';\n",
              "\n",
              "      async function convertToInteractive(key) {\n",
              "        const element = document.querySelector('#df-7ee3b092-de41-4cd5-8ae1-a2b39cdcdc26');\n",
              "        const dataTable =\n",
              "          await google.colab.kernel.invokeFunction('convertToInteractive',\n",
              "                                                    [key], {});\n",
              "        if (!dataTable) return;\n",
              "\n",
              "        const docLinkHtml = 'Like what you see? Visit the ' +\n",
              "          '<a target=\"_blank\" href=https://colab.research.google.com/notebooks/data_table.ipynb>data table notebook</a>'\n",
              "          + ' to learn more about interactive tables.';\n",
              "        element.innerHTML = '';\n",
              "        dataTable['output_type'] = 'display_data';\n",
              "        await google.colab.output.renderOutput(dataTable, element);\n",
              "        const docLink = document.createElement('div');\n",
              "        docLink.innerHTML = docLinkHtml;\n",
              "        element.appendChild(docLink);\n",
              "      }\n",
              "    </script>\n",
              "  </div>\n",
              "\n",
              "\n",
              "<div id=\"df-727feab3-268f-4c4f-ae7e-06e0640e30a9\">\n",
              "  <button class=\"colab-df-quickchart\" onclick=\"quickchart('df-727feab3-268f-4c4f-ae7e-06e0640e30a9')\"\n",
              "            title=\"Suggest charts.\"\n",
              "            style=\"display:none;\">\n",
              "\n",
              "<svg xmlns=\"http://www.w3.org/2000/svg\" height=\"24px\"viewBox=\"0 0 24 24\"\n",
              "     width=\"24px\">\n",
              "    <g>\n",
              "        <path d=\"M19 3H5c-1.1 0-2 .9-2 2v14c0 1.1.9 2 2 2h14c1.1 0 2-.9 2-2V5c0-1.1-.9-2-2-2zM9 17H7v-7h2v7zm4 0h-2V7h2v10zm4 0h-2v-4h2v4z\"/>\n",
              "    </g>\n",
              "</svg>\n",
              "  </button>\n",
              "\n",
              "<style>\n",
              "  .colab-df-quickchart {\n",
              "      --bg-color: #E8F0FE;\n",
              "      --fill-color: #1967D2;\n",
              "      --hover-bg-color: #E2EBFA;\n",
              "      --hover-fill-color: #174EA6;\n",
              "      --disabled-fill-color: #AAA;\n",
              "      --disabled-bg-color: #DDD;\n",
              "  }\n",
              "\n",
              "  [theme=dark] .colab-df-quickchart {\n",
              "      --bg-color: #3B4455;\n",
              "      --fill-color: #D2E3FC;\n",
              "      --hover-bg-color: #434B5C;\n",
              "      --hover-fill-color: #FFFFFF;\n",
              "      --disabled-bg-color: #3B4455;\n",
              "      --disabled-fill-color: #666;\n",
              "  }\n",
              "\n",
              "  .colab-df-quickchart {\n",
              "    background-color: var(--bg-color);\n",
              "    border: none;\n",
              "    border-radius: 50%;\n",
              "    cursor: pointer;\n",
              "    display: none;\n",
              "    fill: var(--fill-color);\n",
              "    height: 32px;\n",
              "    padding: 0;\n",
              "    width: 32px;\n",
              "  }\n",
              "\n",
              "  .colab-df-quickchart:hover {\n",
              "    background-color: var(--hover-bg-color);\n",
              "    box-shadow: 0 1px 2px rgba(60, 64, 67, 0.3), 0 1px 3px 1px rgba(60, 64, 67, 0.15);\n",
              "    fill: var(--button-hover-fill-color);\n",
              "  }\n",
              "\n",
              "  .colab-df-quickchart-complete:disabled,\n",
              "  .colab-df-quickchart-complete:disabled:hover {\n",
              "    background-color: var(--disabled-bg-color);\n",
              "    fill: var(--disabled-fill-color);\n",
              "    box-shadow: none;\n",
              "  }\n",
              "\n",
              "  .colab-df-spinner {\n",
              "    border: 2px solid var(--fill-color);\n",
              "    border-color: transparent;\n",
              "    border-bottom-color: var(--fill-color);\n",
              "    animation:\n",
              "      spin 1s steps(1) infinite;\n",
              "  }\n",
              "\n",
              "  @keyframes spin {\n",
              "    0% {\n",
              "      border-color: transparent;\n",
              "      border-bottom-color: var(--fill-color);\n",
              "      border-left-color: var(--fill-color);\n",
              "    }\n",
              "    20% {\n",
              "      border-color: transparent;\n",
              "      border-left-color: var(--fill-color);\n",
              "      border-top-color: var(--fill-color);\n",
              "    }\n",
              "    30% {\n",
              "      border-color: transparent;\n",
              "      border-left-color: var(--fill-color);\n",
              "      border-top-color: var(--fill-color);\n",
              "      border-right-color: var(--fill-color);\n",
              "    }\n",
              "    40% {\n",
              "      border-color: transparent;\n",
              "      border-right-color: var(--fill-color);\n",
              "      border-top-color: var(--fill-color);\n",
              "    }\n",
              "    60% {\n",
              "      border-color: transparent;\n",
              "      border-right-color: var(--fill-color);\n",
              "    }\n",
              "    80% {\n",
              "      border-color: transparent;\n",
              "      border-right-color: var(--fill-color);\n",
              "      border-bottom-color: var(--fill-color);\n",
              "    }\n",
              "    90% {\n",
              "      border-color: transparent;\n",
              "      border-bottom-color: var(--fill-color);\n",
              "    }\n",
              "  }\n",
              "</style>\n",
              "\n",
              "  <script>\n",
              "    async function quickchart(key) {\n",
              "      const quickchartButtonEl =\n",
              "        document.querySelector('#' + key + ' button');\n",
              "      quickchartButtonEl.disabled = true;  // To prevent multiple clicks.\n",
              "      quickchartButtonEl.classList.add('colab-df-spinner');\n",
              "      try {\n",
              "        const charts = await google.colab.kernel.invokeFunction(\n",
              "            'suggestCharts', [key], {});\n",
              "      } catch (error) {\n",
              "        console.error('Error during call to suggestCharts:', error);\n",
              "      }\n",
              "      quickchartButtonEl.classList.remove('colab-df-spinner');\n",
              "      quickchartButtonEl.classList.add('colab-df-quickchart-complete');\n",
              "    }\n",
              "    (() => {\n",
              "      let quickchartButtonEl =\n",
              "        document.querySelector('#df-727feab3-268f-4c4f-ae7e-06e0640e30a9 button');\n",
              "      quickchartButtonEl.style.display =\n",
              "        google.colab.kernel.accessAllowed ? 'block' : 'none';\n",
              "    })();\n",
              "  </script>\n",
              "</div>\n",
              "    </div>\n",
              "  </div>\n"
            ]
          },
          "metadata": {},
          "execution_count": 6
        }
      ],
      "source": [
        "Data.describe()"
      ]
    },
    {
      "cell_type": "markdown",
      "id": "a6bd5da9",
      "metadata": {
        "id": "a6bd5da9"
      },
      "source": [
        "The describe function above gives some of statistics for columns of numerical data types"
      ]
    },
    {
      "cell_type": "markdown",
      "id": "f921e953",
      "metadata": {
        "id": "f921e953"
      },
      "source": [
        "Let's check the number of unique entries in each column"
      ]
    },
    {
      "cell_type": "code",
      "execution_count": 7,
      "id": "019545f7",
      "metadata": {
        "id": "019545f7",
        "outputId": "73264c04-76bb-4643-cdfb-bda402778993",
        "colab": {
          "base_uri": "https://localhost:8080/"
        }
      },
      "outputs": [
        {
          "output_type": "execute_result",
          "data": {
            "text/plain": [
              "Station Name                           5\n",
              "MAC Address                            6\n",
              "Org Name                               2\n",
              "Start Date                         17969\n",
              "Start Time Zone                        3\n",
              "End Date                           17886\n",
              "End Time Zone                          2\n",
              "Transaction Date (Pacific Time)    17915\n",
              "Total Duration (hh:mm:ss)          11629\n",
              "Charging Time (hh:mm:ss)            8895\n",
              "Energy (kWh)                       18123\n",
              "GHG Savings (kg)                    6436\n",
              "Gasoline Savings (gallons)          2613\n",
              "Port Type                              2\n",
              "Port Number                            2\n",
              "Plug Type                              2\n",
              "EVSE ID                                0\n",
              "Address 1                              3\n",
              "City                                   1\n",
              "State/Province                         1\n",
              "Postal Code                            2\n",
              "Country                                1\n",
              "Latitude                               7\n",
              "Longitude                              7\n",
              "Currency                               1\n",
              "Fee                                    1\n",
              "Ended By                              14\n",
              "Plug In Event Id                    5401\n",
              "Driver Postal Code                   247\n",
              "User ID                             1813\n",
              "County                                 0\n",
              "System S/N                             0\n",
              "Model Number                           0\n",
              "dtype: int64"
            ]
          },
          "metadata": {},
          "execution_count": 7
        }
      ],
      "source": [
        "Data.nunique()"
      ]
    },
    {
      "cell_type": "markdown",
      "id": "30e32d10",
      "metadata": {
        "id": "30e32d10"
      },
      "source": [
        "As we can see, there are certain columns like City, State and Country which have only a single value for all entries. Hence, these columns are not much useful for any interesting analysis!!"
      ]
    },
    {
      "cell_type": "markdown",
      "id": "520afb45",
      "metadata": {
        "id": "520afb45"
      },
      "source": [
        "Box Plots"
      ]
    },
    {
      "cell_type": "code",
      "execution_count": 8,
      "id": "0b5eed94",
      "metadata": {
        "id": "0b5eed94",
        "outputId": "0415d5eb-3912-4017-bbfe-c4452d808139",
        "colab": {
          "base_uri": "https://localhost:8080/",
          "height": 342
        }
      },
      "outputs": [
        {
          "output_type": "display_data",
          "data": {
            "text/plain": [
              "<Figure size 1600x400 with 4 Axes>"
            ],
            "image/png": "[encoded data removed]"
          },
          "metadata": {}
        }
      ],
      "source": [
        "fig, ax = plt.subplots(1, 4, figsize=(16, 4))\n",
        "\n",
        "sns.set_theme(style=\"whitegrid\")\n",
        "for axid, col in enumerate([\"Energy (kWh)\", \"GHG Savings (kg)\", \"Gasoline Savings (gallons)\",\"Fee\"]):\n",
        "    sns.boxplot(x=Data[col], ax=ax[axid])"
      ]
    },
    {
      "cell_type": "markdown",
      "id": "79b5ff31",
      "metadata": {
        "id": "79b5ff31"
      },
      "source": [
        "From the boxplot, we can say that Energy, GHG Savings and Gasoline savings are **right skewed**."
      ]
    },
    {
      "cell_type": "markdown",
      "id": "0b350c8c",
      "metadata": {
        "id": "0b350c8c"
      },
      "source": [
        "Is there a correlation between Energy and GHG(Green House Gases) savings?"
      ]
    },
    {
      "cell_type": "code",
      "execution_count": 9,
      "id": "415fca8b",
      "metadata": {
        "id": "415fca8b",
        "outputId": "6f9172d5-d212-4346-aa0f-16267cd73841",
        "colab": {
          "base_uri": "https://localhost:8080/",
          "height": 463
        }
      },
      "outputs": [
        {
          "output_type": "display_data",
          "data": {
            "text/plain": [
              "<Figure size 640x480 with 1 Axes>"
            ],
            "image/png": "[encoded data removed]"
          },
          "metadata": {}
        }
      ],
      "source": [
        "sns.scatterplot(x=Data['Energy (kWh)'], y = Data['GHG Savings (kg)'])\n",
        "plt.show()"
      ]
    },
    {
      "cell_type": "markdown",
      "id": "49336edd",
      "metadata": {
        "id": "49336edd"
      },
      "source": [
        "Is there a correlation between Energy and Gasoline savings?"
      ]
    },
    {
      "cell_type": "code",
      "execution_count": 10,
      "id": "910f1c17",
      "metadata": {
        "id": "910f1c17",
        "outputId": "88436cc2-b556-42fc-c3a9-b03bfd84d14d",
        "colab": {
          "base_uri": "https://localhost:8080/",
          "height": 458
        }
      },
      "outputs": [
        {
          "output_type": "display_data",
          "data": {
            "text/plain": [
              "<Figure size 640x480 with 1 Axes>"
            ],
            "image/png": "[encoded data removed]"
          },
          "metadata": {}
        }
      ],
      "source": [
        "sns.scatterplot(x=Data['Energy (kWh)'], y = Data['Gasoline Savings (gallons)'])\n",
        "plt.show()"
      ]
    },
    {
      "cell_type": "markdown",
      "id": "ab4dcbe8",
      "metadata": {
        "id": "ab4dcbe8"
      },
      "source": [
        "GHG savings, Gasoline savings are almost perfectly correlated with Energy. Thus these columns can be ignored as they contain repetitive information."
      ]
    },
    {
      "cell_type": "code",
      "execution_count": 11,
      "id": "4f48ce29",
      "metadata": {
        "id": "4f48ce29",
        "outputId": "9dd50a2f-28fd-4758-a357-b401c449e6c2",
        "colab": {
          "base_uri": "https://localhost:8080/",
          "height": 458
        }
      },
      "outputs": [
        {
          "output_type": "display_data",
          "data": {
            "text/plain": [
              "<Figure size 640x480 with 1 Axes>"
            ],
            "image/png": "[encoded data removed]"
          },
          "metadata": {}
        }
      ],
      "source": [
        "sns.scatterplot(x=Data['Energy (kWh)'], y = Data['Fee'])\n",
        "plt.show()"
      ]
    },
    {
      "cell_type": "markdown",
      "id": "11230a32",
      "metadata": {
        "id": "11230a32"
      },
      "source": [
        "Checking for NULL values in the dataset"
      ]
    },
    {
      "cell_type": "code",
      "execution_count": 12,
      "id": "f34c327d",
      "metadata": {
        "id": "f34c327d",
        "outputId": "d9346810-e5b2-44cb-9807-f838ec28de87",
        "colab": {
          "base_uri": "https://localhost:8080/"
        }
      },
      "outputs": [
        {
          "output_type": "execute_result",
          "data": {
            "text/plain": [
              "Station Name                           0\n",
              "MAC Address                            0\n",
              "Org Name                               0\n",
              "Start Date                             0\n",
              "Start Time Zone                        0\n",
              "End Date                               0\n",
              "End Time Zone                          0\n",
              "Transaction Date (Pacific Time)        0\n",
              "Total Duration (hh:mm:ss)              0\n",
              "Charging Time (hh:mm:ss)               0\n",
              "Energy (kWh)                           0\n",
              "GHG Savings (kg)                       0\n",
              "Gasoline Savings (gallons)             0\n",
              "Port Type                              0\n",
              "Port Number                            0\n",
              "Plug Type                              0\n",
              "EVSE ID                            18139\n",
              "Address 1                              0\n",
              "City                                   0\n",
              "State/Province                         0\n",
              "Postal Code                            0\n",
              "Country                                1\n",
              "Latitude                               1\n",
              "Longitude                              1\n",
              "Currency                            1621\n",
              "Fee                                    1\n",
              "Ended By                              65\n",
              "Plug In Event Id                       1\n",
              "Driver Postal Code                  1002\n",
              "User ID                              579\n",
              "County                             18139\n",
              "System S/N                         18139\n",
              "Model Number                       18139\n",
              "dtype: int64"
            ]
          },
          "metadata": {},
          "execution_count": 12
        }
      ],
      "source": [
        "Data.isnull().sum()"
      ]
    },
    {
      "cell_type": "code",
      "source": [
        "newData = Data[['Station Name','Charging Time (hh:mm:ss)','Port Type','Plug Type','Energy (kWh)']]\n",
        "sns.heatmap(data=newData.corr(), lw=1)\n",
        "plt.show()"
      ],
      "metadata": {
        "colab": {
          "base_uri": "https://localhost:8080/",
          "height": 495
        },
        "id": "bj_C5mtpdWy4",
        "outputId": "4732d62b-af28-49d7-927b-57a6f13cc10d"
      },
      "id": "bj_C5mtpdWy4",
      "execution_count": 14,
      "outputs": [
        {
          "output_type": "stream",
          "name": "stderr",
          "text": [
            "<ipython-input-14-43b6c8c46219>:2: FutureWarning: The default value of numeric_only in DataFrame.corr is deprecated. In a future version, it will default to False. Select only valid columns or specify the value of numeric_only to silence this warning.\n",
            "  sns.heatmap(data=newData.corr(), lw=1)\n"
          ]
        },
        {
          "output_type": "display_data",
          "data": {
            "text/plain": [
              "<Figure size 640x480 with 2 Axes>"
            ],
            "image/png": "[encoded data removed]"
          },
          "metadata": {}
        }
      ]
    },
    {
      "cell_type": "code",
      "source": [
        "sns.scatterplot(x=Data['Station Name'],y=Data['Energy (kWh)'])\n",
        "plt.show()"
      ],
      "metadata": {
        "colab": {
          "base_uri": "https://localhost:8080/",
          "height": 458
        },
        "id": "o0smyy7Xezts",
        "outputId": "a9efce0b-ad22-4d8d-db73-880512f3d751"
      },
      "id": "o0smyy7Xezts",
      "execution_count": 18,
      "outputs": [
        {
          "output_type": "display_data",
          "data": {
            "text/plain": [
              "<Figure size 640x480 with 1 Axes>"
            ],
            "image/png": "[encoded data removed]"
          },
          "metadata": {}
        }
      ]
    },
    {
      "cell_type": "markdown",
      "id": "e6ccd728",
      "metadata": {
        "id": "e6ccd728"
      },
      "source": [
        "### <center>Data Preprocessing</center>"
      ]
    },
    {
      "cell_type": "markdown",
      "id": "a0d8707c",
      "metadata": {
        "id": "a0d8707c"
      },
      "source": [
        "### <center>Regression Analysis</center>"
      ]
    },
    {
      "cell_type": "markdown",
      "id": "31c56401",
      "metadata": {
        "id": "31c56401"
      },
      "source": [
        "---"
      ]
    },
    {
      "cell_type": "markdown",
      "id": "b75f06b3",
      "metadata": {
        "id": "b75f06b3"
      },
      "source": [
        "### <center>THE END</center>"
      ]
    },
    {
      "cell_type": "markdown",
      "id": "4da99785",
      "metadata": {
        "id": "4da99785"
      },
      "source": [
        "---"
      ]
    }
  ],
  "metadata": {
    "kernelspec": {
      "display_name": "Python 3 (ipykernel)",
      "language": "python",
      "name": "python3"
    },
    "language_info": {
      "codemirror_mode": {
        "name": "ipython",
        "version": 3
      },
      "file_extension": ".py",
      "mimetype": "text/x-python",
      "name": "python",
      "nbconvert_exporter": "python",
      "pygments_lexer": "ipython3",
      "version": "3.7.2"
    },
    "colab": {
      "provenance": []
    }
  },
  "nbformat": 4,
  "nbformat_minor": 5
}